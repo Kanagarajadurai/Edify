{
  "cells": [
    {
      "cell_type": "code",
      "execution_count": 1,
      "id": "ebcc80d9",
      "metadata": {
        "execution": {
          "iopub.execute_input": "2024-08-18T05:00:26.512493Z",
          "iopub.status.busy": "2024-08-18T05:00:26.512046Z",
          "iopub.status.idle": "2024-08-18T05:00:29.415380Z",
          "shell.execute_reply": "2024-08-18T05:00:29.413983Z"
        },
        "papermill": {
          "duration": 2.933223,
          "end_time": "2024-08-18T05:00:29.418566",
          "exception": false,
          "start_time": "2024-08-18T05:00:26.485343",
          "status": "completed"
        },
        "tags": [],
        "id": "ebcc80d9"
      },
      "outputs": [],
      "source": [
        "import numpy as np\n",
        "import pandas as pd\n",
        "import matplotlib.pyplot as plt\n",
        "import seaborn as sns\n",
        "import re\n",
        "import warnings\n",
        "warnings.filterwarnings(\"ignore\")"
      ]
    },
    {
      "cell_type": "code",
      "execution_count": 5,
      "id": "b846a1dd",
      "metadata": {
        "execution": {
          "iopub.execute_input": "2024-08-18T05:00:29.470895Z",
          "iopub.status.busy": "2024-08-18T05:00:29.470303Z",
          "iopub.status.idle": "2024-08-18T05:00:30.190995Z",
          "shell.execute_reply": "2024-08-18T05:00:30.189710Z"
        },
        "papermill": {
          "duration": 0.749887,
          "end_time": "2024-08-18T05:00:30.193936",
          "exception": false,
          "start_time": "2024-08-18T05:00:29.444049",
          "status": "completed"
        },
        "tags": [],
        "id": "b846a1dd"
      },
      "outputs": [],
      "source": [
        "from sklearn.preprocessing import StandardScaler, OneHotEncoder, OrdinalEncoder\n",
        "from sklearn.impute import SimpleImputer, KNNImputer\n",
        "from sklearn.model_selection import train_test_split\n",
        "from sklearn.metrics import r2_score, mean_squared_error\n",
        "from sklearn.pipeline import Pipeline\n",
        "from sklearn.compose import ColumnTransformer"
      ]
    },
    {
      "cell_type": "code",
      "execution_count": 3,
      "id": "e081e43f",
      "metadata": {
        "execution": {
          "iopub.execute_input": "2024-08-18T05:00:30.245110Z",
          "iopub.status.busy": "2024-08-18T05:00:30.244725Z",
          "iopub.status.idle": "2024-08-18T05:00:30.638692Z",
          "shell.execute_reply": "2024-08-18T05:00:30.637378Z"
        },
        "papermill": {
          "duration": 0.422515,
          "end_time": "2024-08-18T05:00:30.641508",
          "exception": false,
          "start_time": "2024-08-18T05:00:30.218993",
          "status": "completed"
        },
        "tags": [],
        "id": "e081e43f"
      },
      "outputs": [],
      "source": [
        "from sklearn.linear_model import LinearRegression, Ridge, Lasso\n",
        "from sklearn.svm import SVR\n",
        "from sklearn.ensemble import RandomForestRegressor\n",
        "from xgboost import XGBRegressor"
      ]
    },
    {
      "cell_type": "code",
      "execution_count": 4,
      "id": "8660deb4",
      "metadata": {
        "execution": {
          "iopub.execute_input": "2024-08-18T05:00:30.695538Z",
          "iopub.status.busy": "2024-08-18T05:00:30.695112Z",
          "iopub.status.idle": "2024-08-18T05:00:30.708786Z",
          "shell.execute_reply": "2024-08-18T05:00:30.707297Z"
        },
        "papermill": {
          "duration": 0.043456,
          "end_time": "2024-08-18T05:00:30.711756",
          "exception": false,
          "start_time": "2024-08-18T05:00:30.668300",
          "status": "completed"
        },
        "tags": [],
        "id": "8660deb4"
      },
      "outputs": [],
      "source": [
        "import os\n",
        "for dirname, _, filenames in os.walk('/kaggle/input'):\n",
        "    for filename in filenames:\n",
        "        print(os.path.join(dirname, filename))"
      ]
    },
    {
      "cell_type": "code",
      "execution_count": 7,
      "id": "897f33d8",
      "metadata": {
        "execution": {
          "iopub.execute_input": "2024-08-18T05:00:30.763320Z",
          "iopub.status.busy": "2024-08-18T05:00:30.762903Z",
          "iopub.status.idle": "2024-08-18T05:00:30.851513Z",
          "shell.execute_reply": "2024-08-18T05:00:30.850191Z"
        },
        "papermill": {
          "duration": 0.117803,
          "end_time": "2024-08-18T05:00:30.854429",
          "exception": false,
          "start_time": "2024-08-18T05:00:30.736626",
          "status": "completed"
        },
        "tags": [],
        "colab": {
          "base_uri": "https://localhost:8080/",
          "height": 293
        },
        "id": "897f33d8",
        "outputId": "401c286d-07c8-4aa3-e77d-708be2b14d62"
      },
      "outputs": [
        {
          "output_type": "execute_result",
          "data": {
            "text/plain": [
              "    Brand  \\\n",
              "0  Lenovo   \n",
              "1    Dell   \n",
              "2      HP   \n",
              "3  Lenovo   \n",
              "4  Lenovo   \n",
              "\n",
              "                                                                Product_Description  \\\n",
              "0   Lenovo ThinkPad 14” HD Laptop PC Computer Core i5 16GB RAM 256GB SSD Windows 10   \n",
              "1    Dell Latitude 15.6\" Laptop Intel Core i5 64GB RAM 2TB SSD Wi-Fi Windows 11 Pro   \n",
              "2  NEW HP 15 Laptop. 15.6\" 1080p, i5-1135G7, 8GB RAM, 256GB SSD,Win 11 -15-dy2795wm   \n",
              "3  2024 Lenovo Ideapad Laptop 15 FHD Touch Intel i5 Upto 40GB RAM&2TB SSD Win 11Pro   \n",
              "4   2024 Lenovo Ideapad Laptop 15.6\" FHD Touch Intel i5 16GB RAM & 512GB Win 11 Pro   \n",
              "\n",
              "   Screen_Size RAM                Processor                     GPU  \\\n",
              "0         14.0  16   Intel Core i5 7th Gen.   Intel HD Graphics 520   \n",
              "1         15.6  64   Intel Core i5 8th Gen.  Intel UHD Graphics 620   \n",
              "2         15.6   8  Intel Core i5 11th Gen.  Intel Iris Xe Graphics   \n",
              "3         15.6  Up  Intel Core i5 11th Gen.  Intel Iris Xe Graphics   \n",
              "4         15.6  16  Intel Core i5 11th Gen.  Intel Iris Xe Graphics   \n",
              "\n",
              "                       GPU_Type   Resolution                Condition   Price  \n",
              "0  Integrated/On-Board Graphics          NaN  Very Good - Refurbished  189.99  \n",
              "1  Integrated/On-Board Graphics  1920 x 1080  Very Good - Refurbished  349.99  \n",
              "2  Integrated/On-Board Graphics  1920 x 1080                      New  369.95  \n",
              "3  Integrated/On-Board Graphics  1920 x 1080                      New  459.00  \n",
              "4  Integrated/On-Board Graphics  1920 x 1080                      New  499.00  "
            ],
            "text/html": [
              "\n",
              "  <div id=\"df-ea5a9323-60be-45b3-b5ae-7c808c2078bc\" class=\"colab-df-container\">\n",
              "    <div>\n",
              "<style scoped>\n",
              "    .dataframe tbody tr th:only-of-type {\n",
              "        vertical-align: middle;\n",
              "    }\n",
              "\n",
              "    .dataframe tbody tr th {\n",
              "        vertical-align: top;\n",
              "    }\n",
              "\n",
              "    .dataframe thead th {\n",
              "        text-align: right;\n",
              "    }\n",
              "</style>\n",
              "<table border=\"1\" class=\"dataframe\">\n",
              "  <thead>\n",
              "    <tr style=\"text-align: right;\">\n",
              "      <th></th>\n",
              "      <th>Brand</th>\n",
              "      <th>Product_Description</th>\n",
              "      <th>Screen_Size</th>\n",
              "      <th>RAM</th>\n",
              "      <th>Processor</th>\n",
              "      <th>GPU</th>\n",
              "      <th>GPU_Type</th>\n",
              "      <th>Resolution</th>\n",
              "      <th>Condition</th>\n",
              "      <th>Price</th>\n",
              "    </tr>\n",
              "  </thead>\n",
              "  <tbody>\n",
              "    <tr>\n",
              "      <th>0</th>\n",
              "      <td>Lenovo</td>\n",
              "      <td>Lenovo ThinkPad 14” HD Laptop PC Computer Core i5 16GB RAM 256GB SSD Windows 10</td>\n",
              "      <td>14.0</td>\n",
              "      <td>16</td>\n",
              "      <td>Intel Core i5 7th Gen.</td>\n",
              "      <td>Intel HD Graphics 520</td>\n",
              "      <td>Integrated/On-Board Graphics</td>\n",
              "      <td>NaN</td>\n",
              "      <td>Very Good - Refurbished</td>\n",
              "      <td>189.99</td>\n",
              "    </tr>\n",
              "    <tr>\n",
              "      <th>1</th>\n",
              "      <td>Dell</td>\n",
              "      <td>Dell Latitude 15.6\" Laptop Intel Core i5 64GB RAM 2TB SSD Wi-Fi Windows 11 Pro</td>\n",
              "      <td>15.6</td>\n",
              "      <td>64</td>\n",
              "      <td>Intel Core i5 8th Gen.</td>\n",
              "      <td>Intel UHD Graphics 620</td>\n",
              "      <td>Integrated/On-Board Graphics</td>\n",
              "      <td>1920 x 1080</td>\n",
              "      <td>Very Good - Refurbished</td>\n",
              "      <td>349.99</td>\n",
              "    </tr>\n",
              "    <tr>\n",
              "      <th>2</th>\n",
              "      <td>HP</td>\n",
              "      <td>NEW HP 15 Laptop. 15.6\" 1080p, i5-1135G7, 8GB RAM, 256GB SSD,Win 11 -15-dy2795wm</td>\n",
              "      <td>15.6</td>\n",
              "      <td>8</td>\n",
              "      <td>Intel Core i5 11th Gen.</td>\n",
              "      <td>Intel Iris Xe Graphics</td>\n",
              "      <td>Integrated/On-Board Graphics</td>\n",
              "      <td>1920 x 1080</td>\n",
              "      <td>New</td>\n",
              "      <td>369.95</td>\n",
              "    </tr>\n",
              "    <tr>\n",
              "      <th>3</th>\n",
              "      <td>Lenovo</td>\n",
              "      <td>2024 Lenovo Ideapad Laptop 15 FHD Touch Intel i5 Upto 40GB RAM&amp;2TB SSD Win 11Pro</td>\n",
              "      <td>15.6</td>\n",
              "      <td>Up</td>\n",
              "      <td>Intel Core i5 11th Gen.</td>\n",
              "      <td>Intel Iris Xe Graphics</td>\n",
              "      <td>Integrated/On-Board Graphics</td>\n",
              "      <td>1920 x 1080</td>\n",
              "      <td>New</td>\n",
              "      <td>459.00</td>\n",
              "    </tr>\n",
              "    <tr>\n",
              "      <th>4</th>\n",
              "      <td>Lenovo</td>\n",
              "      <td>2024 Lenovo Ideapad Laptop 15.6\" FHD Touch Intel i5 16GB RAM &amp; 512GB Win 11 Pro</td>\n",
              "      <td>15.6</td>\n",
              "      <td>16</td>\n",
              "      <td>Intel Core i5 11th Gen.</td>\n",
              "      <td>Intel Iris Xe Graphics</td>\n",
              "      <td>Integrated/On-Board Graphics</td>\n",
              "      <td>1920 x 1080</td>\n",
              "      <td>New</td>\n",
              "      <td>499.00</td>\n",
              "    </tr>\n",
              "  </tbody>\n",
              "</table>\n",
              "</div>\n",
              "    <div class=\"colab-df-buttons\">\n",
              "\n",
              "  <div class=\"colab-df-container\">\n",
              "    <button class=\"colab-df-convert\" onclick=\"convertToInteractive('df-ea5a9323-60be-45b3-b5ae-7c808c2078bc')\"\n",
              "            title=\"Convert this dataframe to an interactive table.\"\n",
              "            style=\"display:none;\">\n",
              "\n",
              "  <svg xmlns=\"http://www.w3.org/2000/svg\" height=\"24px\" viewBox=\"0 -960 960 960\">\n",
              "    <path d=\"M120-120v-720h720v720H120Zm60-500h600v-160H180v160Zm220 220h160v-160H400v160Zm0 220h160v-160H400v160ZM180-400h160v-160H180v160Zm440 0h160v-160H620v160ZM180-180h160v-160H180v160Zm440 0h160v-160H620v160Z\"/>\n",
              "  </svg>\n",
              "    </button>\n",
              "\n",
              "  <style>\n",
              "    .colab-df-container {\n",
              "      display:flex;\n",
              "      gap: 12px;\n",
              "    }\n",
              "\n",
              "    .colab-df-convert {\n",
              "      background-color: #E8F0FE;\n",
              "      border: none;\n",
              "      border-radius: 50%;\n",
              "      cursor: pointer;\n",
              "      display: none;\n",
              "      fill: #1967D2;\n",
              "      height: 32px;\n",
              "      padding: 0 0 0 0;\n",
              "      width: 32px;\n",
              "    }\n",
              "\n",
              "    .colab-df-convert:hover {\n",
              "      background-color: #E2EBFA;\n",
              "      box-shadow: 0px 1px 2px rgba(60, 64, 67, 0.3), 0px 1px 3px 1px rgba(60, 64, 67, 0.15);\n",
              "      fill: #174EA6;\n",
              "    }\n",
              "\n",
              "    .colab-df-buttons div {\n",
              "      margin-bottom: 4px;\n",
              "    }\n",
              "\n",
              "    [theme=dark] .colab-df-convert {\n",
              "      background-color: #3B4455;\n",
              "      fill: #D2E3FC;\n",
              "    }\n",
              "\n",
              "    [theme=dark] .colab-df-convert:hover {\n",
              "      background-color: #434B5C;\n",
              "      box-shadow: 0px 1px 3px 1px rgba(0, 0, 0, 0.15);\n",
              "      filter: drop-shadow(0px 1px 2px rgba(0, 0, 0, 0.3));\n",
              "      fill: #FFFFFF;\n",
              "    }\n",
              "  </style>\n",
              "\n",
              "    <script>\n",
              "      const buttonEl =\n",
              "        document.querySelector('#df-ea5a9323-60be-45b3-b5ae-7c808c2078bc button.colab-df-convert');\n",
              "      buttonEl.style.display =\n",
              "        google.colab.kernel.accessAllowed ? 'block' : 'none';\n",
              "\n",
              "      async function convertToInteractive(key) {\n",
              "        const element = document.querySelector('#df-ea5a9323-60be-45b3-b5ae-7c808c2078bc');\n",
              "        const dataTable =\n",
              "          await google.colab.kernel.invokeFunction('convertToInteractive',\n",
              "                                                    [key], {});\n",
              "        if (!dataTable) return;\n",
              "\n",
              "        const docLinkHtml = 'Like what you see? Visit the ' +\n",
              "          '<a target=\"_blank\" href=https://colab.research.google.com/notebooks/data_table.ipynb>data table notebook</a>'\n",
              "          + ' to learn more about interactive tables.';\n",
              "        element.innerHTML = '';\n",
              "        dataTable['output_type'] = 'display_data';\n",
              "        await google.colab.output.renderOutput(dataTable, element);\n",
              "        const docLink = document.createElement('div');\n",
              "        docLink.innerHTML = docLinkHtml;\n",
              "        element.appendChild(docLink);\n",
              "      }\n",
              "    </script>\n",
              "  </div>\n",
              "\n",
              "\n",
              "<div id=\"df-501b52cc-46b3-4bed-8342-7e4447e543e6\">\n",
              "  <button class=\"colab-df-quickchart\" onclick=\"quickchart('df-501b52cc-46b3-4bed-8342-7e4447e543e6')\"\n",
              "            title=\"Suggest charts\"\n",
              "            style=\"display:none;\">\n",
              "\n",
              "<svg xmlns=\"http://www.w3.org/2000/svg\" height=\"24px\"viewBox=\"0 0 24 24\"\n",
              "     width=\"24px\">\n",
              "    <g>\n",
              "        <path d=\"M19 3H5c-1.1 0-2 .9-2 2v14c0 1.1.9 2 2 2h14c1.1 0 2-.9 2-2V5c0-1.1-.9-2-2-2zM9 17H7v-7h2v7zm4 0h-2V7h2v10zm4 0h-2v-4h2v4z\"/>\n",
              "    </g>\n",
              "</svg>\n",
              "  </button>\n",
              "\n",
              "<style>\n",
              "  .colab-df-quickchart {\n",
              "      --bg-color: #E8F0FE;\n",
              "      --fill-color: #1967D2;\n",
              "      --hover-bg-color: #E2EBFA;\n",
              "      --hover-fill-color: #174EA6;\n",
              "      --disabled-fill-color: #AAA;\n",
              "      --disabled-bg-color: #DDD;\n",
              "  }\n",
              "\n",
              "  [theme=dark] .colab-df-quickchart {\n",
              "      --bg-color: #3B4455;\n",
              "      --fill-color: #D2E3FC;\n",
              "      --hover-bg-color: #434B5C;\n",
              "      --hover-fill-color: #FFFFFF;\n",
              "      --disabled-bg-color: #3B4455;\n",
              "      --disabled-fill-color: #666;\n",
              "  }\n",
              "\n",
              "  .colab-df-quickchart {\n",
              "    background-color: var(--bg-color);\n",
              "    border: none;\n",
              "    border-radius: 50%;\n",
              "    cursor: pointer;\n",
              "    display: none;\n",
              "    fill: var(--fill-color);\n",
              "    height: 32px;\n",
              "    padding: 0;\n",
              "    width: 32px;\n",
              "  }\n",
              "\n",
              "  .colab-df-quickchart:hover {\n",
              "    background-color: var(--hover-bg-color);\n",
              "    box-shadow: 0 1px 2px rgba(60, 64, 67, 0.3), 0 1px 3px 1px rgba(60, 64, 67, 0.15);\n",
              "    fill: var(--button-hover-fill-color);\n",
              "  }\n",
              "\n",
              "  .colab-df-quickchart-complete:disabled,\n",
              "  .colab-df-quickchart-complete:disabled:hover {\n",
              "    background-color: var(--disabled-bg-color);\n",
              "    fill: var(--disabled-fill-color);\n",
              "    box-shadow: none;\n",
              "  }\n",
              "\n",
              "  .colab-df-spinner {\n",
              "    border: 2px solid var(--fill-color);\n",
              "    border-color: transparent;\n",
              "    border-bottom-color: var(--fill-color);\n",
              "    animation:\n",
              "      spin 1s steps(1) infinite;\n",
              "  }\n",
              "\n",
              "  @keyframes spin {\n",
              "    0% {\n",
              "      border-color: transparent;\n",
              "      border-bottom-color: var(--fill-color);\n",
              "      border-left-color: var(--fill-color);\n",
              "    }\n",
              "    20% {\n",
              "      border-color: transparent;\n",
              "      border-left-color: var(--fill-color);\n",
              "      border-top-color: var(--fill-color);\n",
              "    }\n",
              "    30% {\n",
              "      border-color: transparent;\n",
              "      border-left-color: var(--fill-color);\n",
              "      border-top-color: var(--fill-color);\n",
              "      border-right-color: var(--fill-color);\n",
              "    }\n",
              "    40% {\n",
              "      border-color: transparent;\n",
              "      border-right-color: var(--fill-color);\n",
              "      border-top-color: var(--fill-color);\n",
              "    }\n",
              "    60% {\n",
              "      border-color: transparent;\n",
              "      border-right-color: var(--fill-color);\n",
              "    }\n",
              "    80% {\n",
              "      border-color: transparent;\n",
              "      border-right-color: var(--fill-color);\n",
              "      border-bottom-color: var(--fill-color);\n",
              "    }\n",
              "    90% {\n",
              "      border-color: transparent;\n",
              "      border-bottom-color: var(--fill-color);\n",
              "    }\n",
              "  }\n",
              "</style>\n",
              "\n",
              "  <script>\n",
              "    async function quickchart(key) {\n",
              "      const quickchartButtonEl =\n",
              "        document.querySelector('#' + key + ' button');\n",
              "      quickchartButtonEl.disabled = true;  // To prevent multiple clicks.\n",
              "      quickchartButtonEl.classList.add('colab-df-spinner');\n",
              "      try {\n",
              "        const charts = await google.colab.kernel.invokeFunction(\n",
              "            'suggestCharts', [key], {});\n",
              "      } catch (error) {\n",
              "        console.error('Error during call to suggestCharts:', error);\n",
              "      }\n",
              "      quickchartButtonEl.classList.remove('colab-df-spinner');\n",
              "      quickchartButtonEl.classList.add('colab-df-quickchart-complete');\n",
              "    }\n",
              "    (() => {\n",
              "      let quickchartButtonEl =\n",
              "        document.querySelector('#df-501b52cc-46b3-4bed-8342-7e4447e543e6 button');\n",
              "      quickchartButtonEl.style.display =\n",
              "        google.colab.kernel.accessAllowed ? 'block' : 'none';\n",
              "    })();\n",
              "  </script>\n",
              "</div>\n",
              "\n",
              "    </div>\n",
              "  </div>\n"
            ],
            "application/vnd.google.colaboratory.intrinsic+json": {
              "type": "dataframe",
              "variable_name": "df",
              "summary": "{\n  \"name\": \"df\",\n  \"rows\": 2952,\n  \"fields\": [\n    {\n      \"column\": \"Brand\",\n      \"properties\": {\n        \"dtype\": \"category\",\n        \"num_unique_values\": 25,\n        \"samples\": [\n          \"Panasonic\",\n          \"Dell Inc.\",\n          \"Lenovo\"\n        ],\n        \"semantic_type\": \"\",\n        \"description\": \"\"\n      }\n    },\n    {\n      \"column\": \"Product_Description\",\n      \"properties\": {\n        \"dtype\": \"string\",\n        \"num_unique_values\": 2952,\n        \"samples\": [\n          \"ASUS ROG Strix G15 15.6\\\" (512GB SSD, Intel Core i7-10750H, 2.6GHz, 8GB RAM)...\",\n          \"Dell PRECISION 3571 15\\\" FHD I5-12500H 512GB SSD 16GB W11P T600 IRCam FP Reader\",\n          \"NEW HP 15.6\\\" FHD Intel Core i7-1165G7 4.70GHz 512GB SSD 8GB RAM Silver Iris Xe\"\n        ],\n        \"semantic_type\": \"\",\n        \"description\": \"\"\n      }\n    },\n    {\n      \"column\": \"Screen_Size\",\n      \"properties\": {\n        \"dtype\": \"number\",\n        \"std\": 1.1753215864546125,\n        \"min\": 10.0,\n        \"max\": 18.0,\n        \"num_unique_values\": 28,\n        \"samples\": [\n          12.5,\n          15.55,\n          14.5\n        ],\n        \"semantic_type\": \"\",\n        \"description\": \"\"\n      }\n    },\n    {\n      \"column\": \"RAM\",\n      \"properties\": {\n        \"dtype\": \"category\",\n        \"num_unique_values\": 23,\n        \"samples\": [\n          \"up\",\n          \"4\",\n          \"16\"\n        ],\n        \"semantic_type\": \"\",\n        \"description\": \"\"\n      }\n    },\n    {\n      \"column\": \"Processor\",\n      \"properties\": {\n        \"dtype\": \"category\",\n        \"num_unique_values\": 48,\n        \"samples\": [\n          \"Intel Core i3 10th Gen.\",\n          \"Intel Core i3 5th Gen.\",\n          \"Intel Core i7 9th Gen.\"\n        ],\n        \"semantic_type\": \"\",\n        \"description\": \"\"\n      }\n    },\n    {\n      \"column\": \"GPU\",\n      \"properties\": {\n        \"dtype\": \"category\",\n        \"num_unique_values\": 220,\n        \"samples\": [\n          \"Intel HD Graphics 530 && Nvidia Quadro M1000M\",\n          \"AMD Radeon RX 540 4GB GDDR5\",\n          \"NVIDIA Quadro P1000\"\n        ],\n        \"semantic_type\": \"\",\n        \"description\": \"\"\n      }\n    },\n    {\n      \"column\": \"GPU_Type\",\n      \"properties\": {\n        \"dtype\": \"category\",\n        \"num_unique_values\": 8,\n        \"samples\": [\n          \"Dedicated Graphics\",\n          \"Iris Xe Graphics\",\n          \"Integrated/On-Board Graphics\"\n        ],\n        \"semantic_type\": \"\",\n        \"description\": \"\"\n      }\n    },\n    {\n      \"column\": \"Resolution\",\n      \"properties\": {\n        \"dtype\": \"category\",\n        \"num_unique_values\": 54,\n        \"samples\": [\n          \"2880 x 1920\",\n          \"1920X1080\",\n          \"1600 x 768\"\n        ],\n        \"semantic_type\": \"\",\n        \"description\": \"\"\n      }\n    },\n    {\n      \"column\": \"Condition\",\n      \"properties\": {\n        \"dtype\": \"category\",\n        \"num_unique_values\": 5,\n        \"samples\": [\n          \"New\",\n          \"Good - Refurbished\",\n          \"Open box\"\n        ],\n        \"semantic_type\": \"\",\n        \"description\": \"\"\n      }\n    },\n    {\n      \"column\": \"Price\",\n      \"properties\": {\n        \"dtype\": \"number\",\n        \"std\": 235.59287200551876,\n        \"min\": 0.0,\n        \"max\": 999.99,\n        \"num_unique_values\": 1119,\n        \"samples\": [\n          99.99,\n          585.0,\n          657.11\n        ],\n        \"semantic_type\": \"\",\n        \"description\": \"\"\n      }\n    }\n  ]\n}"
            }
          },
          "metadata": {},
          "execution_count": 7
        }
      ],
      "source": [
        "pd.set_option('display.max_colwidth', None)\n",
        "df = pd.read_csv(\"cleaned.csv\")\n",
        "df.head()"
      ]
    },
    {
      "cell_type": "markdown",
      "id": "206a26a6",
      "metadata": {
        "papermill": {
          "duration": 0.024747,
          "end_time": "2024-08-18T05:00:30.903987",
          "exception": false,
          "start_time": "2024-08-18T05:00:30.879240",
          "status": "completed"
        },
        "tags": [],
        "id": "206a26a6"
      },
      "source": [
        "## 1. Data Understanding"
      ]
    },
    {
      "cell_type": "code",
      "execution_count": 8,
      "id": "aedc6269",
      "metadata": {
        "execution": {
          "iopub.execute_input": "2024-08-18T05:00:30.958197Z",
          "iopub.status.busy": "2024-08-18T05:00:30.957247Z",
          "iopub.status.idle": "2024-08-18T05:00:30.965924Z",
          "shell.execute_reply": "2024-08-18T05:00:30.964410Z"
        },
        "papermill": {
          "duration": 0.038654,
          "end_time": "2024-08-18T05:00:30.969015",
          "exception": false,
          "start_time": "2024-08-18T05:00:30.930361",
          "status": "completed"
        },
        "tags": [],
        "colab": {
          "base_uri": "https://localhost:8080/",
          "height": 0
        },
        "id": "aedc6269",
        "outputId": "975903b3-9ed3-410a-ffd4-2a15d3e4aaf9"
      },
      "outputs": [
        {
          "output_type": "execute_result",
          "data": {
            "text/plain": [
              "(2952, 10)"
            ]
          },
          "metadata": {},
          "execution_count": 8
        }
      ],
      "source": [
        "df.shape"
      ]
    },
    {
      "cell_type": "code",
      "execution_count": 9,
      "id": "4524c752",
      "metadata": {
        "execution": {
          "iopub.execute_input": "2024-08-18T05:00:31.021757Z",
          "iopub.status.busy": "2024-08-18T05:00:31.021259Z",
          "iopub.status.idle": "2024-08-18T05:00:31.057029Z",
          "shell.execute_reply": "2024-08-18T05:00:31.055674Z"
        },
        "papermill": {
          "duration": 0.065812,
          "end_time": "2024-08-18T05:00:31.059832",
          "exception": false,
          "start_time": "2024-08-18T05:00:30.994020",
          "status": "completed"
        },
        "tags": [],
        "colab": {
          "base_uri": "https://localhost:8080/",
          "height": 0
        },
        "id": "4524c752",
        "outputId": "e4d67390-3825-415a-eedc-f48d1f35de64"
      },
      "outputs": [
        {
          "output_type": "stream",
          "name": "stdout",
          "text": [
            "<class 'pandas.core.frame.DataFrame'>\n",
            "RangeIndex: 2952 entries, 0 to 2951\n",
            "Data columns (total 10 columns):\n",
            " #   Column               Non-Null Count  Dtype  \n",
            "---  ------               --------------  -----  \n",
            " 0   Brand                2952 non-null   object \n",
            " 1   Product_Description  2952 non-null   object \n",
            " 2   Screen_Size          2952 non-null   float64\n",
            " 3   RAM                  2952 non-null   object \n",
            " 4   Processor            2952 non-null   object \n",
            " 5   GPU                  2604 non-null   object \n",
            " 6   GPU_Type             2718 non-null   object \n",
            " 7   Resolution           2565 non-null   object \n",
            " 8   Condition            2952 non-null   object \n",
            " 9   Price                2952 non-null   float64\n",
            "dtypes: float64(2), object(8)\n",
            "memory usage: 230.8+ KB\n"
          ]
        }
      ],
      "source": [
        "df.info()"
      ]
    },
    {
      "cell_type": "code",
      "execution_count": 10,
      "id": "c7d876ee",
      "metadata": {
        "execution": {
          "iopub.execute_input": "2024-08-18T05:00:31.115061Z",
          "iopub.status.busy": "2024-08-18T05:00:31.114634Z",
          "iopub.status.idle": "2024-08-18T05:00:31.137453Z",
          "shell.execute_reply": "2024-08-18T05:00:31.136105Z"
        },
        "papermill": {
          "duration": 0.054625,
          "end_time": "2024-08-18T05:00:31.140237",
          "exception": false,
          "start_time": "2024-08-18T05:00:31.085612",
          "status": "completed"
        },
        "tags": [],
        "colab": {
          "base_uri": "https://localhost:8080/",
          "height": 300
        },
        "id": "c7d876ee",
        "outputId": "03cd4694-bf65-4ccc-de7b-7ea92e98f870"
      },
      "outputs": [
        {
          "output_type": "execute_result",
          "data": {
            "text/plain": [
              "       Screen_Size        Price\n",
              "count  2952.000000  2952.000000\n",
              "mean     14.550237   517.552805\n",
              "std       1.175322   235.592872\n",
              "min      10.000000     0.000000\n",
              "25%      14.000000   325.990000\n",
              "50%      14.000000   489.990000\n",
              "75%      15.600000   699.000000\n",
              "max      18.000000   999.990000"
            ],
            "text/html": [
              "\n",
              "  <div id=\"df-ee4d0cdd-b06d-4b57-ad13-d44f970c0188\" class=\"colab-df-container\">\n",
              "    <div>\n",
              "<style scoped>\n",
              "    .dataframe tbody tr th:only-of-type {\n",
              "        vertical-align: middle;\n",
              "    }\n",
              "\n",
              "    .dataframe tbody tr th {\n",
              "        vertical-align: top;\n",
              "    }\n",
              "\n",
              "    .dataframe thead th {\n",
              "        text-align: right;\n",
              "    }\n",
              "</style>\n",
              "<table border=\"1\" class=\"dataframe\">\n",
              "  <thead>\n",
              "    <tr style=\"text-align: right;\">\n",
              "      <th></th>\n",
              "      <th>Screen_Size</th>\n",
              "      <th>Price</th>\n",
              "    </tr>\n",
              "  </thead>\n",
              "  <tbody>\n",
              "    <tr>\n",
              "      <th>count</th>\n",
              "      <td>2952.000000</td>\n",
              "      <td>2952.000000</td>\n",
              "    </tr>\n",
              "    <tr>\n",
              "      <th>mean</th>\n",
              "      <td>14.550237</td>\n",
              "      <td>517.552805</td>\n",
              "    </tr>\n",
              "    <tr>\n",
              "      <th>std</th>\n",
              "      <td>1.175322</td>\n",
              "      <td>235.592872</td>\n",
              "    </tr>\n",
              "    <tr>\n",
              "      <th>min</th>\n",
              "      <td>10.000000</td>\n",
              "      <td>0.000000</td>\n",
              "    </tr>\n",
              "    <tr>\n",
              "      <th>25%</th>\n",
              "      <td>14.000000</td>\n",
              "      <td>325.990000</td>\n",
              "    </tr>\n",
              "    <tr>\n",
              "      <th>50%</th>\n",
              "      <td>14.000000</td>\n",
              "      <td>489.990000</td>\n",
              "    </tr>\n",
              "    <tr>\n",
              "      <th>75%</th>\n",
              "      <td>15.600000</td>\n",
              "      <td>699.000000</td>\n",
              "    </tr>\n",
              "    <tr>\n",
              "      <th>max</th>\n",
              "      <td>18.000000</td>\n",
              "      <td>999.990000</td>\n",
              "    </tr>\n",
              "  </tbody>\n",
              "</table>\n",
              "</div>\n",
              "    <div class=\"colab-df-buttons\">\n",
              "\n",
              "  <div class=\"colab-df-container\">\n",
              "    <button class=\"colab-df-convert\" onclick=\"convertToInteractive('df-ee4d0cdd-b06d-4b57-ad13-d44f970c0188')\"\n",
              "            title=\"Convert this dataframe to an interactive table.\"\n",
              "            style=\"display:none;\">\n",
              "\n",
              "  <svg xmlns=\"http://www.w3.org/2000/svg\" height=\"24px\" viewBox=\"0 -960 960 960\">\n",
              "    <path d=\"M120-120v-720h720v720H120Zm60-500h600v-160H180v160Zm220 220h160v-160H400v160Zm0 220h160v-160H400v160ZM180-400h160v-160H180v160Zm440 0h160v-160H620v160ZM180-180h160v-160H180v160Zm440 0h160v-160H620v160Z\"/>\n",
              "  </svg>\n",
              "    </button>\n",
              "\n",
              "  <style>\n",
              "    .colab-df-container {\n",
              "      display:flex;\n",
              "      gap: 12px;\n",
              "    }\n",
              "\n",
              "    .colab-df-convert {\n",
              "      background-color: #E8F0FE;\n",
              "      border: none;\n",
              "      border-radius: 50%;\n",
              "      cursor: pointer;\n",
              "      display: none;\n",
              "      fill: #1967D2;\n",
              "      height: 32px;\n",
              "      padding: 0 0 0 0;\n",
              "      width: 32px;\n",
              "    }\n",
              "\n",
              "    .colab-df-convert:hover {\n",
              "      background-color: #E2EBFA;\n",
              "      box-shadow: 0px 1px 2px rgba(60, 64, 67, 0.3), 0px 1px 3px 1px rgba(60, 64, 67, 0.15);\n",
              "      fill: #174EA6;\n",
              "    }\n",
              "\n",
              "    .colab-df-buttons div {\n",
              "      margin-bottom: 4px;\n",
              "    }\n",
              "\n",
              "    [theme=dark] .colab-df-convert {\n",
              "      background-color: #3B4455;\n",
              "      fill: #D2E3FC;\n",
              "    }\n",
              "\n",
              "    [theme=dark] .colab-df-convert:hover {\n",
              "      background-color: #434B5C;\n",
              "      box-shadow: 0px 1px 3px 1px rgba(0, 0, 0, 0.15);\n",
              "      filter: drop-shadow(0px 1px 2px rgba(0, 0, 0, 0.3));\n",
              "      fill: #FFFFFF;\n",
              "    }\n",
              "  </style>\n",
              "\n",
              "    <script>\n",
              "      const buttonEl =\n",
              "        document.querySelector('#df-ee4d0cdd-b06d-4b57-ad13-d44f970c0188 button.colab-df-convert');\n",
              "      buttonEl.style.display =\n",
              "        google.colab.kernel.accessAllowed ? 'block' : 'none';\n",
              "\n",
              "      async function convertToInteractive(key) {\n",
              "        const element = document.querySelector('#df-ee4d0cdd-b06d-4b57-ad13-d44f970c0188');\n",
              "        const dataTable =\n",
              "          await google.colab.kernel.invokeFunction('convertToInteractive',\n",
              "                                                    [key], {});\n",
              "        if (!dataTable) return;\n",
              "\n",
              "        const docLinkHtml = 'Like what you see? Visit the ' +\n",
              "          '<a target=\"_blank\" href=https://colab.research.google.com/notebooks/data_table.ipynb>data table notebook</a>'\n",
              "          + ' to learn more about interactive tables.';\n",
              "        element.innerHTML = '';\n",
              "        dataTable['output_type'] = 'display_data';\n",
              "        await google.colab.output.renderOutput(dataTable, element);\n",
              "        const docLink = document.createElement('div');\n",
              "        docLink.innerHTML = docLinkHtml;\n",
              "        element.appendChild(docLink);\n",
              "      }\n",
              "    </script>\n",
              "  </div>\n",
              "\n",
              "\n",
              "<div id=\"df-f34a119a-d3aa-47c3-aa2f-cd759d09c980\">\n",
              "  <button class=\"colab-df-quickchart\" onclick=\"quickchart('df-f34a119a-d3aa-47c3-aa2f-cd759d09c980')\"\n",
              "            title=\"Suggest charts\"\n",
              "            style=\"display:none;\">\n",
              "\n",
              "<svg xmlns=\"http://www.w3.org/2000/svg\" height=\"24px\"viewBox=\"0 0 24 24\"\n",
              "     width=\"24px\">\n",
              "    <g>\n",
              "        <path d=\"M19 3H5c-1.1 0-2 .9-2 2v14c0 1.1.9 2 2 2h14c1.1 0 2-.9 2-2V5c0-1.1-.9-2-2-2zM9 17H7v-7h2v7zm4 0h-2V7h2v10zm4 0h-2v-4h2v4z\"/>\n",
              "    </g>\n",
              "</svg>\n",
              "  </button>\n",
              "\n",
              "<style>\n",
              "  .colab-df-quickchart {\n",
              "      --bg-color: #E8F0FE;\n",
              "      --fill-color: #1967D2;\n",
              "      --hover-bg-color: #E2EBFA;\n",
              "      --hover-fill-color: #174EA6;\n",
              "      --disabled-fill-color: #AAA;\n",
              "      --disabled-bg-color: #DDD;\n",
              "  }\n",
              "\n",
              "  [theme=dark] .colab-df-quickchart {\n",
              "      --bg-color: #3B4455;\n",
              "      --fill-color: #D2E3FC;\n",
              "      --hover-bg-color: #434B5C;\n",
              "      --hover-fill-color: #FFFFFF;\n",
              "      --disabled-bg-color: #3B4455;\n",
              "      --disabled-fill-color: #666;\n",
              "  }\n",
              "\n",
              "  .colab-df-quickchart {\n",
              "    background-color: var(--bg-color);\n",
              "    border: none;\n",
              "    border-radius: 50%;\n",
              "    cursor: pointer;\n",
              "    display: none;\n",
              "    fill: var(--fill-color);\n",
              "    height: 32px;\n",
              "    padding: 0;\n",
              "    width: 32px;\n",
              "  }\n",
              "\n",
              "  .colab-df-quickchart:hover {\n",
              "    background-color: var(--hover-bg-color);\n",
              "    box-shadow: 0 1px 2px rgba(60, 64, 67, 0.3), 0 1px 3px 1px rgba(60, 64, 67, 0.15);\n",
              "    fill: var(--button-hover-fill-color);\n",
              "  }\n",
              "\n",
              "  .colab-df-quickchart-complete:disabled,\n",
              "  .colab-df-quickchart-complete:disabled:hover {\n",
              "    background-color: var(--disabled-bg-color);\n",
              "    fill: var(--disabled-fill-color);\n",
              "    box-shadow: none;\n",
              "  }\n",
              "\n",
              "  .colab-df-spinner {\n",
              "    border: 2px solid var(--fill-color);\n",
              "    border-color: transparent;\n",
              "    border-bottom-color: var(--fill-color);\n",
              "    animation:\n",
              "      spin 1s steps(1) infinite;\n",
              "  }\n",
              "\n",
              "  @keyframes spin {\n",
              "    0% {\n",
              "      border-color: transparent;\n",
              "      border-bottom-color: var(--fill-color);\n",
              "      border-left-color: var(--fill-color);\n",
              "    }\n",
              "    20% {\n",
              "      border-color: transparent;\n",
              "      border-left-color: var(--fill-color);\n",
              "      border-top-color: var(--fill-color);\n",
              "    }\n",
              "    30% {\n",
              "      border-color: transparent;\n",
              "      border-left-color: var(--fill-color);\n",
              "      border-top-color: var(--fill-color);\n",
              "      border-right-color: var(--fill-color);\n",
              "    }\n",
              "    40% {\n",
              "      border-color: transparent;\n",
              "      border-right-color: var(--fill-color);\n",
              "      border-top-color: var(--fill-color);\n",
              "    }\n",
              "    60% {\n",
              "      border-color: transparent;\n",
              "      border-right-color: var(--fill-color);\n",
              "    }\n",
              "    80% {\n",
              "      border-color: transparent;\n",
              "      border-right-color: var(--fill-color);\n",
              "      border-bottom-color: var(--fill-color);\n",
              "    }\n",
              "    90% {\n",
              "      border-color: transparent;\n",
              "      border-bottom-color: var(--fill-color);\n",
              "    }\n",
              "  }\n",
              "</style>\n",
              "\n",
              "  <script>\n",
              "    async function quickchart(key) {\n",
              "      const quickchartButtonEl =\n",
              "        document.querySelector('#' + key + ' button');\n",
              "      quickchartButtonEl.disabled = true;  // To prevent multiple clicks.\n",
              "      quickchartButtonEl.classList.add('colab-df-spinner');\n",
              "      try {\n",
              "        const charts = await google.colab.kernel.invokeFunction(\n",
              "            'suggestCharts', [key], {});\n",
              "      } catch (error) {\n",
              "        console.error('Error during call to suggestCharts:', error);\n",
              "      }\n",
              "      quickchartButtonEl.classList.remove('colab-df-spinner');\n",
              "      quickchartButtonEl.classList.add('colab-df-quickchart-complete');\n",
              "    }\n",
              "    (() => {\n",
              "      let quickchartButtonEl =\n",
              "        document.querySelector('#df-f34a119a-d3aa-47c3-aa2f-cd759d09c980 button');\n",
              "      quickchartButtonEl.style.display =\n",
              "        google.colab.kernel.accessAllowed ? 'block' : 'none';\n",
              "    })();\n",
              "  </script>\n",
              "</div>\n",
              "\n",
              "    </div>\n",
              "  </div>\n"
            ],
            "application/vnd.google.colaboratory.intrinsic+json": {
              "type": "dataframe",
              "summary": "{\n  \"name\": \"df\",\n  \"rows\": 8,\n  \"fields\": [\n    {\n      \"column\": \"Screen_Size\",\n      \"properties\": {\n        \"dtype\": \"number\",\n        \"std\": 1039.2915835386486,\n        \"min\": 1.1753215864546125,\n        \"max\": 2952.0,\n        \"num_unique_values\": 7,\n        \"samples\": [\n          2952.0,\n          14.550237127371275,\n          15.6\n        ],\n        \"semantic_type\": \"\",\n        \"description\": \"\"\n      }\n    },\n    {\n      \"column\": \"Price\",\n      \"properties\": {\n        \"dtype\": \"number\",\n        \"std\": 928.6226135096426,\n        \"min\": 0.0,\n        \"max\": 2952.0,\n        \"num_unique_values\": 8,\n        \"samples\": [\n          517.5528048780487,\n          489.99,\n          2952.0\n        ],\n        \"semantic_type\": \"\",\n        \"description\": \"\"\n      }\n    }\n  ]\n}"
            }
          },
          "metadata": {},
          "execution_count": 10
        }
      ],
      "source": [
        "df.describe()"
      ]
    },
    {
      "cell_type": "code",
      "execution_count": 11,
      "id": "83b66528",
      "metadata": {
        "execution": {
          "iopub.execute_input": "2024-08-18T05:00:31.194557Z",
          "iopub.status.busy": "2024-08-18T05:00:31.193253Z",
          "iopub.status.idle": "2024-08-18T05:00:31.207009Z",
          "shell.execute_reply": "2024-08-18T05:00:31.205844Z"
        },
        "papermill": {
          "duration": 0.043726,
          "end_time": "2024-08-18T05:00:31.209941",
          "exception": false,
          "start_time": "2024-08-18T05:00:31.166215",
          "status": "completed"
        },
        "tags": [],
        "colab": {
          "base_uri": "https://localhost:8080/",
          "height": 398
        },
        "id": "83b66528",
        "outputId": "5e4ffb1c-1713-4fb7-f8e3-1e983c12b55a"
      },
      "outputs": [
        {
          "output_type": "execute_result",
          "data": {
            "text/plain": [
              "Resolution             387\n",
              "GPU                    348\n",
              "GPU_Type               234\n",
              "Brand                    0\n",
              "Product_Description      0\n",
              "Screen_Size              0\n",
              "RAM                      0\n",
              "Processor                0\n",
              "Condition                0\n",
              "Price                    0\n",
              "dtype: int64"
            ],
            "text/html": [
              "<div>\n",
              "<style scoped>\n",
              "    .dataframe tbody tr th:only-of-type {\n",
              "        vertical-align: middle;\n",
              "    }\n",
              "\n",
              "    .dataframe tbody tr th {\n",
              "        vertical-align: top;\n",
              "    }\n",
              "\n",
              "    .dataframe thead th {\n",
              "        text-align: right;\n",
              "    }\n",
              "</style>\n",
              "<table border=\"1\" class=\"dataframe\">\n",
              "  <thead>\n",
              "    <tr style=\"text-align: right;\">\n",
              "      <th></th>\n",
              "      <th>0</th>\n",
              "    </tr>\n",
              "  </thead>\n",
              "  <tbody>\n",
              "    <tr>\n",
              "      <th>Resolution</th>\n",
              "      <td>387</td>\n",
              "    </tr>\n",
              "    <tr>\n",
              "      <th>GPU</th>\n",
              "      <td>348</td>\n",
              "    </tr>\n",
              "    <tr>\n",
              "      <th>GPU_Type</th>\n",
              "      <td>234</td>\n",
              "    </tr>\n",
              "    <tr>\n",
              "      <th>Brand</th>\n",
              "      <td>0</td>\n",
              "    </tr>\n",
              "    <tr>\n",
              "      <th>Product_Description</th>\n",
              "      <td>0</td>\n",
              "    </tr>\n",
              "    <tr>\n",
              "      <th>Screen_Size</th>\n",
              "      <td>0</td>\n",
              "    </tr>\n",
              "    <tr>\n",
              "      <th>RAM</th>\n",
              "      <td>0</td>\n",
              "    </tr>\n",
              "    <tr>\n",
              "      <th>Processor</th>\n",
              "      <td>0</td>\n",
              "    </tr>\n",
              "    <tr>\n",
              "      <th>Condition</th>\n",
              "      <td>0</td>\n",
              "    </tr>\n",
              "    <tr>\n",
              "      <th>Price</th>\n",
              "      <td>0</td>\n",
              "    </tr>\n",
              "  </tbody>\n",
              "</table>\n",
              "</div><br><label><b>dtype:</b> int64</label>"
            ]
          },
          "metadata": {},
          "execution_count": 11
        }
      ],
      "source": [
        "df.isnull().sum().sort_values(ascending=False)"
      ]
    },
    {
      "cell_type": "code",
      "execution_count": 12,
      "id": "fd4e5d48",
      "metadata": {
        "execution": {
          "iopub.execute_input": "2024-08-18T05:00:31.267055Z",
          "iopub.status.busy": "2024-08-18T05:00:31.265843Z",
          "iopub.status.idle": "2024-08-18T05:00:31.282735Z",
          "shell.execute_reply": "2024-08-18T05:00:31.281412Z"
        },
        "papermill": {
          "duration": 0.049057,
          "end_time": "2024-08-18T05:00:31.285679",
          "exception": false,
          "start_time": "2024-08-18T05:00:31.236622",
          "status": "completed"
        },
        "tags": [],
        "colab": {
          "base_uri": "https://localhost:8080/",
          "height": 398
        },
        "id": "fd4e5d48",
        "outputId": "e7950fde-8caa-42b5-d8c9-cdd62444f58d"
      },
      "outputs": [
        {
          "output_type": "execute_result",
          "data": {
            "text/plain": [
              "Brand                    25\n",
              "Product_Description    2952\n",
              "Screen_Size              28\n",
              "RAM                      23\n",
              "Processor                48\n",
              "GPU                     220\n",
              "GPU_Type                  8\n",
              "Resolution               54\n",
              "Condition                 5\n",
              "Price                  1119\n",
              "dtype: int64"
            ],
            "text/html": [
              "<div>\n",
              "<style scoped>\n",
              "    .dataframe tbody tr th:only-of-type {\n",
              "        vertical-align: middle;\n",
              "    }\n",
              "\n",
              "    .dataframe tbody tr th {\n",
              "        vertical-align: top;\n",
              "    }\n",
              "\n",
              "    .dataframe thead th {\n",
              "        text-align: right;\n",
              "    }\n",
              "</style>\n",
              "<table border=\"1\" class=\"dataframe\">\n",
              "  <thead>\n",
              "    <tr style=\"text-align: right;\">\n",
              "      <th></th>\n",
              "      <th>0</th>\n",
              "    </tr>\n",
              "  </thead>\n",
              "  <tbody>\n",
              "    <tr>\n",
              "      <th>Brand</th>\n",
              "      <td>25</td>\n",
              "    </tr>\n",
              "    <tr>\n",
              "      <th>Product_Description</th>\n",
              "      <td>2952</td>\n",
              "    </tr>\n",
              "    <tr>\n",
              "      <th>Screen_Size</th>\n",
              "      <td>28</td>\n",
              "    </tr>\n",
              "    <tr>\n",
              "      <th>RAM</th>\n",
              "      <td>23</td>\n",
              "    </tr>\n",
              "    <tr>\n",
              "      <th>Processor</th>\n",
              "      <td>48</td>\n",
              "    </tr>\n",
              "    <tr>\n",
              "      <th>GPU</th>\n",
              "      <td>220</td>\n",
              "    </tr>\n",
              "    <tr>\n",
              "      <th>GPU_Type</th>\n",
              "      <td>8</td>\n",
              "    </tr>\n",
              "    <tr>\n",
              "      <th>Resolution</th>\n",
              "      <td>54</td>\n",
              "    </tr>\n",
              "    <tr>\n",
              "      <th>Condition</th>\n",
              "      <td>5</td>\n",
              "    </tr>\n",
              "    <tr>\n",
              "      <th>Price</th>\n",
              "      <td>1119</td>\n",
              "    </tr>\n",
              "  </tbody>\n",
              "</table>\n",
              "</div><br><label><b>dtype:</b> int64</label>"
            ]
          },
          "metadata": {},
          "execution_count": 12
        }
      ],
      "source": [
        "df.nunique()"
      ]
    },
    {
      "cell_type": "markdown",
      "id": "787a5a68",
      "metadata": {
        "papermill": {
          "duration": 0.027085,
          "end_time": "2024-08-18T05:00:31.395329",
          "exception": false,
          "start_time": "2024-08-18T05:00:31.368244",
          "status": "completed"
        },
        "tags": [],
        "id": "787a5a68"
      },
      "source": [
        "## 2. Data Preprocessing"
      ]
    },
    {
      "cell_type": "code",
      "execution_count": 13,
      "id": "8abe515e",
      "metadata": {
        "execution": {
          "iopub.execute_input": "2024-08-18T05:00:31.501445Z",
          "iopub.status.busy": "2024-08-18T05:00:31.500941Z",
          "iopub.status.idle": "2024-08-18T05:00:31.507748Z",
          "shell.execute_reply": "2024-08-18T05:00:31.506508Z"
        },
        "papermill": {
          "duration": 0.037682,
          "end_time": "2024-08-18T05:00:31.510555",
          "exception": false,
          "start_time": "2024-08-18T05:00:31.472873",
          "status": "completed"
        },
        "tags": [],
        "id": "8abe515e"
      },
      "outputs": [],
      "source": [
        "dfp = df.copy()"
      ]
    },
    {
      "cell_type": "code",
      "execution_count": 14,
      "id": "6145d8ac",
      "metadata": {
        "execution": {
          "iopub.execute_input": "2024-08-18T05:00:31.564759Z",
          "iopub.status.busy": "2024-08-18T05:00:31.564328Z",
          "iopub.status.idle": "2024-08-18T05:00:31.573061Z",
          "shell.execute_reply": "2024-08-18T05:00:31.571757Z"
        },
        "papermill": {
          "duration": 0.03889,
          "end_time": "2024-08-18T05:00:31.575607",
          "exception": false,
          "start_time": "2024-08-18T05:00:31.536717",
          "status": "completed"
        },
        "tags": [],
        "colab": {
          "base_uri": "https://localhost:8080/",
          "height": 0
        },
        "id": "6145d8ac",
        "outputId": "fa4914a0-daec-4406-d51b-a939e00cb411"
      },
      "outputs": [
        {
          "output_type": "execute_result",
          "data": {
            "text/plain": [
              "Index(['Brand', 'Product_Description', 'RAM', 'Processor', 'GPU', 'GPU_Type',\n",
              "       'Resolution', 'Condition'],\n",
              "      dtype='object')"
            ]
          },
          "metadata": {},
          "execution_count": 14
        }
      ],
      "source": [
        "cat_cols = dfp.select_dtypes(include='object').columns\n",
        "cat_cols"
      ]
    },
    {
      "cell_type": "code",
      "execution_count": 15,
      "id": "2b985472",
      "metadata": {
        "execution": {
          "iopub.execute_input": "2024-08-18T05:00:31.630342Z",
          "iopub.status.busy": "2024-08-18T05:00:31.629931Z",
          "iopub.status.idle": "2024-08-18T05:00:31.635881Z",
          "shell.execute_reply": "2024-08-18T05:00:31.634644Z"
        },
        "papermill": {
          "duration": 0.036245,
          "end_time": "2024-08-18T05:00:31.638441",
          "exception": false,
          "start_time": "2024-08-18T05:00:31.602196",
          "status": "completed"
        },
        "tags": [],
        "id": "2b985472"
      },
      "outputs": [],
      "source": [
        "def unique_vals(col):\n",
        "    print(f\"Details of the column {col} is: \\n {dfp[col].unique()}\")\n",
        "    print(\"-\"*100)"
      ]
    },
    {
      "cell_type": "code",
      "execution_count": 16,
      "id": "c74fce7d",
      "metadata": {
        "execution": {
          "iopub.execute_input": "2024-08-18T05:00:31.753270Z",
          "iopub.status.busy": "2024-08-18T05:00:31.752879Z",
          "iopub.status.idle": "2024-08-18T05:00:31.765937Z",
          "shell.execute_reply": "2024-08-18T05:00:31.764521Z"
        },
        "papermill": {
          "duration": 0.105674,
          "end_time": "2024-08-18T05:00:31.769884",
          "exception": false,
          "start_time": "2024-08-18T05:00:31.664210",
          "status": "completed"
        },
        "tags": [],
        "colab": {
          "base_uri": "https://localhost:8080/",
          "height": 0
        },
        "id": "c74fce7d",
        "outputId": "0c359d8d-bb63-45cb-c288-da82fce4ae0a"
      },
      "outputs": [
        {
          "output_type": "stream",
          "name": "stdout",
          "text": [
            "Details of the column Brand is: \n",
            " ['Lenovo' 'Dell' 'HP' 'Microsoft' 'Asus' 'Razer' 'MSI' 'Apple' 'Panasonic'\n",
            " 'LG' 'Samsung' 'Acer' 'Gateway' 'Huawei' 'Getac' 'Google' 'Dell Inc.'\n",
            " 'Chuwi' 'Sony' 'ByteSpeed' 'Eurocom' 'Gigabyte' 'AVITA' 'Intel' 'Ruggon']\n",
            "----------------------------------------------------------------------------------------------------\n",
            "Details of the column Product_Description is: \n",
            " ['Lenovo ThinkPad 14” HD Laptop PC Computer Core i5 16GB RAM 256GB SSD Windows 10'\n",
            " 'Dell Latitude 15.6\" Laptop Intel Core i5 64GB RAM 2TB SSD Wi-Fi Windows 11 Pro'\n",
            " 'NEW HP 15 Laptop. 15.6\" 1080p, i5-1135G7, 8GB RAM, 256GB SSD,Win 11 -15-dy2795wm'\n",
            " ...\n",
            " 'Dell Precision 5550 Workstation 15 15.6 Laptop Core i7 4k uhd Touchscreen F'\n",
            " 'HP 15 Laptop 15.6\" FHD i5-1135G7 8GB RAM 256GB SSD Win 11 -15-dy2795wm'\n",
            " '3 PCS Karlash 6 Column Undated Appointment Book – Six Person Daily and Hourly...']\n",
            "----------------------------------------------------------------------------------------------------\n",
            "Details of the column RAM is: \n",
            " ['16' '64' '8' 'Up' '32' '16gb' '8gb' '16GB' '24' '4' '40' '8GB' '32GB'\n",
            " '12' '4GB' 'up' '8GB,' '64gb' 'upto' '512' '20' '256' '16GB,']\n",
            "----------------------------------------------------------------------------------------------------\n",
            "Details of the column Processor is: \n",
            " ['Intel Core i5 7th Gen.' 'Intel Core i5 8th Gen.'\n",
            " 'Intel Core i5 11th Gen.' 'Intel Core i5 12th Gen.'\n",
            " 'Intel Core i7 13th Gen.' 'Intel Core i5 6th Gen.'\n",
            " 'Intel Core i7 7th Gen.' 'Intel Core i5 13th Gen.'\n",
            " 'Intel Core i7 12th Gen.' 'Intel Core i7 11th Gen.'\n",
            " 'Intel Core i7 8th Gen.' 'Intel Core i5 5th Gen.'\n",
            " 'Intel Core i5 10th Gen.' 'Intel Core i3 13th Gen.'\n",
            " 'Intel Core i3 12th Gen.' 'Intel Core i9 13th Gen.'\n",
            " 'AMD Ryzen 5 7000 Series' 'Intel Core i7 10th Gen.'\n",
            " 'AMD Ryzen 9 7000 Series' 'Intel Core i3 11th Gen.'\n",
            " 'Intel Core i9 9th Gen.' 'Intel Core i5 4th Gen.'\n",
            " 'AMD Ryzen 5 5000 Series' 'Intel Core i7 6th Gen.'\n",
            " 'Intel Core i3 6th Gen.' 'AMD Ryzen 7 5000 Series'\n",
            " 'Intel Core i7 9th Gen.' 'Intel Core i3 10th Gen.'\n",
            " 'AMD Ryzen 7 7000 Series' 'Intel Core i7 4th Gen.'\n",
            " 'Intel Core i3 8th Gen.' 'AMD Ryzen 3 4000 Series'\n",
            " 'Intel Core i9 11th Gen.' 'Intel Core i7 5th Gen.'\n",
            " 'Intel Core i3 4th Gen.' 'Intel Core i3 7th Gen.'\n",
            " 'Intel Core i9 8th Gen.' 'AMD Ryzen 5 6000 Series'\n",
            " 'Intel Core i9 12th Gen.' 'Intel Core i7 8th Gen. vPRO'\n",
            " 'Intel Core i3 5th Gen.' 'AMD Ryzen 3 3000 Series'\n",
            " 'AMD Ryzen 7 4000 Series' 'AMD Ryzen 5 3000 Series'\n",
            " 'Intel Core i9 10th Gen.' 'Intel Core i5 9th Gen.'\n",
            " 'AMD Ryzen 9 6000 Series' 'AMD Ryzen 7 6000 Series']\n",
            "----------------------------------------------------------------------------------------------------\n",
            "Details of the column GPU is: \n",
            " ['Intel HD Graphics 520' 'Intel UHD Graphics 620' 'Intel Iris Xe Graphics'\n",
            " 'Intel HD Graphics 620' 'Intel HD Graphics' 'NVIDIA Quadro M2200'\n",
            " 'NVIDIA GeForce RTX 3050' nan 'NVIDIA GeForce GTX 1070'\n",
            " 'Intel UHD Graphics' 'NVIDIA GeForce RTX 3060'\n",
            " 'NVIDIA GeForce RTX 3050 Ti' 'NVIDIA GeForce RTX 2050'\n",
            " 'Intel UHD Graphics 630' 'AMD Radeon Graphics' 'Intel Iris Graphics'\n",
            " 'Intel HD 520' 'Intel HD Graphics 615' 'NVIDIA GeForce RTX 4050'\n",
            " 'Intel Iris Plus Graphics G7' 'NVIDIA GeForce GTX 1650'\n",
            " 'NVIDIA RTX A1000' 'NVIDIA Quadro T2000' 'NVIDIA GeForce GTX 1660 Ti'\n",
            " 'Intel HD Graphics 630' 'NVIDIA Quadro P500' 'Intel Iris Plus Graphics.'\n",
            " 'Integrated' 'Intel(R) HD Graphics 620' 'Intel® Iris XE'\n",
            " 'Intel Iris Xe Graphic' 'INVIDIA RTX A1000' 'Intel® HD Graphics'\n",
            " 'NVIDIA Quadro M500M' 'Skylake GT2 [HD Graphics 520]'\n",
            " 'NVIDIA GeForce GTX 1650 Ti Max-Q' 'NVIDIA GeForce MX550'\n",
            " 'AMD Radeon Pro W5500M' 'Integrated Intel UHD Graphics'\n",
            " 'Intel UHD Graphics 615' 'NVIDIA GeForce MX150'\n",
            " 'NVIDIA GeForce RTX A1000' 'NVIDIA RTX A2000 8GB GDDR6'\n",
            " 'Intel HD Graphics 530' 'Intel(R) Iris(R) Xe Graphics'\n",
            " 'Intel Corporation CometLake-U GT2 [UHD Graphics]'\n",
            " 'NVIDIA RTX A1000 4GB GDDR6' 'NVIDIA GeForce MX450' 'NVIDIA QUADRO P500'\n",
            " 'NVIDIA GeForce RTX 3050 Ti Laptop GPU' 'Intel Integrated Graphics'\n",
            " 'NVIDIA RTX A1000, 6 GB GDDR6' 'NVIDIA GeForce GTX 1050 Ti'\n",
            " 'NVIDIA GeForce RTX 3060 6GB' 'AMD Radeon 540X' 'NVIDIA GeForce RTX2050'\n",
            " 'Iris Plus Graphics' 'Intel Iris Plus Graphics' 'Intel Iris Xe'\n",
            " 'NVIDIA RTX A500' 'NVIDIA Quadro P620'\n",
            " 'Intel HD Graphics 4600 & Nvidia GeForce GT730M' 'Iris Xe Graphics'\n",
            " 'NVIDIA Quadro T550' 'NVIDIA GeForce MX130'\n",
            " 'Intel Iris Plus Graphics 650' 'NVIDIA GeForce RTX 4060'\n",
            " 'Microsoft Basic Display Adapter' 'NVIDIA T600 Laptop GPU'\n",
            " 'Intel(R) UHD Graphics' 'NVIDIA RTX A1000 6GB GDDR6'\n",
            " 'NVIDIA Quadro RTX 4000' 'NVIDIA GeForce GTX 1060'\n",
            " 'nVidia GeForce RTX 2070 Super with Max-Q Design' 'NVIDIA RTX A2000'\n",
            " 'Intel Iris XE 80EU Graphics'\n",
            " 'Intel HD Graphics 4600 && Nvidia Quadro K1100M' 'NVIDIA Quadro M1000M'\n",
            " 'Intel(R) UHD Graphics 620' 'NVIDIA Quadro T500'\n",
            " 'nVidia GeForce RTX 4060' 'NVIDIA GeForce GTX 960'\n",
            " 'Intel HD Graphics 4600' 'NVIDIA T1200 Laptop GPU' 'NVIDIA GeForce MX350'\n",
            " 'Intel(R) UHD Graphics 630' 'AMD FirePro M4150 & Intel HD Graphics 5500'\n",
            " 'Intel HD Graphics 4600 && Nvidia Quadro K3100' 'NVIDIA T500 4GB GDDR6'\n",
            " 'Nvidia T1200' 'Nvidia GeForce 840M' 'NVIDIA QUADRO (M2200)'\n",
            " 'NVIDIA GeForce MX250' 'Intel UHD Graphics G1' 'NVIDIA Quadro P1000'\n",
            " 'NVIDIA RTX A1000 4GB' 'Intel FHD Graphics' 'AMD R7'\n",
            " 'Intel(R) HD Graphics 520' 'NVIDIA T550' 'Intel Iris XE Graphics'\n",
            " 'nVidia GeForce RTX 3060' 'Intel HD Graphics 4400'\n",
            " 'Intel(R) Iris(R) Plus Graphics' 'Intel Iris Plus Graphics 655 GPU'\n",
            " 'NVIDIA GeForce GTX 1050' 'Intel Core i5 11th Gen.' 'NVIDIA T500'\n",
            " 'NVIDIA Quadro P2000' 'NVIDIA GeForce RTX 2070 Super'\n",
            " 'NVIDIA GeForce RTX 3060 Laptop GPU' 'Intel Intel Uhd Graphics 620'\n",
            " 'NVIDIA Quadro T1000 4GB GDDR6' 'Intel Corporation UHD Graphics 620'\n",
            " 'NVIDIA Quadro T2000 4GB GDDR6' 'NVIDIA GeForce GTX 1080'\n",
            " 'NVIDIA® GeForce RTX™ 2080 with Max-Q Design' 'Intel® Iris® Xe Graphic'\n",
            " 'NVIDIA GeForce GTX 1650 Ti' 'NVIDIA GeForce RTX 2070'\n",
            " 'NVIDIA RTX A2000 Laptop GPU' 'Intel® UHD Graphics' 'AMD Radeon 660M'\n",
            " 'NVIDIA GeForce GTX 1650 Max-Q' 'Intel Corporation HD Graphics 620'\n",
            " 'Intel Iris Plus Graphics 640' 'NVIDIA Quadro T2000 Max-Q'\n",
            " 'radeon pro wx vega' 'AMD Radeon™️ 780M' 'Nvidia GeForce GT 720M 2GB'\n",
            " 'NVIDIA GeForce RTX 2060 Max-Q' 'NVIDIA GeForce RTX 3070'\n",
            " 'AMD RADEON PRO WX3100' 'Intel HD Graphics 530 && Nvidia Quadro M1000M'\n",
            " 'Intel HD Graphics 4600 & Nvidia Quadro K1100M' 'NVIDIA RTX T1200'\n",
            " 'Intel(R) Iris(R) Xe 1 GB' 'NVIDIA Quadro T1000' 'Intel HD Graphics 5500'\n",
            " 'Intel® Iris® Xe Graphics eligible' 'NVIDIA T500 2048'\n",
            " 'Intel HD Graphics 520 && Nvidia Quadro M500M' 'AMD Radeon Pro WX 2100'\n",
            " 'NVIDIA Quadro RTX 3000' 'NVIDIA® GeForce® 930MX' 'Intel Graphics Family'\n",
            " 'Nvdia p2000' 'nvidia geforce gtx 960M'\n",
            " 'AMD FirePro W4170M with 2GB GDDR5' 'AMD Radeon RX 540 4GB GDDR5'\n",
            " 'Intel HD Graphics 4000' 'Intel Arc A350M' 'AMD FirePro M4100'\n",
            " 'NVIDIA Quadro M1200' 'Intel® Iris® Xe graphics'\n",
            " 'Nvidia T1200 Laptop GPU' 'NVidia Quadro K3100m 4GB'\n",
            " 'NVIDIA GeForce RTX 4080' 'Intel HD 620' 'NVIDIA® T1200 4GB'\n",
            " 'NVIDIA GeForce GT 730M - 1GB' 'NVIDIA T550 Laptop GPU'\n",
            " 'INTEL HD GRAPHICS 4600' 'NVIDIA Quadro T2000 with Max-Q Design'\n",
            " 'Integrated Graphics' 'NVIDIA Quadro P520'\n",
            " 'NVIDIA GeForce GTX 1650 Ti with Max-Q Design'\n",
            " 'Intel(R) Iris(R) Plus Graphics 640' 'Intel HD Graphics 5000'\n",
            " 'NVIDIA GeForce RTX 4070' 'NVIDIA Quadro T600' 'AMD Radeon Pro WX 3100'\n",
            " 'AMD Radeon' 'AMD Radeon Vega 8' 'nVidia GeForce RTX 2060'\n",
            " 'Radeon Pro WX 3100' 'Intel HD Graphics 3000' 'Intel HD 5500'\n",
            " 'NVIDIA Quadro RTX 5000' 'AMD Radeon RX 540'\n",
            " 'NVIDIA Quadro M1000M with 2GB GDDR5' 'i5-8250U'\n",
            " 'Intel Iris Graphics 540' 'NVIDIA RTX 2050'\n",
            " 'NVIDIA Quadro K610M 1GB GDDR5' 'NVIDIA GeForce'\n",
            " 'Intel Iris Plus Graphics 655' 'AMD Radeon HD 8790M 2GB'\n",
            " 'Intel® UHD Graphics for 10th Gen Intel® Processors'\n",
            " 'INTEL(R) SKYLAKE GRAPHICS' 'Intel Iris Xe MAX Graphics'\n",
            " 'INTEL HD GRAPHICS' 'NVIDIA GeForce RTX 2070 Max-Q' 'Radeon Pro WX 4130'\n",
            " 'NVIDIA GeForce GT 720M 2GB' 'Intel Iris Plus'\n",
            " 'NVDIA GeForce RTX 3070 Ti' 'INTEL(R) IRIS(R) XE GRAPHICS'\n",
            " 'NVIDIA GeForce RTX 4090' 'AMD Radeon Vega 3'\n",
            " 'Nvidia Quadro M620 with 2GB GDDR5' 'NVidia Quadro M1000M'\n",
            " 'NVIDIA RTX A4000' 'Intel (R) UDH Graphics' 'NVIDIA T1200'\n",
            " 'Nvidia Quadro P2000 w/4GB GDDR5' 'INTEL(R) UHD GRAPHICS'\n",
            " 'Intel Arc A370M' 'Intel Iris' 'NVIDIA GeForce RTX 2060'\n",
            " 'AMD Radeon Pro™ WX 2100' 'nVIDIA GTX 1050 4GB' 'nvidia geforce gtx 970m'\n",
            " 'NVIDIA T600' 'Intel Graphics' 'nVIDIA GTX 1050Ti 4GB'\n",
            " 'AMD Radeon Pro WX 4130 w/2GB GDDR5' 'NVidia Quadro M1200M 4GB'\n",
            " 'Nvidia GTX 1650 TI 4GB' 'Intel Iris Plus graphics'\n",
            " 'NVIDIA Quadro M2200 w/4GB GDDR 5']\n",
            "----------------------------------------------------------------------------------------------------\n",
            "Details of the column GPU_Type is: \n",
            " ['Integrated/On-Board Graphics' 'Dedicated Graphics' nan\n",
            " 'Intel UHD Graphics' 'Intergrated Intel UHD Graphics'\n",
            " 'Intel Iris Xe Graphics' 'Iris Xe Graphics' 'Intel® UHD Graphics'\n",
            " 'Integrated']\n",
            "----------------------------------------------------------------------------------------------------\n",
            "Details of the column Resolution is: \n",
            " [nan '1920 x 1080' '2256 x 1504' '1920 x 1200' '1366 x 768' '1536 x 1024'\n",
            " '3072 x 1920' '2560 x 1600' '2880 x 1800' '2400 x 1600' '2240 x 1400'\n",
            " '3240 x 2160' '2160 x 1440' '3840 x 2160' '2560x1600' '1600 x 900'\n",
            " '3000 x 2000' '3840 x 2400' '2560 x 1440' '1920 x 1280' '2880 x 1920'\n",
            " '1366 x 786' '2880 x 1620' '1366x768' '3456 x 2160' '1024 x 768' '15.6'\n",
            " '1900 x 1200' '1920 x 1080 Full HD' '2496 x 1664' '1920x1080'\n",
            " '1920 x 1080 (Full HD)' '3200x1800' '3840X2400' '2736 x 1824' '1536x1024'\n",
            " '2160 x 1350' '2496x1664' 'Not Included' '2240x1400' 'FHD (1920 x 1080)'\n",
            " 'FHD' 'Touchscreen' '5K' '2560x1440' '3200 x 1800' '3840x2160' '1080p'\n",
            " 'FHD+ 1920 x 1200' '1600 x 768' '1920X1080' '1920 x 1080 pixels'\n",
            " '1536 x 1204' '2256x1504' '15.6\" UltraSharp FHD IPS Touch (1920x1080)']\n",
            "----------------------------------------------------------------------------------------------------\n",
            "Details of the column Condition is: \n",
            " ['Very Good - Refurbished' 'New' 'Open box' 'Excellent - Refurbished'\n",
            " 'Good - Refurbished']\n",
            "----------------------------------------------------------------------------------------------------\n"
          ]
        }
      ],
      "source": [
        "for col in cat_cols:\n",
        "    unique_vals(col)"
      ]
    },
    {
      "cell_type": "code",
      "execution_count": 17,
      "id": "7a6ccef4",
      "metadata": {
        "execution": {
          "iopub.execute_input": "2024-08-18T05:00:31.878721Z",
          "iopub.status.busy": "2024-08-18T05:00:31.878284Z",
          "iopub.status.idle": "2024-08-18T05:00:31.893783Z",
          "shell.execute_reply": "2024-08-18T05:00:31.892398Z"
        },
        "papermill": {
          "duration": 0.045747,
          "end_time": "2024-08-18T05:00:31.896406",
          "exception": false,
          "start_time": "2024-08-18T05:00:31.850659",
          "status": "completed"
        },
        "tags": [],
        "id": "7a6ccef4"
      },
      "outputs": [],
      "source": [
        "imputer = SimpleImputer(strategy='most_frequent').set_output(transform=\"pandas\")\n",
        "dfp[[\"Resolution\",\"GPU_Type\"]] = imputer.fit_transform(dfp[[\"Resolution\",\"GPU_Type\"]])"
      ]
    },
    {
      "cell_type": "code",
      "execution_count": 18,
      "id": "4adc8120",
      "metadata": {
        "execution": {
          "iopub.execute_input": "2024-08-18T05:00:32.007409Z",
          "iopub.status.busy": "2024-08-18T05:00:32.006279Z",
          "iopub.status.idle": "2024-08-18T05:00:32.013328Z",
          "shell.execute_reply": "2024-08-18T05:00:32.012017Z"
        },
        "papermill": {
          "duration": 0.039043,
          "end_time": "2024-08-18T05:00:32.016240",
          "exception": false,
          "start_time": "2024-08-18T05:00:31.977197",
          "status": "completed"
        },
        "tags": [],
        "id": "4adc8120"
      },
      "outputs": [],
      "source": [
        "def extract_numbers(text):\n",
        "    nums = re.findall(r'\\d+(?:\\.\\d+)?', text)\n",
        "    if nums:\n",
        "        return int(nums[0])\n",
        "    else:\n",
        "        return None"
      ]
    },
    {
      "cell_type": "code",
      "execution_count": 23,
      "id": "f90ca142",
      "metadata": {
        "execution": {
          "iopub.execute_input": "2024-08-18T05:00:32.071725Z",
          "iopub.status.busy": "2024-08-18T05:00:32.071114Z",
          "iopub.status.idle": "2024-08-18T05:00:32.087639Z",
          "shell.execute_reply": "2024-08-18T05:00:32.086453Z"
        },
        "papermill": {
          "duration": 0.047425,
          "end_time": "2024-08-18T05:00:32.090279",
          "exception": false,
          "start_time": "2024-08-18T05:00:32.042854",
          "status": "completed"
        },
        "tags": [],
        "id": "f90ca142"
      },
      "outputs": [],
      "source": [
        "import re\n",
        "\n",
        "def extract_numbers(text):\n",
        "    if isinstance(text, str):  # Check if the input is a string\n",
        "        nums = re.findall(r'\\d+(?:\\.\\d+)?', text)\n",
        "        if nums:\n",
        "            return int(nums[0])\n",
        "    return None  # Return None if not a string or no numbers found\n",
        "\n",
        "dfp[\"RAM\"] = dfp[\"RAM\"].map(extract_numbers) # Remove extra [] around \"RAM\""
      ]
    },
    {
      "cell_type": "code",
      "execution_count": 24,
      "id": "ba291cda",
      "metadata": {
        "execution": {
          "iopub.execute_input": "2024-08-18T05:00:32.145487Z",
          "iopub.status.busy": "2024-08-18T05:00:32.144979Z",
          "iopub.status.idle": "2024-08-18T05:00:32.152810Z",
          "shell.execute_reply": "2024-08-18T05:00:32.151324Z"
        },
        "papermill": {
          "duration": 0.03842,
          "end_time": "2024-08-18T05:00:32.155492",
          "exception": false,
          "start_time": "2024-08-18T05:00:32.117072",
          "status": "completed"
        },
        "tags": [],
        "id": "ba291cda"
      },
      "outputs": [],
      "source": [
        "dfp[\"GPU_Type\"] = dfp[\"GPU_Type\"].apply(lambda x: \"Integrated/On-Board Graphics\" if x != \"Dedicated Graphics\" else x)"
      ]
    },
    {
      "cell_type": "code",
      "execution_count": 25,
      "id": "dccbf06c",
      "metadata": {
        "execution": {
          "iopub.execute_input": "2024-08-18T05:00:32.265605Z",
          "iopub.status.busy": "2024-08-18T05:00:32.264706Z",
          "iopub.status.idle": "2024-08-18T05:00:32.309279Z",
          "shell.execute_reply": "2024-08-18T05:00:32.307483Z"
        },
        "papermill": {
          "duration": 0.07879,
          "end_time": "2024-08-18T05:00:32.313852",
          "exception": false,
          "start_time": "2024-08-18T05:00:32.235062",
          "status": "completed"
        },
        "tags": [],
        "id": "dccbf06c"
      },
      "outputs": [],
      "source": [
        "dfp[\"Resolution\"] = dfp[\"Resolution\"].str.replace(\"5K\",\"5120x2880\")\n",
        "dfp[\"Resolution\"] = dfp[\"Resolution\"].str.replace(\"FHD\",\"1920x1080\")\n",
        "dfp[\"Resolution\"] = dfp[\"Resolution\"].str.replace(\"1080p\",\"1920x1080\")\n",
        "resolution_df = dfp[\"Resolution\"].str.split(\"x|X\",n=1,expand=True)\n",
        "dfp[\"Resolution_Width\"] = resolution_df[0]\n",
        "dfp[\"Resolution_Height\"] = resolution_df[1]\n",
        "dfp[\"Resolution_Width\"] = dfp[\"Resolution_Width\"].str.findall(\"\\d{4}\").apply(lambda x: int(x[0]) if len(x) != 0 else None)\n",
        "dfp[\"Resolution_Height\"] = dfp[\"Resolution_Height\"].str.findall(\"\\d.[0-9]*\").apply(lambda x: None if x == None or x == [] else int(x[0]))"
      ]
    },
    {
      "cell_type": "code",
      "execution_count": 26,
      "id": "44648af1",
      "metadata": {
        "execution": {
          "iopub.execute_input": "2024-08-18T05:00:32.379666Z",
          "iopub.status.busy": "2024-08-18T05:00:32.379227Z",
          "iopub.status.idle": "2024-08-18T05:00:32.394142Z",
          "shell.execute_reply": "2024-08-18T05:00:32.392898Z"
        },
        "papermill": {
          "duration": 0.04729,
          "end_time": "2024-08-18T05:00:32.396759",
          "exception": false,
          "start_time": "2024-08-18T05:00:32.349469",
          "status": "completed"
        },
        "tags": [],
        "colab": {
          "base_uri": "https://localhost:8080/",
          "height": 0
        },
        "id": "44648af1",
        "outputId": "f92cfb18-c0fb-47ae-d64c-d038f74da107"
      },
      "outputs": [
        {
          "output_type": "execute_result",
          "data": {
            "text/plain": [
              "(array(['Intel Core i5', 'Intel Core i7', 'Intel Core i3', 'Intel Core i9',\n",
              "        'AMD Ryzen 5', 'AMD Ryzen 9', 'AMD Ryzen 7', 'AMD Ryzen 3'],\n",
              "       dtype=object),\n",
              " 8)"
            ]
          },
          "metadata": {},
          "execution_count": 26
        }
      ],
      "source": [
        "dfp[\"Processor\"] = dfp[\"Processor\"].apply(lambda x : \" \".join(x.split(\" \")[:3]))\n",
        "dfp[\"Processor\"].unique(), dfp[\"Processor\"].nunique()"
      ]
    },
    {
      "cell_type": "code",
      "execution_count": 27,
      "id": "8e3e3bc0",
      "metadata": {
        "execution": {
          "iopub.execute_input": "2024-08-18T05:00:32.474740Z",
          "iopub.status.busy": "2024-08-18T05:00:32.473877Z",
          "iopub.status.idle": "2024-08-18T05:00:32.487452Z",
          "shell.execute_reply": "2024-08-18T05:00:32.485555Z"
        },
        "papermill": {
          "duration": 0.059031,
          "end_time": "2024-08-18T05:00:32.491591",
          "exception": false,
          "start_time": "2024-08-18T05:00:32.432560",
          "status": "completed"
        },
        "tags": [],
        "id": "8e3e3bc0"
      },
      "outputs": [],
      "source": [
        "def GPUPreprocess(text):\n",
        "    \"\"\"\n",
        "    Preprocess text of GPU specification into more general term and clustered item.\n",
        "    \"\"\"\n",
        "    text = str(text)\n",
        "    text = text.lower()\n",
        "\n",
        "    if re.search(r'intel hd', text):\n",
        "        return 'Intel HD'\n",
        "    elif re.search(r'intel iris', text):\n",
        "        return 'Intel Iris'\n",
        "    elif re.search(r'nvidia geforce|nvidia gtx', text):\n",
        "        return 'NVIDIA GeForce'\n",
        "    elif re.search(r'nvidia quadro|nvidia t1200', text):\n",
        "        return 'NVIDIA Quadro'\n",
        "    elif re.search(r'intel uhd', text):\n",
        "        return 'Intel UHD'\n",
        "    elif re.search(r'radeon', text):\n",
        "        return 'AMD Radeon'\n",
        "    elif 'intel' in text or 'i5-8250u' in text:\n",
        "        return 'Other Intel'\n",
        "    else:\n",
        "        return 'Other GPU'"
      ]
    },
    {
      "cell_type": "code",
      "execution_count": 28,
      "id": "4957b04e",
      "metadata": {
        "execution": {
          "iopub.execute_input": "2024-08-18T05:00:32.549621Z",
          "iopub.status.busy": "2024-08-18T05:00:32.549220Z",
          "iopub.status.idle": "2024-08-18T05:00:32.572089Z",
          "shell.execute_reply": "2024-08-18T05:00:32.570831Z"
        },
        "papermill": {
          "duration": 0.055159,
          "end_time": "2024-08-18T05:00:32.575356",
          "exception": false,
          "start_time": "2024-08-18T05:00:32.520197",
          "status": "completed"
        },
        "tags": [],
        "id": "4957b04e"
      },
      "outputs": [],
      "source": [
        "dfp[\"GPU\"] = dfp[\"GPU\"].apply(GPUPreprocess)"
      ]
    },
    {
      "cell_type": "code",
      "execution_count": 29,
      "id": "e2dd2e08",
      "metadata": {
        "execution": {
          "iopub.execute_input": "2024-08-18T05:00:32.640706Z",
          "iopub.status.busy": "2024-08-18T05:00:32.640277Z",
          "iopub.status.idle": "2024-08-18T05:00:32.650964Z",
          "shell.execute_reply": "2024-08-18T05:00:32.649580Z"
        },
        "papermill": {
          "duration": 0.042409,
          "end_time": "2024-08-18T05:00:32.654111",
          "exception": false,
          "start_time": "2024-08-18T05:00:32.611702",
          "status": "completed"
        },
        "tags": [],
        "colab": {
          "base_uri": "https://localhost:8080/",
          "height": 0
        },
        "id": "e2dd2e08",
        "outputId": "87f9973e-c78b-43c2-bf57-88845b603f67"
      },
      "outputs": [
        {
          "output_type": "execute_result",
          "data": {
            "text/plain": [
              "array(['Intel HD', 'Intel UHD', 'Intel Iris', 'NVIDIA Quadro',\n",
              "       'NVIDIA GeForce', 'Other GPU', 'AMD Radeon', 'Other Intel'],\n",
              "      dtype=object)"
            ]
          },
          "metadata": {},
          "execution_count": 29
        }
      ],
      "source": [
        "dfp[\"GPU\"].unique()"
      ]
    },
    {
      "cell_type": "code",
      "execution_count": 30,
      "id": "588040e8",
      "metadata": {
        "execution": {
          "iopub.execute_input": "2024-08-18T05:00:32.717882Z",
          "iopub.status.busy": "2024-08-18T05:00:32.717450Z",
          "iopub.status.idle": "2024-08-18T05:00:32.723616Z",
          "shell.execute_reply": "2024-08-18T05:00:32.722514Z"
        },
        "papermill": {
          "duration": 0.041279,
          "end_time": "2024-08-18T05:00:32.726185",
          "exception": false,
          "start_time": "2024-08-18T05:00:32.684906",
          "status": "completed"
        },
        "tags": [],
        "id": "588040e8"
      },
      "outputs": [],
      "source": [
        "def extract_storage(text):\n",
        "    \"\"\"\n",
        "    Extract information about storage capacity from product description.\n",
        "    \"\"\"\n",
        "    SSD_pattern = r\"(\\d+\\.?\\d*)\\s*(TB|GB)\\s*(SSD)\"\n",
        "    HDD_pattern = r\"(\\d+\\.?\\d*)\\s*(TB|GB)\\s*(HDD)\"\n",
        "    return re.findall(SSD_pattern, text), re.findall(HDD_pattern, text)"
      ]
    },
    {
      "cell_type": "code",
      "execution_count": 31,
      "id": "100c0b4a",
      "metadata": {
        "execution": {
          "iopub.execute_input": "2024-08-18T05:00:32.781808Z",
          "iopub.status.busy": "2024-08-18T05:00:32.781319Z",
          "iopub.status.idle": "2024-08-18T05:00:32.930480Z",
          "shell.execute_reply": "2024-08-18T05:00:32.929159Z"
        },
        "papermill": {
          "duration": 0.180334,
          "end_time": "2024-08-18T05:00:32.933260",
          "exception": false,
          "start_time": "2024-08-18T05:00:32.752926",
          "status": "completed"
        },
        "tags": [],
        "colab": {
          "base_uri": "https://localhost:8080/",
          "height": 0
        },
        "id": "100c0b4a",
        "outputId": "2a753dc7-b172-4318-e2b7-68505e3e1194"
      },
      "outputs": [
        {
          "output_type": "execute_result",
          "data": {
            "text/plain": [
              "(array([  256,  2000,     0,   512,  1000,   238,   128,   240,    16,\n",
              "           64,   120,   255,   500,   250,   480,   800,   180,  4000,\n",
              "        15000,     4]),\n",
              " array([   0, 1000,  256,  500,  512, 2000]))"
            ]
          },
          "metadata": {},
          "execution_count": 31
        }
      ],
      "source": [
        "# Making of storage column from product description column\n",
        "storage_df = dfp[\"Product_Description\"].apply(extract_storage)\n",
        "dfp[\"SSD\"] = storage_df.apply(lambda x: \" \".join(x[0][0]) if x[0] != [] else '0')\n",
        "dfp[\"HDD\"] = storage_df.apply(lambda x: \" \".join(x[1][0]) if x[1] != [] else '0')\n",
        "dfp[\"SSD\"] = dfp[\"SSD\"].str.replace(\"TB\",\"000 GB\").str.findall(\"\\d\").apply(lambda x: \"\".join(x)).astype(\"int64\")\n",
        "dfp[\"HDD\"] = dfp[\"HDD\"].str.replace(\"TB\",\"000 GB\").str.findall(\"\\d\").apply(lambda x: \"\".join(x)).astype(\"int64\")\n",
        "dfp[\"SSD\"].unique(), dfp[\"HDD\"].unique()"
      ]
    },
    {
      "cell_type": "code",
      "execution_count": 32,
      "id": "2d4e81fb",
      "metadata": {
        "execution": {
          "iopub.execute_input": "2024-08-18T05:00:33.008554Z",
          "iopub.status.busy": "2024-08-18T05:00:33.007230Z",
          "iopub.status.idle": "2024-08-18T05:00:33.034497Z",
          "shell.execute_reply": "2024-08-18T05:00:33.033261Z"
        },
        "papermill": {
          "duration": 0.067969,
          "end_time": "2024-08-18T05:00:33.037232",
          "exception": false,
          "start_time": "2024-08-18T05:00:32.969263",
          "status": "completed"
        },
        "tags": [],
        "colab": {
          "base_uri": "https://localhost:8080/",
          "height": 98
        },
        "id": "2d4e81fb",
        "outputId": "beba5f4c-b38d-473d-f525-46b9fa5df76e"
      },
      "outputs": [
        {
          "output_type": "execute_result",
          "data": {
            "text/plain": [
              "     Brand  \\\n",
              "1594  Asus   \n",
              "\n",
              "                                                                  Product_Description  \\\n",
              "1594  ASUS Vivobook 15.6\" Touchscreen Intel 11th Gen i3 8GB 256G X515EA-212.V15TB SSD   \n",
              "\n",
              "      Screen_Size   RAM      Processor       GPU  \\\n",
              "1594         15.6  None  Intel Core i3  Intel HD   \n",
              "\n",
              "                          GPU_Type   Resolution Condition  Price  \\\n",
              "1594  Integrated/On-Board Graphics  1920 x 1080       New  375.0   \n",
              "\n",
              "      Resolution_Width  Resolution_Height    SSD  HDD  \n",
              "1594            1920.0             1080.0  15000    0  "
            ],
            "text/html": [
              "\n",
              "  <div id=\"df-9b83d50f-3cfe-4170-b69b-03fe8c91e8c4\" class=\"colab-df-container\">\n",
              "    <div>\n",
              "<style scoped>\n",
              "    .dataframe tbody tr th:only-of-type {\n",
              "        vertical-align: middle;\n",
              "    }\n",
              "\n",
              "    .dataframe tbody tr th {\n",
              "        vertical-align: top;\n",
              "    }\n",
              "\n",
              "    .dataframe thead th {\n",
              "        text-align: right;\n",
              "    }\n",
              "</style>\n",
              "<table border=\"1\" class=\"dataframe\">\n",
              "  <thead>\n",
              "    <tr style=\"text-align: right;\">\n",
              "      <th></th>\n",
              "      <th>Brand</th>\n",
              "      <th>Product_Description</th>\n",
              "      <th>Screen_Size</th>\n",
              "      <th>RAM</th>\n",
              "      <th>Processor</th>\n",
              "      <th>GPU</th>\n",
              "      <th>GPU_Type</th>\n",
              "      <th>Resolution</th>\n",
              "      <th>Condition</th>\n",
              "      <th>Price</th>\n",
              "      <th>Resolution_Width</th>\n",
              "      <th>Resolution_Height</th>\n",
              "      <th>SSD</th>\n",
              "      <th>HDD</th>\n",
              "    </tr>\n",
              "  </thead>\n",
              "  <tbody>\n",
              "    <tr>\n",
              "      <th>1594</th>\n",
              "      <td>Asus</td>\n",
              "      <td>ASUS Vivobook 15.6\" Touchscreen Intel 11th Gen i3 8GB 256G X515EA-212.V15TB SSD</td>\n",
              "      <td>15.6</td>\n",
              "      <td>None</td>\n",
              "      <td>Intel Core i3</td>\n",
              "      <td>Intel HD</td>\n",
              "      <td>Integrated/On-Board Graphics</td>\n",
              "      <td>1920 x 1080</td>\n",
              "      <td>New</td>\n",
              "      <td>375.0</td>\n",
              "      <td>1920.0</td>\n",
              "      <td>1080.0</td>\n",
              "      <td>15000</td>\n",
              "      <td>0</td>\n",
              "    </tr>\n",
              "  </tbody>\n",
              "</table>\n",
              "</div>\n",
              "    <div class=\"colab-df-buttons\">\n",
              "\n",
              "  <div class=\"colab-df-container\">\n",
              "    <button class=\"colab-df-convert\" onclick=\"convertToInteractive('df-9b83d50f-3cfe-4170-b69b-03fe8c91e8c4')\"\n",
              "            title=\"Convert this dataframe to an interactive table.\"\n",
              "            style=\"display:none;\">\n",
              "\n",
              "  <svg xmlns=\"http://www.w3.org/2000/svg\" height=\"24px\" viewBox=\"0 -960 960 960\">\n",
              "    <path d=\"M120-120v-720h720v720H120Zm60-500h600v-160H180v160Zm220 220h160v-160H400v160Zm0 220h160v-160H400v160ZM180-400h160v-160H180v160Zm440 0h160v-160H620v160ZM180-180h160v-160H180v160Zm440 0h160v-160H620v160Z\"/>\n",
              "  </svg>\n",
              "    </button>\n",
              "\n",
              "  <style>\n",
              "    .colab-df-container {\n",
              "      display:flex;\n",
              "      gap: 12px;\n",
              "    }\n",
              "\n",
              "    .colab-df-convert {\n",
              "      background-color: #E8F0FE;\n",
              "      border: none;\n",
              "      border-radius: 50%;\n",
              "      cursor: pointer;\n",
              "      display: none;\n",
              "      fill: #1967D2;\n",
              "      height: 32px;\n",
              "      padding: 0 0 0 0;\n",
              "      width: 32px;\n",
              "    }\n",
              "\n",
              "    .colab-df-convert:hover {\n",
              "      background-color: #E2EBFA;\n",
              "      box-shadow: 0px 1px 2px rgba(60, 64, 67, 0.3), 0px 1px 3px 1px rgba(60, 64, 67, 0.15);\n",
              "      fill: #174EA6;\n",
              "    }\n",
              "\n",
              "    .colab-df-buttons div {\n",
              "      margin-bottom: 4px;\n",
              "    }\n",
              "\n",
              "    [theme=dark] .colab-df-convert {\n",
              "      background-color: #3B4455;\n",
              "      fill: #D2E3FC;\n",
              "    }\n",
              "\n",
              "    [theme=dark] .colab-df-convert:hover {\n",
              "      background-color: #434B5C;\n",
              "      box-shadow: 0px 1px 3px 1px rgba(0, 0, 0, 0.15);\n",
              "      filter: drop-shadow(0px 1px 2px rgba(0, 0, 0, 0.3));\n",
              "      fill: #FFFFFF;\n",
              "    }\n",
              "  </style>\n",
              "\n",
              "    <script>\n",
              "      const buttonEl =\n",
              "        document.querySelector('#df-9b83d50f-3cfe-4170-b69b-03fe8c91e8c4 button.colab-df-convert');\n",
              "      buttonEl.style.display =\n",
              "        google.colab.kernel.accessAllowed ? 'block' : 'none';\n",
              "\n",
              "      async function convertToInteractive(key) {\n",
              "        const element = document.querySelector('#df-9b83d50f-3cfe-4170-b69b-03fe8c91e8c4');\n",
              "        const dataTable =\n",
              "          await google.colab.kernel.invokeFunction('convertToInteractive',\n",
              "                                                    [key], {});\n",
              "        if (!dataTable) return;\n",
              "\n",
              "        const docLinkHtml = 'Like what you see? Visit the ' +\n",
              "          '<a target=\"_blank\" href=https://colab.research.google.com/notebooks/data_table.ipynb>data table notebook</a>'\n",
              "          + ' to learn more about interactive tables.';\n",
              "        element.innerHTML = '';\n",
              "        dataTable['output_type'] = 'display_data';\n",
              "        await google.colab.output.renderOutput(dataTable, element);\n",
              "        const docLink = document.createElement('div');\n",
              "        docLink.innerHTML = docLinkHtml;\n",
              "        element.appendChild(docLink);\n",
              "      }\n",
              "    </script>\n",
              "  </div>\n",
              "\n",
              "\n",
              "    </div>\n",
              "  </div>\n"
            ],
            "application/vnd.google.colaboratory.intrinsic+json": {
              "type": "dataframe",
              "repr_error": "0"
            }
          },
          "metadata": {},
          "execution_count": 32
        }
      ],
      "source": [
        "dfp.loc[(dfp[\"SSD\"] == 15000)]"
      ]
    },
    {
      "cell_type": "code",
      "execution_count": 33,
      "id": "1e393c52",
      "metadata": {
        "execution": {
          "iopub.execute_input": "2024-08-18T05:00:33.093454Z",
          "iopub.status.busy": "2024-08-18T05:00:33.093032Z",
          "iopub.status.idle": "2024-08-18T05:00:33.099655Z",
          "shell.execute_reply": "2024-08-18T05:00:33.098455Z"
        },
        "papermill": {
          "duration": 0.037804,
          "end_time": "2024-08-18T05:00:33.102190",
          "exception": false,
          "start_time": "2024-08-18T05:00:33.064386",
          "status": "completed"
        },
        "tags": [],
        "id": "1e393c52"
      },
      "outputs": [],
      "source": [
        "dfp[\"SSD\"] = dfp[\"SSD\"].replace(15000,256)"
      ]
    },
    {
      "cell_type": "code",
      "execution_count": 34,
      "id": "50d9f3cc",
      "metadata": {
        "execution": {
          "iopub.execute_input": "2024-08-18T05:00:33.212249Z",
          "iopub.status.busy": "2024-08-18T05:00:33.211840Z",
          "iopub.status.idle": "2024-08-18T05:00:33.224751Z",
          "shell.execute_reply": "2024-08-18T05:00:33.223468Z"
        },
        "papermill": {
          "duration": 0.044213,
          "end_time": "2024-08-18T05:00:33.227250",
          "exception": false,
          "start_time": "2024-08-18T05:00:33.183037",
          "status": "completed"
        },
        "tags": [],
        "colab": {
          "base_uri": "https://localhost:8080/",
          "height": 523
        },
        "id": "50d9f3cc",
        "outputId": "1ffc382a-9dd1-41e4-b047-ea5e3a955434"
      },
      "outputs": [
        {
          "output_type": "execute_result",
          "data": {
            "text/plain": [
              "Brand                     0\n",
              "Product_Description       0\n",
              "Screen_Size               0\n",
              "RAM                    2952\n",
              "Processor                 0\n",
              "GPU                       0\n",
              "GPU_Type                  0\n",
              "Resolution                0\n",
              "Condition                 0\n",
              "Price                     0\n",
              "Resolution_Width          5\n",
              "Resolution_Height         5\n",
              "SSD                       0\n",
              "HDD                       0\n",
              "dtype: int64"
            ],
            "text/html": [
              "<div>\n",
              "<style scoped>\n",
              "    .dataframe tbody tr th:only-of-type {\n",
              "        vertical-align: middle;\n",
              "    }\n",
              "\n",
              "    .dataframe tbody tr th {\n",
              "        vertical-align: top;\n",
              "    }\n",
              "\n",
              "    .dataframe thead th {\n",
              "        text-align: right;\n",
              "    }\n",
              "</style>\n",
              "<table border=\"1\" class=\"dataframe\">\n",
              "  <thead>\n",
              "    <tr style=\"text-align: right;\">\n",
              "      <th></th>\n",
              "      <th>0</th>\n",
              "    </tr>\n",
              "  </thead>\n",
              "  <tbody>\n",
              "    <tr>\n",
              "      <th>Brand</th>\n",
              "      <td>0</td>\n",
              "    </tr>\n",
              "    <tr>\n",
              "      <th>Product_Description</th>\n",
              "      <td>0</td>\n",
              "    </tr>\n",
              "    <tr>\n",
              "      <th>Screen_Size</th>\n",
              "      <td>0</td>\n",
              "    </tr>\n",
              "    <tr>\n",
              "      <th>RAM</th>\n",
              "      <td>2952</td>\n",
              "    </tr>\n",
              "    <tr>\n",
              "      <th>Processor</th>\n",
              "      <td>0</td>\n",
              "    </tr>\n",
              "    <tr>\n",
              "      <th>GPU</th>\n",
              "      <td>0</td>\n",
              "    </tr>\n",
              "    <tr>\n",
              "      <th>GPU_Type</th>\n",
              "      <td>0</td>\n",
              "    </tr>\n",
              "    <tr>\n",
              "      <th>Resolution</th>\n",
              "      <td>0</td>\n",
              "    </tr>\n",
              "    <tr>\n",
              "      <th>Condition</th>\n",
              "      <td>0</td>\n",
              "    </tr>\n",
              "    <tr>\n",
              "      <th>Price</th>\n",
              "      <td>0</td>\n",
              "    </tr>\n",
              "    <tr>\n",
              "      <th>Resolution_Width</th>\n",
              "      <td>5</td>\n",
              "    </tr>\n",
              "    <tr>\n",
              "      <th>Resolution_Height</th>\n",
              "      <td>5</td>\n",
              "    </tr>\n",
              "    <tr>\n",
              "      <th>SSD</th>\n",
              "      <td>0</td>\n",
              "    </tr>\n",
              "    <tr>\n",
              "      <th>HDD</th>\n",
              "      <td>0</td>\n",
              "    </tr>\n",
              "  </tbody>\n",
              "</table>\n",
              "</div><br><label><b>dtype:</b> int64</label>"
            ]
          },
          "metadata": {},
          "execution_count": 34
        }
      ],
      "source": [
        "dfp.isnull().sum()"
      ]
    },
    {
      "cell_type": "code",
      "execution_count": 35,
      "id": "bf2c38b4",
      "metadata": {
        "execution": {
          "iopub.execute_input": "2024-08-18T05:00:33.284196Z",
          "iopub.status.busy": "2024-08-18T05:00:33.283778Z",
          "iopub.status.idle": "2024-08-18T05:00:33.307474Z",
          "shell.execute_reply": "2024-08-18T05:00:33.306240Z"
        },
        "papermill": {
          "duration": 0.055512,
          "end_time": "2024-08-18T05:00:33.310246",
          "exception": false,
          "start_time": "2024-08-18T05:00:33.254734",
          "status": "completed"
        },
        "tags": [],
        "colab": {
          "base_uri": "https://localhost:8080/",
          "height": 736
        },
        "id": "bf2c38b4",
        "outputId": "88abc01a-74ce-4684-f85a-69aa5b9cbd2d"
      },
      "outputs": [
        {
          "output_type": "execute_result",
          "data": {
            "text/plain": [
              "       Brand  \\\n",
              "0     Lenovo   \n",
              "1       Dell   \n",
              "2         HP   \n",
              "3     Lenovo   \n",
              "4     Lenovo   \n",
              "...      ...   \n",
              "2947    Dell   \n",
              "2948     MSI   \n",
              "2949    Dell   \n",
              "2950      HP   \n",
              "2951      HP   \n",
              "\n",
              "                                                                   Product_Description  \\\n",
              "0      Lenovo ThinkPad 14” HD Laptop PC Computer Core i5 16GB RAM 256GB SSD Windows 10   \n",
              "1       Dell Latitude 15.6\" Laptop Intel Core i5 64GB RAM 2TB SSD Wi-Fi Windows 11 Pro   \n",
              "2     NEW HP 15 Laptop. 15.6\" 1080p, i5-1135G7, 8GB RAM, 256GB SSD,Win 11 -15-dy2795wm   \n",
              "3     2024 Lenovo Ideapad Laptop 15 FHD Touch Intel i5 Upto 40GB RAM&2TB SSD Win 11Pro   \n",
              "4      2024 Lenovo Ideapad Laptop 15.6\" FHD Touch Intel i5 16GB RAM & 512GB Win 11 Pro   \n",
              "...                                                                                ...   \n",
              "2947  Dell Latitude 7320 i5-1145G7 8GB 256GB BT5 WiFi6 13.3T W10P 2JPFT New WTY ✅❤️️✅❤   \n",
              "2948     NEW MSI COMPUTER Sword 15 A12UC-295 Sword1512295 A12U 15.6\" Gaming Notebook -   \n",
              "2949       Dell Precision 5550 Workstation 15 15.6 Laptop Core i7 4k uhd Touchscreen F   \n",
              "2950            HP 15 Laptop 15.6\" FHD i5-1135G7 8GB RAM 256GB SSD Win 11 -15-dy2795wm   \n",
              "2951  3 PCS Karlash 6 Column Undated Appointment Book – Six Person Daily and Hourly...   \n",
              "\n",
              "      Screen_Size   RAM      Processor             GPU  \\\n",
              "0            14.0  None  Intel Core i5        Intel HD   \n",
              "1            15.6  None  Intel Core i5       Intel UHD   \n",
              "2            15.6  None  Intel Core i5      Intel Iris   \n",
              "3            15.6  None  Intel Core i5      Intel Iris   \n",
              "4            15.6  None  Intel Core i5      Intel Iris   \n",
              "...           ...   ...            ...             ...   \n",
              "2947         13.3  None  Intel Core i5      Intel Iris   \n",
              "2948         15.6  None  Intel Core i5  NVIDIA GeForce   \n",
              "2949         15.6  None  Intel Core i5        Intel HD   \n",
              "2950         15.6  None  Intel Core i5      Intel Iris   \n",
              "2951         14.0  None  Intel Core i5        Intel HD   \n",
              "\n",
              "                          GPU_Type   Resolution                Condition  \\\n",
              "0     Integrated/On-Board Graphics  1920 x 1080  Very Good - Refurbished   \n",
              "1     Integrated/On-Board Graphics  1920 x 1080  Very Good - Refurbished   \n",
              "2     Integrated/On-Board Graphics  1920 x 1080                      New   \n",
              "3     Integrated/On-Board Graphics  1920 x 1080                      New   \n",
              "4     Integrated/On-Board Graphics  1920 x 1080                      New   \n",
              "...                            ...          ...                      ...   \n",
              "2947  Integrated/On-Board Graphics  1920 x 1080                 Open box   \n",
              "2948            Dedicated Graphics  1920 x 1080                      New   \n",
              "2949  Integrated/On-Board Graphics  1920 x 1200  Excellent - Refurbished   \n",
              "2950  Integrated/On-Board Graphics  1920 x 1080                      New   \n",
              "2951  Integrated/On-Board Graphics  1920 x 1080                      New   \n",
              "\n",
              "       Price  Resolution_Width  Resolution_Height   SSD  HDD  \n",
              "0     189.99            1920.0             1080.0   256    0  \n",
              "1     349.99            1920.0             1080.0  2000    0  \n",
              "2     369.95            1920.0             1080.0   256    0  \n",
              "3     459.00            1920.0             1080.0  2000    0  \n",
              "4     499.00            1920.0             1080.0     0    0  \n",
              "...      ...               ...                ...   ...  ...  \n",
              "2947  789.99            1920.0             1080.0     0    0  \n",
              "2948  895.55            1920.0             1080.0     0    0  \n",
              "2949  635.65            1920.0             1200.0     0    0  \n",
              "2950  405.99            1920.0             1080.0   256    0  \n",
              "2951   17.50            1920.0             1080.0     0    0  \n",
              "\n",
              "[2952 rows x 14 columns]"
            ],
            "text/html": [
              "\n",
              "  <div id=\"df-7395b708-03d3-4c7f-ae23-18b986bce6b8\" class=\"colab-df-container\">\n",
              "    <div>\n",
              "<style scoped>\n",
              "    .dataframe tbody tr th:only-of-type {\n",
              "        vertical-align: middle;\n",
              "    }\n",
              "\n",
              "    .dataframe tbody tr th {\n",
              "        vertical-align: top;\n",
              "    }\n",
              "\n",
              "    .dataframe thead th {\n",
              "        text-align: right;\n",
              "    }\n",
              "</style>\n",
              "<table border=\"1\" class=\"dataframe\">\n",
              "  <thead>\n",
              "    <tr style=\"text-align: right;\">\n",
              "      <th></th>\n",
              "      <th>Brand</th>\n",
              "      <th>Product_Description</th>\n",
              "      <th>Screen_Size</th>\n",
              "      <th>RAM</th>\n",
              "      <th>Processor</th>\n",
              "      <th>GPU</th>\n",
              "      <th>GPU_Type</th>\n",
              "      <th>Resolution</th>\n",
              "      <th>Condition</th>\n",
              "      <th>Price</th>\n",
              "      <th>Resolution_Width</th>\n",
              "      <th>Resolution_Height</th>\n",
              "      <th>SSD</th>\n",
              "      <th>HDD</th>\n",
              "    </tr>\n",
              "  </thead>\n",
              "  <tbody>\n",
              "    <tr>\n",
              "      <th>0</th>\n",
              "      <td>Lenovo</td>\n",
              "      <td>Lenovo ThinkPad 14” HD Laptop PC Computer Core i5 16GB RAM 256GB SSD Windows 10</td>\n",
              "      <td>14.0</td>\n",
              "      <td>None</td>\n",
              "      <td>Intel Core i5</td>\n",
              "      <td>Intel HD</td>\n",
              "      <td>Integrated/On-Board Graphics</td>\n",
              "      <td>1920 x 1080</td>\n",
              "      <td>Very Good - Refurbished</td>\n",
              "      <td>189.99</td>\n",
              "      <td>1920.0</td>\n",
              "      <td>1080.0</td>\n",
              "      <td>256</td>\n",
              "      <td>0</td>\n",
              "    </tr>\n",
              "    <tr>\n",
              "      <th>1</th>\n",
              "      <td>Dell</td>\n",
              "      <td>Dell Latitude 15.6\" Laptop Intel Core i5 64GB RAM 2TB SSD Wi-Fi Windows 11 Pro</td>\n",
              "      <td>15.6</td>\n",
              "      <td>None</td>\n",
              "      <td>Intel Core i5</td>\n",
              "      <td>Intel UHD</td>\n",
              "      <td>Integrated/On-Board Graphics</td>\n",
              "      <td>1920 x 1080</td>\n",
              "      <td>Very Good - Refurbished</td>\n",
              "      <td>349.99</td>\n",
              "      <td>1920.0</td>\n",
              "      <td>1080.0</td>\n",
              "      <td>2000</td>\n",
              "      <td>0</td>\n",
              "    </tr>\n",
              "    <tr>\n",
              "      <th>2</th>\n",
              "      <td>HP</td>\n",
              "      <td>NEW HP 15 Laptop. 15.6\" 1080p, i5-1135G7, 8GB RAM, 256GB SSD,Win 11 -15-dy2795wm</td>\n",
              "      <td>15.6</td>\n",
              "      <td>None</td>\n",
              "      <td>Intel Core i5</td>\n",
              "      <td>Intel Iris</td>\n",
              "      <td>Integrated/On-Board Graphics</td>\n",
              "      <td>1920 x 1080</td>\n",
              "      <td>New</td>\n",
              "      <td>369.95</td>\n",
              "      <td>1920.0</td>\n",
              "      <td>1080.0</td>\n",
              "      <td>256</td>\n",
              "      <td>0</td>\n",
              "    </tr>\n",
              "    <tr>\n",
              "      <th>3</th>\n",
              "      <td>Lenovo</td>\n",
              "      <td>2024 Lenovo Ideapad Laptop 15 FHD Touch Intel i5 Upto 40GB RAM&amp;2TB SSD Win 11Pro</td>\n",
              "      <td>15.6</td>\n",
              "      <td>None</td>\n",
              "      <td>Intel Core i5</td>\n",
              "      <td>Intel Iris</td>\n",
              "      <td>Integrated/On-Board Graphics</td>\n",
              "      <td>1920 x 1080</td>\n",
              "      <td>New</td>\n",
              "      <td>459.00</td>\n",
              "      <td>1920.0</td>\n",
              "      <td>1080.0</td>\n",
              "      <td>2000</td>\n",
              "      <td>0</td>\n",
              "    </tr>\n",
              "    <tr>\n",
              "      <th>4</th>\n",
              "      <td>Lenovo</td>\n",
              "      <td>2024 Lenovo Ideapad Laptop 15.6\" FHD Touch Intel i5 16GB RAM &amp; 512GB Win 11 Pro</td>\n",
              "      <td>15.6</td>\n",
              "      <td>None</td>\n",
              "      <td>Intel Core i5</td>\n",
              "      <td>Intel Iris</td>\n",
              "      <td>Integrated/On-Board Graphics</td>\n",
              "      <td>1920 x 1080</td>\n",
              "      <td>New</td>\n",
              "      <td>499.00</td>\n",
              "      <td>1920.0</td>\n",
              "      <td>1080.0</td>\n",
              "      <td>0</td>\n",
              "      <td>0</td>\n",
              "    </tr>\n",
              "    <tr>\n",
              "      <th>...</th>\n",
              "      <td>...</td>\n",
              "      <td>...</td>\n",
              "      <td>...</td>\n",
              "      <td>...</td>\n",
              "      <td>...</td>\n",
              "      <td>...</td>\n",
              "      <td>...</td>\n",
              "      <td>...</td>\n",
              "      <td>...</td>\n",
              "      <td>...</td>\n",
              "      <td>...</td>\n",
              "      <td>...</td>\n",
              "      <td>...</td>\n",
              "      <td>...</td>\n",
              "    </tr>\n",
              "    <tr>\n",
              "      <th>2947</th>\n",
              "      <td>Dell</td>\n",
              "      <td>Dell Latitude 7320 i5-1145G7 8GB 256GB BT5 WiFi6 13.3T W10P 2JPFT New WTY ✅❤️️✅❤</td>\n",
              "      <td>13.3</td>\n",
              "      <td>None</td>\n",
              "      <td>Intel Core i5</td>\n",
              "      <td>Intel Iris</td>\n",
              "      <td>Integrated/On-Board Graphics</td>\n",
              "      <td>1920 x 1080</td>\n",
              "      <td>Open box</td>\n",
              "      <td>789.99</td>\n",
              "      <td>1920.0</td>\n",
              "      <td>1080.0</td>\n",
              "      <td>0</td>\n",
              "      <td>0</td>\n",
              "    </tr>\n",
              "    <tr>\n",
              "      <th>2948</th>\n",
              "      <td>MSI</td>\n",
              "      <td>NEW MSI COMPUTER Sword 15 A12UC-295 Sword1512295 A12U 15.6\" Gaming Notebook -</td>\n",
              "      <td>15.6</td>\n",
              "      <td>None</td>\n",
              "      <td>Intel Core i5</td>\n",
              "      <td>NVIDIA GeForce</td>\n",
              "      <td>Dedicated Graphics</td>\n",
              "      <td>1920 x 1080</td>\n",
              "      <td>New</td>\n",
              "      <td>895.55</td>\n",
              "      <td>1920.0</td>\n",
              "      <td>1080.0</td>\n",
              "      <td>0</td>\n",
              "      <td>0</td>\n",
              "    </tr>\n",
              "    <tr>\n",
              "      <th>2949</th>\n",
              "      <td>Dell</td>\n",
              "      <td>Dell Precision 5550 Workstation 15 15.6 Laptop Core i7 4k uhd Touchscreen F</td>\n",
              "      <td>15.6</td>\n",
              "      <td>None</td>\n",
              "      <td>Intel Core i5</td>\n",
              "      <td>Intel HD</td>\n",
              "      <td>Integrated/On-Board Graphics</td>\n",
              "      <td>1920 x 1200</td>\n",
              "      <td>Excellent - Refurbished</td>\n",
              "      <td>635.65</td>\n",
              "      <td>1920.0</td>\n",
              "      <td>1200.0</td>\n",
              "      <td>0</td>\n",
              "      <td>0</td>\n",
              "    </tr>\n",
              "    <tr>\n",
              "      <th>2950</th>\n",
              "      <td>HP</td>\n",
              "      <td>HP 15 Laptop 15.6\" FHD i5-1135G7 8GB RAM 256GB SSD Win 11 -15-dy2795wm</td>\n",
              "      <td>15.6</td>\n",
              "      <td>None</td>\n",
              "      <td>Intel Core i5</td>\n",
              "      <td>Intel Iris</td>\n",
              "      <td>Integrated/On-Board Graphics</td>\n",
              "      <td>1920 x 1080</td>\n",
              "      <td>New</td>\n",
              "      <td>405.99</td>\n",
              "      <td>1920.0</td>\n",
              "      <td>1080.0</td>\n",
              "      <td>256</td>\n",
              "      <td>0</td>\n",
              "    </tr>\n",
              "    <tr>\n",
              "      <th>2951</th>\n",
              "      <td>HP</td>\n",
              "      <td>3 PCS Karlash 6 Column Undated Appointment Book – Six Person Daily and Hourly...</td>\n",
              "      <td>14.0</td>\n",
              "      <td>None</td>\n",
              "      <td>Intel Core i5</td>\n",
              "      <td>Intel HD</td>\n",
              "      <td>Integrated/On-Board Graphics</td>\n",
              "      <td>1920 x 1080</td>\n",
              "      <td>New</td>\n",
              "      <td>17.50</td>\n",
              "      <td>1920.0</td>\n",
              "      <td>1080.0</td>\n",
              "      <td>0</td>\n",
              "      <td>0</td>\n",
              "    </tr>\n",
              "  </tbody>\n",
              "</table>\n",
              "<p>2952 rows × 14 columns</p>\n",
              "</div>\n",
              "    <div class=\"colab-df-buttons\">\n",
              "\n",
              "  <div class=\"colab-df-container\">\n",
              "    <button class=\"colab-df-convert\" onclick=\"convertToInteractive('df-7395b708-03d3-4c7f-ae23-18b986bce6b8')\"\n",
              "            title=\"Convert this dataframe to an interactive table.\"\n",
              "            style=\"display:none;\">\n",
              "\n",
              "  <svg xmlns=\"http://www.w3.org/2000/svg\" height=\"24px\" viewBox=\"0 -960 960 960\">\n",
              "    <path d=\"M120-120v-720h720v720H120Zm60-500h600v-160H180v160Zm220 220h160v-160H400v160Zm0 220h160v-160H400v160ZM180-400h160v-160H180v160Zm440 0h160v-160H620v160ZM180-180h160v-160H180v160Zm440 0h160v-160H620v160Z\"/>\n",
              "  </svg>\n",
              "    </button>\n",
              "\n",
              "  <style>\n",
              "    .colab-df-container {\n",
              "      display:flex;\n",
              "      gap: 12px;\n",
              "    }\n",
              "\n",
              "    .colab-df-convert {\n",
              "      background-color: #E8F0FE;\n",
              "      border: none;\n",
              "      border-radius: 50%;\n",
              "      cursor: pointer;\n",
              "      display: none;\n",
              "      fill: #1967D2;\n",
              "      height: 32px;\n",
              "      padding: 0 0 0 0;\n",
              "      width: 32px;\n",
              "    }\n",
              "\n",
              "    .colab-df-convert:hover {\n",
              "      background-color: #E2EBFA;\n",
              "      box-shadow: 0px 1px 2px rgba(60, 64, 67, 0.3), 0px 1px 3px 1px rgba(60, 64, 67, 0.15);\n",
              "      fill: #174EA6;\n",
              "    }\n",
              "\n",
              "    .colab-df-buttons div {\n",
              "      margin-bottom: 4px;\n",
              "    }\n",
              "\n",
              "    [theme=dark] .colab-df-convert {\n",
              "      background-color: #3B4455;\n",
              "      fill: #D2E3FC;\n",
              "    }\n",
              "\n",
              "    [theme=dark] .colab-df-convert:hover {\n",
              "      background-color: #434B5C;\n",
              "      box-shadow: 0px 1px 3px 1px rgba(0, 0, 0, 0.15);\n",
              "      filter: drop-shadow(0px 1px 2px rgba(0, 0, 0, 0.3));\n",
              "      fill: #FFFFFF;\n",
              "    }\n",
              "  </style>\n",
              "\n",
              "    <script>\n",
              "      const buttonEl =\n",
              "        document.querySelector('#df-7395b708-03d3-4c7f-ae23-18b986bce6b8 button.colab-df-convert');\n",
              "      buttonEl.style.display =\n",
              "        google.colab.kernel.accessAllowed ? 'block' : 'none';\n",
              "\n",
              "      async function convertToInteractive(key) {\n",
              "        const element = document.querySelector('#df-7395b708-03d3-4c7f-ae23-18b986bce6b8');\n",
              "        const dataTable =\n",
              "          await google.colab.kernel.invokeFunction('convertToInteractive',\n",
              "                                                    [key], {});\n",
              "        if (!dataTable) return;\n",
              "\n",
              "        const docLinkHtml = 'Like what you see? Visit the ' +\n",
              "          '<a target=\"_blank\" href=https://colab.research.google.com/notebooks/data_table.ipynb>data table notebook</a>'\n",
              "          + ' to learn more about interactive tables.';\n",
              "        element.innerHTML = '';\n",
              "        dataTable['output_type'] = 'display_data';\n",
              "        await google.colab.output.renderOutput(dataTable, element);\n",
              "        const docLink = document.createElement('div');\n",
              "        docLink.innerHTML = docLinkHtml;\n",
              "        element.appendChild(docLink);\n",
              "      }\n",
              "    </script>\n",
              "  </div>\n",
              "\n",
              "\n",
              "<div id=\"df-d0fbcce8-8d8e-412a-80b2-45dd3b09a106\">\n",
              "  <button class=\"colab-df-quickchart\" onclick=\"quickchart('df-d0fbcce8-8d8e-412a-80b2-45dd3b09a106')\"\n",
              "            title=\"Suggest charts\"\n",
              "            style=\"display:none;\">\n",
              "\n",
              "<svg xmlns=\"http://www.w3.org/2000/svg\" height=\"24px\"viewBox=\"0 0 24 24\"\n",
              "     width=\"24px\">\n",
              "    <g>\n",
              "        <path d=\"M19 3H5c-1.1 0-2 .9-2 2v14c0 1.1.9 2 2 2h14c1.1 0 2-.9 2-2V5c0-1.1-.9-2-2-2zM9 17H7v-7h2v7zm4 0h-2V7h2v10zm4 0h-2v-4h2v4z\"/>\n",
              "    </g>\n",
              "</svg>\n",
              "  </button>\n",
              "\n",
              "<style>\n",
              "  .colab-df-quickchart {\n",
              "      --bg-color: #E8F0FE;\n",
              "      --fill-color: #1967D2;\n",
              "      --hover-bg-color: #E2EBFA;\n",
              "      --hover-fill-color: #174EA6;\n",
              "      --disabled-fill-color: #AAA;\n",
              "      --disabled-bg-color: #DDD;\n",
              "  }\n",
              "\n",
              "  [theme=dark] .colab-df-quickchart {\n",
              "      --bg-color: #3B4455;\n",
              "      --fill-color: #D2E3FC;\n",
              "      --hover-bg-color: #434B5C;\n",
              "      --hover-fill-color: #FFFFFF;\n",
              "      --disabled-bg-color: #3B4455;\n",
              "      --disabled-fill-color: #666;\n",
              "  }\n",
              "\n",
              "  .colab-df-quickchart {\n",
              "    background-color: var(--bg-color);\n",
              "    border: none;\n",
              "    border-radius: 50%;\n",
              "    cursor: pointer;\n",
              "    display: none;\n",
              "    fill: var(--fill-color);\n",
              "    height: 32px;\n",
              "    padding: 0;\n",
              "    width: 32px;\n",
              "  }\n",
              "\n",
              "  .colab-df-quickchart:hover {\n",
              "    background-color: var(--hover-bg-color);\n",
              "    box-shadow: 0 1px 2px rgba(60, 64, 67, 0.3), 0 1px 3px 1px rgba(60, 64, 67, 0.15);\n",
              "    fill: var(--button-hover-fill-color);\n",
              "  }\n",
              "\n",
              "  .colab-df-quickchart-complete:disabled,\n",
              "  .colab-df-quickchart-complete:disabled:hover {\n",
              "    background-color: var(--disabled-bg-color);\n",
              "    fill: var(--disabled-fill-color);\n",
              "    box-shadow: none;\n",
              "  }\n",
              "\n",
              "  .colab-df-spinner {\n",
              "    border: 2px solid var(--fill-color);\n",
              "    border-color: transparent;\n",
              "    border-bottom-color: var(--fill-color);\n",
              "    animation:\n",
              "      spin 1s steps(1) infinite;\n",
              "  }\n",
              "\n",
              "  @keyframes spin {\n",
              "    0% {\n",
              "      border-color: transparent;\n",
              "      border-bottom-color: var(--fill-color);\n",
              "      border-left-color: var(--fill-color);\n",
              "    }\n",
              "    20% {\n",
              "      border-color: transparent;\n",
              "      border-left-color: var(--fill-color);\n",
              "      border-top-color: var(--fill-color);\n",
              "    }\n",
              "    30% {\n",
              "      border-color: transparent;\n",
              "      border-left-color: var(--fill-color);\n",
              "      border-top-color: var(--fill-color);\n",
              "      border-right-color: var(--fill-color);\n",
              "    }\n",
              "    40% {\n",
              "      border-color: transparent;\n",
              "      border-right-color: var(--fill-color);\n",
              "      border-top-color: var(--fill-color);\n",
              "    }\n",
              "    60% {\n",
              "      border-color: transparent;\n",
              "      border-right-color: var(--fill-color);\n",
              "    }\n",
              "    80% {\n",
              "      border-color: transparent;\n",
              "      border-right-color: var(--fill-color);\n",
              "      border-bottom-color: var(--fill-color);\n",
              "    }\n",
              "    90% {\n",
              "      border-color: transparent;\n",
              "      border-bottom-color: var(--fill-color);\n",
              "    }\n",
              "  }\n",
              "</style>\n",
              "\n",
              "  <script>\n",
              "    async function quickchart(key) {\n",
              "      const quickchartButtonEl =\n",
              "        document.querySelector('#' + key + ' button');\n",
              "      quickchartButtonEl.disabled = true;  // To prevent multiple clicks.\n",
              "      quickchartButtonEl.classList.add('colab-df-spinner');\n",
              "      try {\n",
              "        const charts = await google.colab.kernel.invokeFunction(\n",
              "            'suggestCharts', [key], {});\n",
              "      } catch (error) {\n",
              "        console.error('Error during call to suggestCharts:', error);\n",
              "      }\n",
              "      quickchartButtonEl.classList.remove('colab-df-spinner');\n",
              "      quickchartButtonEl.classList.add('colab-df-quickchart-complete');\n",
              "    }\n",
              "    (() => {\n",
              "      let quickchartButtonEl =\n",
              "        document.querySelector('#df-d0fbcce8-8d8e-412a-80b2-45dd3b09a106 button');\n",
              "      quickchartButtonEl.style.display =\n",
              "        google.colab.kernel.accessAllowed ? 'block' : 'none';\n",
              "    })();\n",
              "  </script>\n",
              "</div>\n",
              "\n",
              "    </div>\n",
              "  </div>\n"
            ],
            "application/vnd.google.colaboratory.intrinsic+json": {
              "type": "dataframe",
              "repr_error": "Out of range float values are not JSON compliant: nan"
            }
          },
          "metadata": {},
          "execution_count": 35
        }
      ],
      "source": [
        "dfp.loc[dfp[\"RAM\"].isnull()]"
      ]
    },
    {
      "cell_type": "code",
      "execution_count": 36,
      "id": "cef7dd98",
      "metadata": {
        "execution": {
          "iopub.execute_input": "2024-08-18T05:00:33.370291Z",
          "iopub.status.busy": "2024-08-18T05:00:33.369880Z",
          "iopub.status.idle": "2024-08-18T05:00:33.392889Z",
          "shell.execute_reply": "2024-08-18T05:00:33.391500Z"
        },
        "papermill": {
          "duration": 0.055918,
          "end_time": "2024-08-18T05:00:33.395629",
          "exception": false,
          "start_time": "2024-08-18T05:00:33.339711",
          "status": "completed"
        },
        "tags": [],
        "colab": {
          "base_uri": "https://localhost:8080/",
          "height": 362
        },
        "id": "cef7dd98",
        "outputId": "8942c497-3374-423a-f1a5-24352f1b97d6"
      },
      "outputs": [
        {
          "output_type": "execute_result",
          "data": {
            "text/plain": [
              "       Brand  \\\n",
              "249       HP   \n",
              "689       HP   \n",
              "822     Dell   \n",
              "1251    Dell   \n",
              "1257  Lenovo   \n",
              "\n",
              "                                                                  Product_Description  \\\n",
              "249    HP ZBook Power G9 15.6 Intel i7-12800H, Nvidia RTX A1000, 16GB DDR5, 512GB SSD   \n",
              "689   HP ZBook Power G10 15.6 Intel i7-13700H, Nvidia RTX A1000, 16GB DDR5, 512GB SSD   \n",
              "822    Dell LATITUDE 5400 CHROME 14 Touch I5-8365U 128GB SSD 4GB W10 Backlit Keyboard   \n",
              "1251                                      Alienware 13-R1 Gaming Laptop 24 HOUR SALE!   \n",
              "1257     LENOVO X1 NANO GEN 1 13\" Touch I7-1180G7 1TB SSD 16GB W11P Backlit FP Reader   \n",
              "\n",
              "      Screen_Size   RAM      Processor             GPU  \\\n",
              "249          15.6  None  Intel Core i7  NVIDIA GeForce   \n",
              "689          15.6  None  Intel Core i7  NVIDIA GeForce   \n",
              "822          14.0  None  Intel Core i5     Other Intel   \n",
              "1251         13.0  None  Intel Core i7  NVIDIA GeForce   \n",
              "1257         13.0  None  Intel Core i7     Other Intel   \n",
              "\n",
              "                          GPU_Type    Resolution                Condition  \\\n",
              "249             Dedicated Graphics          15.6  Excellent - Refurbished   \n",
              "689             Dedicated Graphics          15.6  Excellent - Refurbished   \n",
              "822   Integrated/On-Board Graphics  Not Included       Good - Refurbished   \n",
              "1251            Dedicated Graphics   Touchscreen                 Open box   \n",
              "1257  Integrated/On-Board Graphics  Not Included  Very Good - Refurbished   \n",
              "\n",
              "       Price  Resolution_Width  Resolution_Height   SSD  HDD  \n",
              "249   869.95               NaN                NaN   512    0  \n",
              "689   999.95               NaN                NaN   512    0  \n",
              "822   148.99               NaN                NaN   128    0  \n",
              "1251  829.99               NaN                NaN     0    0  \n",
              "1257  881.99               NaN                NaN  1000    0  "
            ],
            "text/html": [
              "\n",
              "  <div id=\"df-f3ad090e-4a22-4d48-a6f8-c491e2e85b0e\" class=\"colab-df-container\">\n",
              "    <div>\n",
              "<style scoped>\n",
              "    .dataframe tbody tr th:only-of-type {\n",
              "        vertical-align: middle;\n",
              "    }\n",
              "\n",
              "    .dataframe tbody tr th {\n",
              "        vertical-align: top;\n",
              "    }\n",
              "\n",
              "    .dataframe thead th {\n",
              "        text-align: right;\n",
              "    }\n",
              "</style>\n",
              "<table border=\"1\" class=\"dataframe\">\n",
              "  <thead>\n",
              "    <tr style=\"text-align: right;\">\n",
              "      <th></th>\n",
              "      <th>Brand</th>\n",
              "      <th>Product_Description</th>\n",
              "      <th>Screen_Size</th>\n",
              "      <th>RAM</th>\n",
              "      <th>Processor</th>\n",
              "      <th>GPU</th>\n",
              "      <th>GPU_Type</th>\n",
              "      <th>Resolution</th>\n",
              "      <th>Condition</th>\n",
              "      <th>Price</th>\n",
              "      <th>Resolution_Width</th>\n",
              "      <th>Resolution_Height</th>\n",
              "      <th>SSD</th>\n",
              "      <th>HDD</th>\n",
              "    </tr>\n",
              "  </thead>\n",
              "  <tbody>\n",
              "    <tr>\n",
              "      <th>249</th>\n",
              "      <td>HP</td>\n",
              "      <td>HP ZBook Power G9 15.6 Intel i7-12800H, Nvidia RTX A1000, 16GB DDR5, 512GB SSD</td>\n",
              "      <td>15.6</td>\n",
              "      <td>None</td>\n",
              "      <td>Intel Core i7</td>\n",
              "      <td>NVIDIA GeForce</td>\n",
              "      <td>Dedicated Graphics</td>\n",
              "      <td>15.6</td>\n",
              "      <td>Excellent - Refurbished</td>\n",
              "      <td>869.95</td>\n",
              "      <td>NaN</td>\n",
              "      <td>NaN</td>\n",
              "      <td>512</td>\n",
              "      <td>0</td>\n",
              "    </tr>\n",
              "    <tr>\n",
              "      <th>689</th>\n",
              "      <td>HP</td>\n",
              "      <td>HP ZBook Power G10 15.6 Intel i7-13700H, Nvidia RTX A1000, 16GB DDR5, 512GB SSD</td>\n",
              "      <td>15.6</td>\n",
              "      <td>None</td>\n",
              "      <td>Intel Core i7</td>\n",
              "      <td>NVIDIA GeForce</td>\n",
              "      <td>Dedicated Graphics</td>\n",
              "      <td>15.6</td>\n",
              "      <td>Excellent - Refurbished</td>\n",
              "      <td>999.95</td>\n",
              "      <td>NaN</td>\n",
              "      <td>NaN</td>\n",
              "      <td>512</td>\n",
              "      <td>0</td>\n",
              "    </tr>\n",
              "    <tr>\n",
              "      <th>822</th>\n",
              "      <td>Dell</td>\n",
              "      <td>Dell LATITUDE 5400 CHROME 14 Touch I5-8365U 128GB SSD 4GB W10 Backlit Keyboard</td>\n",
              "      <td>14.0</td>\n",
              "      <td>None</td>\n",
              "      <td>Intel Core i5</td>\n",
              "      <td>Other Intel</td>\n",
              "      <td>Integrated/On-Board Graphics</td>\n",
              "      <td>Not Included</td>\n",
              "      <td>Good - Refurbished</td>\n",
              "      <td>148.99</td>\n",
              "      <td>NaN</td>\n",
              "      <td>NaN</td>\n",
              "      <td>128</td>\n",
              "      <td>0</td>\n",
              "    </tr>\n",
              "    <tr>\n",
              "      <th>1251</th>\n",
              "      <td>Dell</td>\n",
              "      <td>Alienware 13-R1 Gaming Laptop 24 HOUR SALE!</td>\n",
              "      <td>13.0</td>\n",
              "      <td>None</td>\n",
              "      <td>Intel Core i7</td>\n",
              "      <td>NVIDIA GeForce</td>\n",
              "      <td>Dedicated Graphics</td>\n",
              "      <td>Touchscreen</td>\n",
              "      <td>Open box</td>\n",
              "      <td>829.99</td>\n",
              "      <td>NaN</td>\n",
              "      <td>NaN</td>\n",
              "      <td>0</td>\n",
              "      <td>0</td>\n",
              "    </tr>\n",
              "    <tr>\n",
              "      <th>1257</th>\n",
              "      <td>Lenovo</td>\n",
              "      <td>LENOVO X1 NANO GEN 1 13\" Touch I7-1180G7 1TB SSD 16GB W11P Backlit FP Reader</td>\n",
              "      <td>13.0</td>\n",
              "      <td>None</td>\n",
              "      <td>Intel Core i7</td>\n",
              "      <td>Other Intel</td>\n",
              "      <td>Integrated/On-Board Graphics</td>\n",
              "      <td>Not Included</td>\n",
              "      <td>Very Good - Refurbished</td>\n",
              "      <td>881.99</td>\n",
              "      <td>NaN</td>\n",
              "      <td>NaN</td>\n",
              "      <td>1000</td>\n",
              "      <td>0</td>\n",
              "    </tr>\n",
              "  </tbody>\n",
              "</table>\n",
              "</div>\n",
              "    <div class=\"colab-df-buttons\">\n",
              "\n",
              "  <div class=\"colab-df-container\">\n",
              "    <button class=\"colab-df-convert\" onclick=\"convertToInteractive('df-f3ad090e-4a22-4d48-a6f8-c491e2e85b0e')\"\n",
              "            title=\"Convert this dataframe to an interactive table.\"\n",
              "            style=\"display:none;\">\n",
              "\n",
              "  <svg xmlns=\"http://www.w3.org/2000/svg\" height=\"24px\" viewBox=\"0 -960 960 960\">\n",
              "    <path d=\"M120-120v-720h720v720H120Zm60-500h600v-160H180v160Zm220 220h160v-160H400v160Zm0 220h160v-160H400v160ZM180-400h160v-160H180v160Zm440 0h160v-160H620v160ZM180-180h160v-160H180v160Zm440 0h160v-160H620v160Z\"/>\n",
              "  </svg>\n",
              "    </button>\n",
              "\n",
              "  <style>\n",
              "    .colab-df-container {\n",
              "      display:flex;\n",
              "      gap: 12px;\n",
              "    }\n",
              "\n",
              "    .colab-df-convert {\n",
              "      background-color: #E8F0FE;\n",
              "      border: none;\n",
              "      border-radius: 50%;\n",
              "      cursor: pointer;\n",
              "      display: none;\n",
              "      fill: #1967D2;\n",
              "      height: 32px;\n",
              "      padding: 0 0 0 0;\n",
              "      width: 32px;\n",
              "    }\n",
              "\n",
              "    .colab-df-convert:hover {\n",
              "      background-color: #E2EBFA;\n",
              "      box-shadow: 0px 1px 2px rgba(60, 64, 67, 0.3), 0px 1px 3px 1px rgba(60, 64, 67, 0.15);\n",
              "      fill: #174EA6;\n",
              "    }\n",
              "\n",
              "    .colab-df-buttons div {\n",
              "      margin-bottom: 4px;\n",
              "    }\n",
              "\n",
              "    [theme=dark] .colab-df-convert {\n",
              "      background-color: #3B4455;\n",
              "      fill: #D2E3FC;\n",
              "    }\n",
              "\n",
              "    [theme=dark] .colab-df-convert:hover {\n",
              "      background-color: #434B5C;\n",
              "      box-shadow: 0px 1px 3px 1px rgba(0, 0, 0, 0.15);\n",
              "      filter: drop-shadow(0px 1px 2px rgba(0, 0, 0, 0.3));\n",
              "      fill: #FFFFFF;\n",
              "    }\n",
              "  </style>\n",
              "\n",
              "    <script>\n",
              "      const buttonEl =\n",
              "        document.querySelector('#df-f3ad090e-4a22-4d48-a6f8-c491e2e85b0e button.colab-df-convert');\n",
              "      buttonEl.style.display =\n",
              "        google.colab.kernel.accessAllowed ? 'block' : 'none';\n",
              "\n",
              "      async function convertToInteractive(key) {\n",
              "        const element = document.querySelector('#df-f3ad090e-4a22-4d48-a6f8-c491e2e85b0e');\n",
              "        const dataTable =\n",
              "          await google.colab.kernel.invokeFunction('convertToInteractive',\n",
              "                                                    [key], {});\n",
              "        if (!dataTable) return;\n",
              "\n",
              "        const docLinkHtml = 'Like what you see? Visit the ' +\n",
              "          '<a target=\"_blank\" href=https://colab.research.google.com/notebooks/data_table.ipynb>data table notebook</a>'\n",
              "          + ' to learn more about interactive tables.';\n",
              "        element.innerHTML = '';\n",
              "        dataTable['output_type'] = 'display_data';\n",
              "        await google.colab.output.renderOutput(dataTable, element);\n",
              "        const docLink = document.createElement('div');\n",
              "        docLink.innerHTML = docLinkHtml;\n",
              "        element.appendChild(docLink);\n",
              "      }\n",
              "    </script>\n",
              "  </div>\n",
              "\n",
              "\n",
              "<div id=\"df-e033c1ce-c424-4674-9a93-5ffb8e1646ae\">\n",
              "  <button class=\"colab-df-quickchart\" onclick=\"quickchart('df-e033c1ce-c424-4674-9a93-5ffb8e1646ae')\"\n",
              "            title=\"Suggest charts\"\n",
              "            style=\"display:none;\">\n",
              "\n",
              "<svg xmlns=\"http://www.w3.org/2000/svg\" height=\"24px\"viewBox=\"0 0 24 24\"\n",
              "     width=\"24px\">\n",
              "    <g>\n",
              "        <path d=\"M19 3H5c-1.1 0-2 .9-2 2v14c0 1.1.9 2 2 2h14c1.1 0 2-.9 2-2V5c0-1.1-.9-2-2-2zM9 17H7v-7h2v7zm4 0h-2V7h2v10zm4 0h-2v-4h2v4z\"/>\n",
              "    </g>\n",
              "</svg>\n",
              "  </button>\n",
              "\n",
              "<style>\n",
              "  .colab-df-quickchart {\n",
              "      --bg-color: #E8F0FE;\n",
              "      --fill-color: #1967D2;\n",
              "      --hover-bg-color: #E2EBFA;\n",
              "      --hover-fill-color: #174EA6;\n",
              "      --disabled-fill-color: #AAA;\n",
              "      --disabled-bg-color: #DDD;\n",
              "  }\n",
              "\n",
              "  [theme=dark] .colab-df-quickchart {\n",
              "      --bg-color: #3B4455;\n",
              "      --fill-color: #D2E3FC;\n",
              "      --hover-bg-color: #434B5C;\n",
              "      --hover-fill-color: #FFFFFF;\n",
              "      --disabled-bg-color: #3B4455;\n",
              "      --disabled-fill-color: #666;\n",
              "  }\n",
              "\n",
              "  .colab-df-quickchart {\n",
              "    background-color: var(--bg-color);\n",
              "    border: none;\n",
              "    border-radius: 50%;\n",
              "    cursor: pointer;\n",
              "    display: none;\n",
              "    fill: var(--fill-color);\n",
              "    height: 32px;\n",
              "    padding: 0;\n",
              "    width: 32px;\n",
              "  }\n",
              "\n",
              "  .colab-df-quickchart:hover {\n",
              "    background-color: var(--hover-bg-color);\n",
              "    box-shadow: 0 1px 2px rgba(60, 64, 67, 0.3), 0 1px 3px 1px rgba(60, 64, 67, 0.15);\n",
              "    fill: var(--button-hover-fill-color);\n",
              "  }\n",
              "\n",
              "  .colab-df-quickchart-complete:disabled,\n",
              "  .colab-df-quickchart-complete:disabled:hover {\n",
              "    background-color: var(--disabled-bg-color);\n",
              "    fill: var(--disabled-fill-color);\n",
              "    box-shadow: none;\n",
              "  }\n",
              "\n",
              "  .colab-df-spinner {\n",
              "    border: 2px solid var(--fill-color);\n",
              "    border-color: transparent;\n",
              "    border-bottom-color: var(--fill-color);\n",
              "    animation:\n",
              "      spin 1s steps(1) infinite;\n",
              "  }\n",
              "\n",
              "  @keyframes spin {\n",
              "    0% {\n",
              "      border-color: transparent;\n",
              "      border-bottom-color: var(--fill-color);\n",
              "      border-left-color: var(--fill-color);\n",
              "    }\n",
              "    20% {\n",
              "      border-color: transparent;\n",
              "      border-left-color: var(--fill-color);\n",
              "      border-top-color: var(--fill-color);\n",
              "    }\n",
              "    30% {\n",
              "      border-color: transparent;\n",
              "      border-left-color: var(--fill-color);\n",
              "      border-top-color: var(--fill-color);\n",
              "      border-right-color: var(--fill-color);\n",
              "    }\n",
              "    40% {\n",
              "      border-color: transparent;\n",
              "      border-right-color: var(--fill-color);\n",
              "      border-top-color: var(--fill-color);\n",
              "    }\n",
              "    60% {\n",
              "      border-color: transparent;\n",
              "      border-right-color: var(--fill-color);\n",
              "    }\n",
              "    80% {\n",
              "      border-color: transparent;\n",
              "      border-right-color: var(--fill-color);\n",
              "      border-bottom-color: var(--fill-color);\n",
              "    }\n",
              "    90% {\n",
              "      border-color: transparent;\n",
              "      border-bottom-color: var(--fill-color);\n",
              "    }\n",
              "  }\n",
              "</style>\n",
              "\n",
              "  <script>\n",
              "    async function quickchart(key) {\n",
              "      const quickchartButtonEl =\n",
              "        document.querySelector('#' + key + ' button');\n",
              "      quickchartButtonEl.disabled = true;  // To prevent multiple clicks.\n",
              "      quickchartButtonEl.classList.add('colab-df-spinner');\n",
              "      try {\n",
              "        const charts = await google.colab.kernel.invokeFunction(\n",
              "            'suggestCharts', [key], {});\n",
              "      } catch (error) {\n",
              "        console.error('Error during call to suggestCharts:', error);\n",
              "      }\n",
              "      quickchartButtonEl.classList.remove('colab-df-spinner');\n",
              "      quickchartButtonEl.classList.add('colab-df-quickchart-complete');\n",
              "    }\n",
              "    (() => {\n",
              "      let quickchartButtonEl =\n",
              "        document.querySelector('#df-e033c1ce-c424-4674-9a93-5ffb8e1646ae button');\n",
              "      quickchartButtonEl.style.display =\n",
              "        google.colab.kernel.accessAllowed ? 'block' : 'none';\n",
              "    })();\n",
              "  </script>\n",
              "</div>\n",
              "\n",
              "    </div>\n",
              "  </div>\n"
            ],
            "application/vnd.google.colaboratory.intrinsic+json": {
              "type": "dataframe",
              "repr_error": "0"
            }
          },
          "metadata": {},
          "execution_count": 36
        }
      ],
      "source": [
        "dfp.loc[(dfp[\"Resolution_Width\"].isnull()) | (dfp[\"Resolution_Height\"].isnull())]"
      ]
    },
    {
      "cell_type": "code",
      "execution_count": 37,
      "id": "c4f3be08",
      "metadata": {
        "execution": {
          "iopub.execute_input": "2024-08-18T05:00:33.455052Z",
          "iopub.status.busy": "2024-08-18T05:00:33.454597Z",
          "iopub.status.idle": "2024-08-18T05:00:33.467450Z",
          "shell.execute_reply": "2024-08-18T05:00:33.466213Z"
        },
        "papermill": {
          "duration": 0.046109,
          "end_time": "2024-08-18T05:00:33.470098",
          "exception": false,
          "start_time": "2024-08-18T05:00:33.423989",
          "status": "completed"
        },
        "tags": [],
        "id": "c4f3be08"
      },
      "outputs": [],
      "source": [
        "dfp.loc[(dfp[\"SSD\"] == 0) & (dfp['HDD'] == 0), [\"SSD\", \"HDD\"]] = [np.nan, np.nan]"
      ]
    },
    {
      "cell_type": "code",
      "execution_count": 38,
      "id": "e825fc5b",
      "metadata": {
        "execution": {
          "iopub.execute_input": "2024-08-18T05:00:33.529831Z",
          "iopub.status.busy": "2024-08-18T05:00:33.528460Z",
          "iopub.status.idle": "2024-08-18T05:00:33.542536Z",
          "shell.execute_reply": "2024-08-18T05:00:33.541142Z"
        },
        "papermill": {
          "duration": 0.046993,
          "end_time": "2024-08-18T05:00:33.545481",
          "exception": false,
          "start_time": "2024-08-18T05:00:33.498488",
          "status": "completed"
        },
        "tags": [],
        "colab": {
          "base_uri": "https://localhost:8080/",
          "height": 523
        },
        "id": "e825fc5b",
        "outputId": "b97b7f0e-4c3a-42af-b2e2-f989b314b890"
      },
      "outputs": [
        {
          "output_type": "execute_result",
          "data": {
            "text/plain": [
              "Brand                     0\n",
              "Product_Description       0\n",
              "Screen_Size               0\n",
              "RAM                    2952\n",
              "Processor                 0\n",
              "GPU                       0\n",
              "GPU_Type                  0\n",
              "Resolution                0\n",
              "Condition                 0\n",
              "Price                     0\n",
              "Resolution_Width          5\n",
              "Resolution_Height         5\n",
              "SSD                    1154\n",
              "HDD                    1154\n",
              "dtype: int64"
            ],
            "text/html": [
              "<div>\n",
              "<style scoped>\n",
              "    .dataframe tbody tr th:only-of-type {\n",
              "        vertical-align: middle;\n",
              "    }\n",
              "\n",
              "    .dataframe tbody tr th {\n",
              "        vertical-align: top;\n",
              "    }\n",
              "\n",
              "    .dataframe thead th {\n",
              "        text-align: right;\n",
              "    }\n",
              "</style>\n",
              "<table border=\"1\" class=\"dataframe\">\n",
              "  <thead>\n",
              "    <tr style=\"text-align: right;\">\n",
              "      <th></th>\n",
              "      <th>0</th>\n",
              "    </tr>\n",
              "  </thead>\n",
              "  <tbody>\n",
              "    <tr>\n",
              "      <th>Brand</th>\n",
              "      <td>0</td>\n",
              "    </tr>\n",
              "    <tr>\n",
              "      <th>Product_Description</th>\n",
              "      <td>0</td>\n",
              "    </tr>\n",
              "    <tr>\n",
              "      <th>Screen_Size</th>\n",
              "      <td>0</td>\n",
              "    </tr>\n",
              "    <tr>\n",
              "      <th>RAM</th>\n",
              "      <td>2952</td>\n",
              "    </tr>\n",
              "    <tr>\n",
              "      <th>Processor</th>\n",
              "      <td>0</td>\n",
              "    </tr>\n",
              "    <tr>\n",
              "      <th>GPU</th>\n",
              "      <td>0</td>\n",
              "    </tr>\n",
              "    <tr>\n",
              "      <th>GPU_Type</th>\n",
              "      <td>0</td>\n",
              "    </tr>\n",
              "    <tr>\n",
              "      <th>Resolution</th>\n",
              "      <td>0</td>\n",
              "    </tr>\n",
              "    <tr>\n",
              "      <th>Condition</th>\n",
              "      <td>0</td>\n",
              "    </tr>\n",
              "    <tr>\n",
              "      <th>Price</th>\n",
              "      <td>0</td>\n",
              "    </tr>\n",
              "    <tr>\n",
              "      <th>Resolution_Width</th>\n",
              "      <td>5</td>\n",
              "    </tr>\n",
              "    <tr>\n",
              "      <th>Resolution_Height</th>\n",
              "      <td>5</td>\n",
              "    </tr>\n",
              "    <tr>\n",
              "      <th>SSD</th>\n",
              "      <td>1154</td>\n",
              "    </tr>\n",
              "    <tr>\n",
              "      <th>HDD</th>\n",
              "      <td>1154</td>\n",
              "    </tr>\n",
              "  </tbody>\n",
              "</table>\n",
              "</div><br><label><b>dtype:</b> int64</label>"
            ]
          },
          "metadata": {},
          "execution_count": 38
        }
      ],
      "source": [
        "dfp.isnull().sum()"
      ]
    },
    {
      "cell_type": "code",
      "execution_count": 39,
      "id": "83b37e02",
      "metadata": {
        "execution": {
          "iopub.execute_input": "2024-08-18T05:00:33.662033Z",
          "iopub.status.busy": "2024-08-18T05:00:33.661213Z",
          "iopub.status.idle": "2024-08-18T05:00:33.996807Z",
          "shell.execute_reply": "2024-08-18T05:00:33.995514Z"
        },
        "papermill": {
          "duration": 0.36932,
          "end_time": "2024-08-18T05:00:33.999699",
          "exception": false,
          "start_time": "2024-08-18T05:00:33.630379",
          "status": "completed"
        },
        "tags": [],
        "id": "83b37e02"
      },
      "outputs": [],
      "source": [
        "num_cols = dfp.select_dtypes(include=[\"float\",\"int\"]).columns\n",
        "imputer = KNNImputer(n_neighbors=2).set_output(transform=\"pandas\")\n",
        "dfp[num_cols] = imputer.fit_transform(dfp[num_cols])"
      ]
    },
    {
      "cell_type": "code",
      "execution_count": 40,
      "id": "dd66fb77",
      "metadata": {
        "execution": {
          "iopub.execute_input": "2024-08-18T05:00:34.058113Z",
          "iopub.status.busy": "2024-08-18T05:00:34.057680Z",
          "iopub.status.idle": "2024-08-18T05:00:34.071553Z",
          "shell.execute_reply": "2024-08-18T05:00:34.070240Z"
        },
        "papermill": {
          "duration": 0.046136,
          "end_time": "2024-08-18T05:00:34.074265",
          "exception": false,
          "start_time": "2024-08-18T05:00:34.028129",
          "status": "completed"
        },
        "tags": [],
        "colab": {
          "base_uri": "https://localhost:8080/",
          "height": 523
        },
        "id": "dd66fb77",
        "outputId": "5f13067b-6085-4d9c-84fd-0ab74d352c5d"
      },
      "outputs": [
        {
          "output_type": "execute_result",
          "data": {
            "text/plain": [
              "Brand                     0\n",
              "Product_Description       0\n",
              "Screen_Size               0\n",
              "RAM                    2952\n",
              "Processor                 0\n",
              "GPU                       0\n",
              "GPU_Type                  0\n",
              "Resolution                0\n",
              "Condition                 0\n",
              "Price                     0\n",
              "Resolution_Width          0\n",
              "Resolution_Height         0\n",
              "SSD                       0\n",
              "HDD                       0\n",
              "dtype: int64"
            ],
            "text/html": [
              "<div>\n",
              "<style scoped>\n",
              "    .dataframe tbody tr th:only-of-type {\n",
              "        vertical-align: middle;\n",
              "    }\n",
              "\n",
              "    .dataframe tbody tr th {\n",
              "        vertical-align: top;\n",
              "    }\n",
              "\n",
              "    .dataframe thead th {\n",
              "        text-align: right;\n",
              "    }\n",
              "</style>\n",
              "<table border=\"1\" class=\"dataframe\">\n",
              "  <thead>\n",
              "    <tr style=\"text-align: right;\">\n",
              "      <th></th>\n",
              "      <th>0</th>\n",
              "    </tr>\n",
              "  </thead>\n",
              "  <tbody>\n",
              "    <tr>\n",
              "      <th>Brand</th>\n",
              "      <td>0</td>\n",
              "    </tr>\n",
              "    <tr>\n",
              "      <th>Product_Description</th>\n",
              "      <td>0</td>\n",
              "    </tr>\n",
              "    <tr>\n",
              "      <th>Screen_Size</th>\n",
              "      <td>0</td>\n",
              "    </tr>\n",
              "    <tr>\n",
              "      <th>RAM</th>\n",
              "      <td>2952</td>\n",
              "    </tr>\n",
              "    <tr>\n",
              "      <th>Processor</th>\n",
              "      <td>0</td>\n",
              "    </tr>\n",
              "    <tr>\n",
              "      <th>GPU</th>\n",
              "      <td>0</td>\n",
              "    </tr>\n",
              "    <tr>\n",
              "      <th>GPU_Type</th>\n",
              "      <td>0</td>\n",
              "    </tr>\n",
              "    <tr>\n",
              "      <th>Resolution</th>\n",
              "      <td>0</td>\n",
              "    </tr>\n",
              "    <tr>\n",
              "      <th>Condition</th>\n",
              "      <td>0</td>\n",
              "    </tr>\n",
              "    <tr>\n",
              "      <th>Price</th>\n",
              "      <td>0</td>\n",
              "    </tr>\n",
              "    <tr>\n",
              "      <th>Resolution_Width</th>\n",
              "      <td>0</td>\n",
              "    </tr>\n",
              "    <tr>\n",
              "      <th>Resolution_Height</th>\n",
              "      <td>0</td>\n",
              "    </tr>\n",
              "    <tr>\n",
              "      <th>SSD</th>\n",
              "      <td>0</td>\n",
              "    </tr>\n",
              "    <tr>\n",
              "      <th>HDD</th>\n",
              "      <td>0</td>\n",
              "    </tr>\n",
              "  </tbody>\n",
              "</table>\n",
              "</div><br><label><b>dtype:</b> int64</label>"
            ]
          },
          "metadata": {},
          "execution_count": 40
        }
      ],
      "source": [
        "dfp.isnull().sum()"
      ]
    },
    {
      "cell_type": "code",
      "execution_count": 41,
      "id": "38be305a",
      "metadata": {
        "execution": {
          "iopub.execute_input": "2024-08-18T05:00:34.134452Z",
          "iopub.status.busy": "2024-08-18T05:00:34.133996Z",
          "iopub.status.idle": "2024-08-18T05:00:34.141849Z",
          "shell.execute_reply": "2024-08-18T05:00:34.140468Z"
        },
        "papermill": {
          "duration": 0.040736,
          "end_time": "2024-08-18T05:00:34.144263",
          "exception": false,
          "start_time": "2024-08-18T05:00:34.103527",
          "status": "completed"
        },
        "tags": [],
        "id": "38be305a"
      },
      "outputs": [],
      "source": [
        "dfp.drop([\"Product_Description\",\"Resolution\"],axis=1,inplace=True)"
      ]
    },
    {
      "cell_type": "markdown",
      "id": "2e7b1602",
      "metadata": {
        "papermill": {
          "duration": 0.029634,
          "end_time": "2024-08-18T05:00:34.258793",
          "exception": false,
          "start_time": "2024-08-18T05:00:34.229159",
          "status": "completed"
        },
        "tags": [],
        "id": "2e7b1602"
      },
      "source": [
        "## 3. Exploratory Data Analysis"
      ]
    },
    {
      "cell_type": "code",
      "execution_count": 42,
      "id": "da3190b6",
      "metadata": {
        "execution": {
          "iopub.execute_input": "2024-08-18T05:00:34.317538Z",
          "iopub.status.busy": "2024-08-18T05:00:34.317112Z",
          "iopub.status.idle": "2024-08-18T05:00:34.689685Z",
          "shell.execute_reply": "2024-08-18T05:00:34.688370Z"
        },
        "papermill": {
          "duration": 0.40498,
          "end_time": "2024-08-18T05:00:34.692252",
          "exception": false,
          "start_time": "2024-08-18T05:00:34.287272",
          "status": "completed"
        },
        "tags": [],
        "colab": {
          "base_uri": "https://localhost:8080/",
          "height": 449
        },
        "id": "da3190b6",
        "outputId": "3ce4eee3-0271-4652-c692-570c002c5c62"
      },
      "outputs": [
        {
          "output_type": "display_data",
          "data": {
            "text/plain": [
              "<Figure size 640x480 with 1 Axes>"
            ],
            "image/png": "[encoded data removed]"
          },
          "metadata": {}
        }
      ],
      "source": [
        "sns.histplot(df[\"Price\"],kde=True,color='red')\n",
        "plt.show()"
      ]
    },
    {
      "cell_type": "code",
      "execution_count": 43,
      "id": "b41e6a82",
      "metadata": {
        "execution": {
          "iopub.execute_input": "2024-08-18T05:00:34.809354Z",
          "iopub.status.busy": "2024-08-18T05:00:34.808923Z",
          "iopub.status.idle": "2024-08-18T05:00:34.815765Z",
          "shell.execute_reply": "2024-08-18T05:00:34.814237Z"
        },
        "papermill": {
          "duration": 0.040051,
          "end_time": "2024-08-18T05:00:34.818375",
          "exception": false,
          "start_time": "2024-08-18T05:00:34.778324",
          "status": "completed"
        },
        "tags": [],
        "id": "b41e6a82"
      },
      "outputs": [],
      "source": [
        "def countplot(col):\n",
        "    plt.figure(figsize=(5,4))\n",
        "    sns.countplot(data=dfp, x=col, palette=\"bright\")\n",
        "    plt.xticks(rotation=90)"
      ]
    },
    {
      "cell_type": "code",
      "execution_count": 44,
      "id": "77ec5c8d",
      "metadata": {
        "execution": {
          "iopub.execute_input": "2024-08-18T05:00:34.878362Z",
          "iopub.status.busy": "2024-08-18T05:00:34.877939Z",
          "iopub.status.idle": "2024-08-18T05:00:35.950479Z",
          "shell.execute_reply": "2024-08-18T05:00:35.949111Z"
        },
        "papermill": {
          "duration": 1.105759,
          "end_time": "2024-08-18T05:00:35.953454",
          "exception": false,
          "start_time": "2024-08-18T05:00:34.847695",
          "status": "completed"
        },
        "tags": [],
        "colab": {
          "base_uri": "https://localhost:8080/",
          "height": 1846
        },
        "id": "77ec5c8d",
        "outputId": "28a34102-1fad-4766-9a01-0a6290650558"
      },
      "outputs": [
        {
          "output_type": "display_data",
          "data": {
            "text/plain": [
              "<Figure size 500x400 with 1 Axes>"
            ],
            "image/png": "[encoded data removed]"
          },
          "metadata": {}
        },
        {
          "output_type": "display_data",
          "data": {
            "text/plain": [
              "<Figure size 500x400 with 1 Axes>"
            ],
            "image/png": "[encoded data removed]"
          },
          "metadata": {}
        },
        {
          "output_type": "display_data",
          "data": {
            "text/plain": [
              "<Figure size 500x400 with 1 Axes>"
            ],
            "image/png": "[encoded data removed]"
          },
          "metadata": {}
        },
        {
          "output_type": "display_data",
          "data": {
            "text/plain": [
              "<Figure size 500x400 with 1 Axes>"
            ],
            "image/png": "[encoded data removed]"
          },
          "metadata": {}
        }
      ],
      "source": [
        "for col in [\"RAM\",\"Brand\",\"GPU_Type\",\"GPU\"]:\n",
        "    countplot(col)"
      ]
    },
    {
      "cell_type": "code",
      "execution_count": 45,
      "id": "8c8e9149",
      "metadata": {
        "execution": {
          "iopub.execute_input": "2024-08-18T05:00:36.081624Z",
          "iopub.status.busy": "2024-08-18T05:00:36.081157Z",
          "iopub.status.idle": "2024-08-18T05:00:36.087585Z",
          "shell.execute_reply": "2024-08-18T05:00:36.085977Z"
        },
        "papermill": {
          "duration": 0.042315,
          "end_time": "2024-08-18T05:00:36.090322",
          "exception": false,
          "start_time": "2024-08-18T05:00:36.048007",
          "status": "completed"
        },
        "tags": [],
        "id": "8c8e9149"
      },
      "outputs": [],
      "source": [
        "def barplot(col):\n",
        "    sns.barplot(data=dfp, x=col, y=\"Price\", palette=\"bright\")\n",
        "    plt.xticks(rotation=90)\n",
        "    plt.show()"
      ]
    },
    {
      "cell_type": "code",
      "execution_count": 46,
      "id": "c7421418",
      "metadata": {
        "execution": {
          "iopub.execute_input": "2024-08-18T05:00:36.155057Z",
          "iopub.status.busy": "2024-08-18T05:00:36.154613Z",
          "iopub.status.idle": "2024-08-18T05:00:36.163583Z",
          "shell.execute_reply": "2024-08-18T05:00:36.162382Z"
        },
        "papermill": {
          "duration": 0.045411,
          "end_time": "2024-08-18T05:00:36.166712",
          "exception": false,
          "start_time": "2024-08-18T05:00:36.121301",
          "status": "completed"
        },
        "tags": [],
        "id": "c7421418"
      },
      "outputs": [],
      "source": [
        "cat_cols = dfp.select_dtypes(include=\"object\").columns\n",
        "num_cols = dfp.select_dtypes(include=[\"int\",\"float\"]).columns"
      ]
    },
    {
      "cell_type": "code",
      "execution_count": 47,
      "id": "03bb3188",
      "metadata": {
        "execution": {
          "iopub.execute_input": "2024-08-18T05:00:36.231970Z",
          "iopub.status.busy": "2024-08-18T05:00:36.231518Z",
          "iopub.status.idle": "2024-08-18T05:00:38.838473Z",
          "shell.execute_reply": "2024-08-18T05:00:38.837191Z"
        },
        "papermill": {
          "duration": 2.642305,
          "end_time": "2024-08-18T05:00:38.840962",
          "exception": false,
          "start_time": "2024-08-18T05:00:36.198657",
          "status": "completed"
        },
        "tags": [],
        "colab": {
          "base_uri": "https://localhost:8080/",
          "height": 3190
        },
        "id": "03bb3188",
        "outputId": "446be399-1137-4eab-aff5-4a95e1c3a72a"
      },
      "outputs": [
        {
          "output_type": "display_data",
          "data": {
            "text/plain": [
              "<Figure size 640x480 with 1 Axes>"
            ],
            "image/png": "[encoded data removed]"
          },
          "metadata": {}
        },
        {
          "output_type": "display_data",
          "data": {
            "text/plain": [
              "<Figure size 640x480 with 1 Axes>"
            ],
            "image/png": "[encoded data removed]"
          },
          "metadata": {}
        },
        {
          "output_type": "display_data",
          "data": {
            "text/plain": [
              "<Figure size 640x480 with 1 Axes>"
            ],
            "image/png": "[encoded data removed]"
          },
          "metadata": {}
        },
        {
          "output_type": "display_data",
          "data": {
            "text/plain": [
              "<Figure size 640x480 with 1 Axes>"
            ],
            "image/png": "[encoded data removed]"
          },
          "metadata": {}
        },
        {
          "output_type": "display_data",
          "data": {
            "text/plain": [
              "<Figure size 640x480 with 1 Axes>"
            ],
            "image/png": "[encoded data removed]"
          },
          "metadata": {}
        },
        {
          "output_type": "display_data",
          "data": {
            "text/plain": [
              "<Figure size 640x480 with 1 Axes>"
            ],
            "image/png": "[encoded data removed]"
          },
          "metadata": {}
        }
      ],
      "source": [
        "for col in cat_cols:\n",
        "    barplot(col)"
      ]
    },
    {
      "cell_type": "code",
      "execution_count": 48,
      "id": "b2efdfec",
      "metadata": {
        "execution": {
          "iopub.execute_input": "2024-08-18T05:00:38.976340Z",
          "iopub.status.busy": "2024-08-18T05:00:38.975897Z",
          "iopub.status.idle": "2024-08-18T05:00:40.959270Z",
          "shell.execute_reply": "2024-08-18T05:00:40.957964Z"
        },
        "papermill": {
          "duration": 2.021072,
          "end_time": "2024-08-18T05:00:40.962222",
          "exception": false,
          "start_time": "2024-08-18T05:00:38.941150",
          "status": "completed"
        },
        "tags": [],
        "colab": {
          "base_uri": "https://localhost:8080/",
          "height": 2723
        },
        "id": "b2efdfec",
        "outputId": "8bb0e6a7-d172-496f-93ec-934131247b82"
      },
      "outputs": [
        {
          "output_type": "display_data",
          "data": {
            "text/plain": [
              "<Figure size 640x480 with 1 Axes>"
            ],
            "image/png": "[encoded data removed]"
          },
          "metadata": {}
        },
        {
          "output_type": "display_data",
          "data": {
            "text/plain": [
              "<Figure size 640x480 with 1 Axes>"
            ],
            "image/png": "[encoded data removed]"
          },
          "metadata": {}
        },
        {
          "output_type": "display_data",
          "data": {
            "text/plain": [
              "<Figure size 640x480 with 1 Axes>"
            ],
            "image/png": "[encoded data removed]"
          },
          "metadata": {}
        },
        {
          "output_type": "display_data",
          "data": {
            "text/plain": [
              "<Figure size 640x480 with 1 Axes>"
            ],
            "image/png": "[encoded data removed]"
          },
          "metadata": {}
        },
        {
          "output_type": "display_data",
          "data": {
            "text/plain": [
              "<Figure size 640x480 with 1 Axes>"
            ],
            "image/png": "[encoded data removed]"
          },
          "metadata": {}
        },
        {
          "output_type": "display_data",
          "data": {
            "text/plain": [
              "<Figure size 640x480 with 1 Axes>"
            ],
            "image/png": "[encoded data removed]"
          },
          "metadata": {}
        }
      ],
      "source": [
        "def scatterplot(col):\n",
        "    sns.scatterplot(data=dfp, x=col, y=\"Price\", palette=\"bright\")\n",
        "    plt.xticks(rotation=90)\n",
        "    plt.show()\n",
        "for col in num_cols:\n",
        "    scatterplot(col)"
      ]
    },
    {
      "cell_type": "code",
      "execution_count": 49,
      "id": "9c50faa5",
      "metadata": {
        "execution": {
          "iopub.execute_input": "2024-08-18T05:00:41.124636Z",
          "iopub.status.busy": "2024-08-18T05:00:41.124129Z",
          "iopub.status.idle": "2024-08-18T05:00:41.141131Z",
          "shell.execute_reply": "2024-08-18T05:00:41.139863Z"
        },
        "papermill": {
          "duration": 0.063218,
          "end_time": "2024-08-18T05:00:41.143951",
          "exception": false,
          "start_time": "2024-08-18T05:00:41.080733",
          "status": "completed"
        },
        "tags": [],
        "colab": {
          "base_uri": "https://localhost:8080/",
          "height": 398
        },
        "id": "9c50faa5",
        "outputId": "1c7a37cb-1daf-4fbd-c9bc-eeb4aba2745d"
      },
      "outputs": [
        {
          "output_type": "execute_result",
          "data": {
            "text/plain": [
              "Brand\n",
              "Dell         1109\n",
              "Lenovo        627\n",
              "HP            578\n",
              "Microsoft     197\n",
              "Asus          134\n",
              "Acer          100\n",
              "Other          84\n",
              "MSI            62\n",
              "Samsung        61\n",
              "Name: count, dtype: int64"
            ],
            "text/html": [
              "<div>\n",
              "<style scoped>\n",
              "    .dataframe tbody tr th:only-of-type {\n",
              "        vertical-align: middle;\n",
              "    }\n",
              "\n",
              "    .dataframe tbody tr th {\n",
              "        vertical-align: top;\n",
              "    }\n",
              "\n",
              "    .dataframe thead th {\n",
              "        text-align: right;\n",
              "    }\n",
              "</style>\n",
              "<table border=\"1\" class=\"dataframe\">\n",
              "  <thead>\n",
              "    <tr style=\"text-align: right;\">\n",
              "      <th></th>\n",
              "      <th>count</th>\n",
              "    </tr>\n",
              "    <tr>\n",
              "      <th>Brand</th>\n",
              "      <th></th>\n",
              "    </tr>\n",
              "  </thead>\n",
              "  <tbody>\n",
              "    <tr>\n",
              "      <th>Dell</th>\n",
              "      <td>1109</td>\n",
              "    </tr>\n",
              "    <tr>\n",
              "      <th>Lenovo</th>\n",
              "      <td>627</td>\n",
              "    </tr>\n",
              "    <tr>\n",
              "      <th>HP</th>\n",
              "      <td>578</td>\n",
              "    </tr>\n",
              "    <tr>\n",
              "      <th>Microsoft</th>\n",
              "      <td>197</td>\n",
              "    </tr>\n",
              "    <tr>\n",
              "      <th>Asus</th>\n",
              "      <td>134</td>\n",
              "    </tr>\n",
              "    <tr>\n",
              "      <th>Acer</th>\n",
              "      <td>100</td>\n",
              "    </tr>\n",
              "    <tr>\n",
              "      <th>Other</th>\n",
              "      <td>84</td>\n",
              "    </tr>\n",
              "    <tr>\n",
              "      <th>MSI</th>\n",
              "      <td>62</td>\n",
              "    </tr>\n",
              "    <tr>\n",
              "      <th>Samsung</th>\n",
              "      <td>61</td>\n",
              "    </tr>\n",
              "  </tbody>\n",
              "</table>\n",
              "</div><br><label><b>dtype:</b> int64</label>"
            ]
          },
          "metadata": {},
          "execution_count": 49
        }
      ],
      "source": [
        "brand_counts = dfp['Brand'].value_counts()\n",
        "less_50_brand = brand_counts[brand_counts < 50].index.tolist()\n",
        "dfp[\"Brand\"] = np.where(dfp['Brand'].isin(less_50_brand), 'Other', dfp['Brand'])\n",
        "dfp[\"Brand\"].value_counts()"
      ]
    },
    {
      "cell_type": "code",
      "execution_count": 50,
      "id": "41786a7b",
      "metadata": {
        "execution": {
          "iopub.execute_input": "2024-08-18T05:00:41.226272Z",
          "iopub.status.busy": "2024-08-18T05:00:41.225824Z",
          "iopub.status.idle": "2024-08-18T05:00:41.627570Z",
          "shell.execute_reply": "2024-08-18T05:00:41.626255Z"
        },
        "papermill": {
          "duration": 0.445457,
          "end_time": "2024-08-18T05:00:41.630473",
          "exception": false,
          "start_time": "2024-08-18T05:00:41.185016",
          "status": "completed"
        },
        "tags": [],
        "colab": {
          "base_uri": "https://localhost:8080/",
          "height": 564
        },
        "id": "41786a7b",
        "outputId": "e19e06c7-14a2-40aa-944d-c799eaf19240"
      },
      "outputs": [
        {
          "output_type": "execute_result",
          "data": {
            "text/plain": [
              "<Axes: >"
            ]
          },
          "metadata": {},
          "execution_count": 50
        },
        {
          "output_type": "display_data",
          "data": {
            "text/plain": [
              "<Figure size 640x480 with 2 Axes>"
            ],
            "image/png": "[encoded data removed]"
          },
          "metadata": {}
        }
      ],
      "source": [
        "sns.heatmap(dfp[num_cols].corr(),cmap=\"jet\",vmin=-1)"
      ]
    },
    {
      "cell_type": "code",
      "execution_count": 51,
      "id": "a8d11694",
      "metadata": {
        "execution": {
          "iopub.execute_input": "2024-08-18T05:00:41.714824Z",
          "iopub.status.busy": "2024-08-18T05:00:41.714379Z",
          "iopub.status.idle": "2024-08-18T05:00:41.727515Z",
          "shell.execute_reply": "2024-08-18T05:00:41.725726Z"
        },
        "papermill": {
          "duration": 0.059181,
          "end_time": "2024-08-18T05:00:41.730248",
          "exception": false,
          "start_time": "2024-08-18T05:00:41.671067",
          "status": "completed"
        },
        "tags": [],
        "colab": {
          "base_uri": "https://localhost:8080/",
          "height": 272
        },
        "id": "a8d11694",
        "outputId": "5af63b3f-052e-4f9a-eed2-d8b2788e429b"
      },
      "outputs": [
        {
          "output_type": "execute_result",
          "data": {
            "text/plain": [
              "Price                1.000000\n",
              "Resolution_Height    0.250542\n",
              "SSD                  0.233051\n",
              "Resolution_Width     0.213576\n",
              "Screen_Size          0.155904\n",
              "HDD                  0.008442\n",
              "Name: Price, dtype: float64"
            ],
            "text/html": [
              "<div>\n",
              "<style scoped>\n",
              "    .dataframe tbody tr th:only-of-type {\n",
              "        vertical-align: middle;\n",
              "    }\n",
              "\n",
              "    .dataframe tbody tr th {\n",
              "        vertical-align: top;\n",
              "    }\n",
              "\n",
              "    .dataframe thead th {\n",
              "        text-align: right;\n",
              "    }\n",
              "</style>\n",
              "<table border=\"1\" class=\"dataframe\">\n",
              "  <thead>\n",
              "    <tr style=\"text-align: right;\">\n",
              "      <th></th>\n",
              "      <th>Price</th>\n",
              "    </tr>\n",
              "  </thead>\n",
              "  <tbody>\n",
              "    <tr>\n",
              "      <th>Price</th>\n",
              "      <td>1.000000</td>\n",
              "    </tr>\n",
              "    <tr>\n",
              "      <th>Resolution_Height</th>\n",
              "      <td>0.250542</td>\n",
              "    </tr>\n",
              "    <tr>\n",
              "      <th>SSD</th>\n",
              "      <td>0.233051</td>\n",
              "    </tr>\n",
              "    <tr>\n",
              "      <th>Resolution_Width</th>\n",
              "      <td>0.213576</td>\n",
              "    </tr>\n",
              "    <tr>\n",
              "      <th>Screen_Size</th>\n",
              "      <td>0.155904</td>\n",
              "    </tr>\n",
              "    <tr>\n",
              "      <th>HDD</th>\n",
              "      <td>0.008442</td>\n",
              "    </tr>\n",
              "  </tbody>\n",
              "</table>\n",
              "</div><br><label><b>dtype:</b> float64</label>"
            ]
          },
          "metadata": {},
          "execution_count": 51
        }
      ],
      "source": [
        "dfp[num_cols].corr()[\"Price\"].sort_values(ascending=False)"
      ]
    },
    {
      "cell_type": "markdown",
      "id": "0838f82d",
      "metadata": {
        "papermill": {
          "duration": 0.039997,
          "end_time": "2024-08-18T05:00:41.972893",
          "exception": false,
          "start_time": "2024-08-18T05:00:41.932896",
          "status": "completed"
        },
        "tags": [],
        "id": "0838f82d"
      },
      "source": [
        "## 4. Feature Engineering"
      ]
    },
    {
      "cell_type": "code",
      "execution_count": 52,
      "id": "b72e597c",
      "metadata": {
        "execution": {
          "iopub.execute_input": "2024-08-18T05:00:42.055591Z",
          "iopub.status.busy": "2024-08-18T05:00:42.054272Z",
          "iopub.status.idle": "2024-08-18T05:00:42.064783Z",
          "shell.execute_reply": "2024-08-18T05:00:42.063599Z"
        },
        "papermill": {
          "duration": 0.054366,
          "end_time": "2024-08-18T05:00:42.067307",
          "exception": false,
          "start_time": "2024-08-18T05:00:42.012941",
          "status": "completed"
        },
        "tags": [],
        "id": "b72e597c"
      },
      "outputs": [],
      "source": [
        "dfp[\"PPI\"] = np.sqrt(dfp[\"Resolution_Width\"]**2 + dfp[\"Resolution_Height\"]**2)/dfp[\"Screen_Size\"]\n",
        "dfp.drop([\"Resolution_Width\",\"Resolution_Height\",\"Screen_Size\"],axis=1,inplace=True)"
      ]
    },
    {
      "cell_type": "markdown",
      "id": "14aad579",
      "metadata": {
        "papermill": {
          "duration": 0.040152,
          "end_time": "2024-08-18T05:00:42.147458",
          "exception": false,
          "start_time": "2024-08-18T05:00:42.107306",
          "status": "completed"
        },
        "tags": [],
        "id": "14aad579"
      },
      "source": [
        "#### Encoding"
      ]
    },
    {
      "cell_type": "code",
      "execution_count": 53,
      "id": "6dd94e08",
      "metadata": {
        "execution": {
          "iopub.execute_input": "2024-08-18T05:00:42.232763Z",
          "iopub.status.busy": "2024-08-18T05:00:42.232311Z",
          "iopub.status.idle": "2024-08-18T05:00:42.241282Z",
          "shell.execute_reply": "2024-08-18T05:00:42.240060Z"
        },
        "papermill": {
          "duration": 0.054412,
          "end_time": "2024-08-18T05:00:42.243956",
          "exception": false,
          "start_time": "2024-08-18T05:00:42.189544",
          "status": "completed"
        },
        "tags": [],
        "colab": {
          "base_uri": "https://localhost:8080/",
          "height": 0
        },
        "id": "6dd94e08",
        "outputId": "5d108d17-6e54-491a-f466-34468dc18140"
      },
      "outputs": [
        {
          "output_type": "execute_result",
          "data": {
            "text/plain": [
              "array(['Very Good - Refurbished', 'New', 'Open box',\n",
              "       'Excellent - Refurbished', 'Good - Refurbished'], dtype=object)"
            ]
          },
          "metadata": {},
          "execution_count": 53
        }
      ],
      "source": [
        "dfp[\"Condition\"].unique()"
      ]
    },
    {
      "cell_type": "code",
      "execution_count": 54,
      "id": "d44b4538",
      "metadata": {
        "execution": {
          "iopub.execute_input": "2024-08-18T05:00:42.331661Z",
          "iopub.status.busy": "2024-08-18T05:00:42.330176Z",
          "iopub.status.idle": "2024-08-18T05:00:42.345594Z",
          "shell.execute_reply": "2024-08-18T05:00:42.344391Z"
        },
        "papermill": {
          "duration": 0.062988,
          "end_time": "2024-08-18T05:00:42.348385",
          "exception": false,
          "start_time": "2024-08-18T05:00:42.285397",
          "status": "completed"
        },
        "tags": [],
        "id": "d44b4538"
      },
      "outputs": [],
      "source": [
        "ordinal_enc = OrdinalEncoder(categories=[[\n",
        "    'New', 'Open box', 'Excellent - Refurbished',\n",
        "    'Very Good - Refurbished', 'Good - Refurbished'\n",
        "    ]]).set_output(transform=\"pandas\")\n",
        "condition_df = ordinal_enc.fit_transform(np.array(dfp[\"Condition\"]).reshape(-1,1)).reset_index(drop=True)\n",
        "df_encoded = pd.concat([dfp.select_dtypes(include=\"object\").reset_index(drop=True), condition_df], axis=1)\n",
        "df_encoded.drop(\"Condition\",axis=1,inplace=True)\n",
        "df_encoded = df_encoded.rename(columns={\"x0\":\"Condition\"})"
      ]
    },
    {
      "cell_type": "code",
      "execution_count": 55,
      "id": "75d2d3c3",
      "metadata": {
        "execution": {
          "iopub.execute_input": "2024-08-18T05:00:42.446373Z",
          "iopub.status.busy": "2024-08-18T05:00:42.445389Z",
          "iopub.status.idle": "2024-08-18T05:00:42.473140Z",
          "shell.execute_reply": "2024-08-18T05:00:42.471715Z"
        },
        "papermill": {
          "duration": 0.083609,
          "end_time": "2024-08-18T05:00:42.476998",
          "exception": false,
          "start_time": "2024-08-18T05:00:42.393389",
          "status": "completed"
        },
        "tags": [],
        "id": "75d2d3c3"
      },
      "outputs": [],
      "source": [
        "onehot_df = df_encoded.select_dtypes(include=\"object\").reset_index(drop=True)\n",
        "encoder = OneHotEncoder()\n",
        "onehot_encoded_df = encoder.fit_transform(onehot_df)\n",
        "df_encoded = pd.concat([df_encoded, pd.DataFrame(onehot_encoded_df.toarray(), columns=encoder.get_feature_names_out())], axis=1)\n",
        "df_encoded.drop(df_encoded.select_dtypes(include=\"object\").columns,axis=1,inplace=True)"
      ]
    },
    {
      "cell_type": "code",
      "execution_count": 56,
      "id": "8d34a79f",
      "metadata": {
        "execution": {
          "iopub.execute_input": "2024-08-18T05:00:42.569280Z",
          "iopub.status.busy": "2024-08-18T05:00:42.568817Z",
          "iopub.status.idle": "2024-08-18T05:00:42.577757Z",
          "shell.execute_reply": "2024-08-18T05:00:42.576498Z"
        },
        "papermill": {
          "duration": 0.055703,
          "end_time": "2024-08-18T05:00:42.580366",
          "exception": false,
          "start_time": "2024-08-18T05:00:42.524663",
          "status": "completed"
        },
        "tags": [],
        "id": "8d34a79f"
      },
      "outputs": [],
      "source": [
        "df_final = pd.concat([dfp.select_dtypes(include=[\"int\",\"float\"]).reset_index(drop=True),df_encoded],axis=1)"
      ]
    },
    {
      "cell_type": "markdown",
      "id": "c1c25954",
      "metadata": {
        "papermill": {
          "duration": 0.041031,
          "end_time": "2024-08-18T05:00:42.662106",
          "exception": false,
          "start_time": "2024-08-18T05:00:42.621075",
          "status": "completed"
        },
        "tags": [],
        "id": "c1c25954"
      },
      "source": [
        "#### Train Test Split"
      ]
    },
    {
      "cell_type": "code",
      "execution_count": 57,
      "id": "7b2ba850",
      "metadata": {
        "execution": {
          "iopub.execute_input": "2024-08-18T05:00:42.745865Z",
          "iopub.status.busy": "2024-08-18T05:00:42.745450Z",
          "iopub.status.idle": "2024-08-18T05:00:42.757503Z",
          "shell.execute_reply": "2024-08-18T05:00:42.756302Z"
        },
        "papermill": {
          "duration": 0.056918,
          "end_time": "2024-08-18T05:00:42.760101",
          "exception": false,
          "start_time": "2024-08-18T05:00:42.703183",
          "status": "completed"
        },
        "tags": [],
        "id": "7b2ba850"
      },
      "outputs": [],
      "source": [
        "y = df_final[\"Price\"]\n",
        "X = df_final.drop(\"Price\",axis=1)\n",
        "X_train, X_test, y_train, y_test = train_test_split(X, y, test_size=0.33, random_state=42)"
      ]
    },
    {
      "cell_type": "markdown",
      "id": "c6467df2",
      "metadata": {
        "papermill": {
          "duration": 0.041275,
          "end_time": "2024-08-18T05:00:42.842122",
          "exception": false,
          "start_time": "2024-08-18T05:00:42.800847",
          "status": "completed"
        },
        "tags": [],
        "id": "c6467df2"
      },
      "source": [
        "## 5. Model Development"
      ]
    },
    {
      "cell_type": "code",
      "execution_count": 58,
      "id": "1ef6cb67",
      "metadata": {
        "execution": {
          "iopub.execute_input": "2024-08-18T05:00:42.925296Z",
          "iopub.status.busy": "2024-08-18T05:00:42.924859Z",
          "iopub.status.idle": "2024-08-18T05:00:42.973135Z",
          "shell.execute_reply": "2024-08-18T05:00:42.971243Z"
        },
        "papermill": {
          "duration": 0.094872,
          "end_time": "2024-08-18T05:00:42.977380",
          "exception": false,
          "start_time": "2024-08-18T05:00:42.882508",
          "status": "completed"
        },
        "tags": [],
        "colab": {
          "base_uri": "https://localhost:8080/",
          "height": 0
        },
        "id": "1ef6cb67",
        "outputId": "21e12a22-21f9-437e-d85c-101f114fac0a"
      },
      "outputs": [
        {
          "output_type": "stream",
          "name": "stdout",
          "text": [
            "Linear Regression\n",
            "R-squared : 0.3936875743366143\n",
            "RMSE\t : 179.00786832622782\n"
          ]
        }
      ],
      "source": [
        "# Linear Regression\n",
        "LR = LinearRegression()\n",
        "LR.fit(X_train,y_train)\n",
        "y_pred = LR.predict(X_test)\n",
        "r2_LR = r2_score(y_test, y_pred)\n",
        "rmse_LR = np.sqrt(mean_squared_error(y_test, y_pred))\n",
        "print(\"Linear Regression\")\n",
        "print(f\"R-squared : {r2_LR}\\nRMSE\\t : {rmse_LR}\")"
      ]
    },
    {
      "cell_type": "code",
      "execution_count": 59,
      "id": "ebc81ea4",
      "metadata": {
        "execution": {
          "iopub.execute_input": "2024-08-18T05:00:43.131131Z",
          "iopub.status.busy": "2024-08-18T05:00:43.130717Z",
          "iopub.status.idle": "2024-08-18T05:00:43.163905Z",
          "shell.execute_reply": "2024-08-18T05:00:43.161783Z"
        },
        "papermill": {
          "duration": 0.078649,
          "end_time": "2024-08-18T05:00:43.167919",
          "exception": false,
          "start_time": "2024-08-18T05:00:43.089270",
          "status": "completed"
        },
        "tags": [],
        "colab": {
          "base_uri": "https://localhost:8080/",
          "height": 0
        },
        "id": "ebc81ea4",
        "outputId": "cd60f445-aaf5-466a-9db6-d4a776910378"
      },
      "outputs": [
        {
          "output_type": "stream",
          "name": "stdout",
          "text": [
            "Lasso Regression\n",
            "R-squared : 0.38979216711797726\n",
            "RMSE\t : 179.58198827480953\n"
          ]
        }
      ],
      "source": [
        "# Lasso Regression\n",
        "LS = Lasso()\n",
        "LS.fit(X_train,y_train)\n",
        "y_pred = LS.predict(X_test)\n",
        "r2_lasso = r2_score(y_test, y_pred)\n",
        "rmse_lasso = np.sqrt(mean_squared_error(y_test, y_pred))\n",
        "print(\"Lasso Regression\")\n",
        "print(f\"R-squared : {r2_lasso}\\nRMSE\\t : {rmse_lasso}\")"
      ]
    },
    {
      "cell_type": "code",
      "execution_count": 60,
      "id": "906c5e3f",
      "metadata": {
        "execution": {
          "iopub.execute_input": "2024-08-18T05:00:43.327523Z",
          "iopub.status.busy": "2024-08-18T05:00:43.327068Z",
          "iopub.status.idle": "2024-08-18T05:00:43.773406Z",
          "shell.execute_reply": "2024-08-18T05:00:43.771575Z"
        },
        "papermill": {
          "duration": 0.49181,
          "end_time": "2024-08-18T05:00:43.776341",
          "exception": false,
          "start_time": "2024-08-18T05:00:43.284531",
          "status": "completed"
        },
        "tags": [],
        "colab": {
          "base_uri": "https://localhost:8080/",
          "height": 0
        },
        "id": "906c5e3f",
        "outputId": "3c7d4a17-4496-4f2b-c8bb-e7c58d705e52"
      },
      "outputs": [
        {
          "output_type": "stream",
          "name": "stdout",
          "text": [
            "Support Vector Machine\n",
            "R-squared : 0.3705830435500116\n",
            "RMSE\t : 182.38667493888013\n"
          ]
        }
      ],
      "source": [
        "# Suppor Vector Regression\n",
        "svr = SVR(C=100, degree=4, gamma=\"auto\")\n",
        "svr.fit(X_train,y_train)\n",
        "y_pred = svr.predict(X_test)\n",
        "r2_svr = r2_score(y_test, y_pred)\n",
        "rmse_svr = np.sqrt(mean_squared_error(y_test, y_pred))\n",
        "print(\"Support Vector Machine\")\n",
        "print(f\"R-squared : {r2_svr}\\nRMSE\\t : {rmse_svr}\")"
      ]
    },
    {
      "cell_type": "code",
      "execution_count": 61,
      "id": "09f3f141",
      "metadata": {
        "execution": {
          "iopub.execute_input": "2024-08-18T05:00:43.862863Z",
          "iopub.status.busy": "2024-08-18T05:00:43.862473Z",
          "iopub.status.idle": "2024-08-18T05:00:44.150194Z",
          "shell.execute_reply": "2024-08-18T05:00:44.148797Z"
        },
        "papermill": {
          "duration": 0.333653,
          "end_time": "2024-08-18T05:00:44.152839",
          "exception": false,
          "start_time": "2024-08-18T05:00:43.819186",
          "status": "completed"
        },
        "tags": [],
        "colab": {
          "base_uri": "https://localhost:8080/",
          "height": 0
        },
        "id": "09f3f141",
        "outputId": "e4f4b6db-c4dc-41ea-afa5-9f225eb09f00"
      },
      "outputs": [
        {
          "output_type": "stream",
          "name": "stdout",
          "text": [
            "Random Forest Regression\n",
            "R-squared : 0.49499364336913676\n",
            "RMSE\t : 163.3699999509057\n"
          ]
        }
      ],
      "source": [
        "# Random Forest Regression\n",
        "forest = RandomForestRegressor( n_estimators=96, max_depth=19,\n",
        "                                max_features=\"log2\", min_samples_leaf=2,\n",
        "                                min_samples_split=8, bootstrap=False,\n",
        "                                random_state=42)\n",
        "forest.fit(X_train,y_train) # Train the model\n",
        "y_pred = forest.predict(X_test) # Predict the dependent variable using trained model\n",
        "r2_forest = r2_score(y_test, y_pred)\n",
        "rmse_forest = np.sqrt(mean_squared_error(y_test, y_pred))\n",
        "print(\"Random Forest Regression\")\n",
        "print(f\"R-squared : {r2_forest}\\nRMSE\\t : {rmse_forest}\")"
      ]
    },
    {
      "cell_type": "code",
      "execution_count": 62,
      "id": "0eb218ce",
      "metadata": {
        "execution": {
          "iopub.execute_input": "2024-08-18T05:00:44.240184Z",
          "iopub.status.busy": "2024-08-18T05:00:44.239747Z",
          "iopub.status.idle": "2024-08-18T05:00:44.440403Z",
          "shell.execute_reply": "2024-08-18T05:00:44.439396Z"
        },
        "papermill": {
          "duration": 0.248515,
          "end_time": "2024-08-18T05:00:44.443179",
          "exception": false,
          "start_time": "2024-08-18T05:00:44.194664",
          "status": "completed"
        },
        "tags": [],
        "colab": {
          "base_uri": "https://localhost:8080/",
          "height": 0
        },
        "id": "0eb218ce",
        "outputId": "05e5319d-403b-45e5-f313-ba7b742c9188"
      },
      "outputs": [
        {
          "output_type": "stream",
          "name": "stdout",
          "text": [
            "XGBoost Regression\n",
            "R-squared : 0.4875466077373465\n",
            "RMSE\t : 164.57015293726042\n"
          ]
        }
      ],
      "source": [
        "# XGBoost Regression\n",
        "xgboost = XGBRegressor(n_estimators=120, max_depth=5)\n",
        "xgboost.fit(X_train,y_train)\n",
        "y_pred = xgboost.predict(X_test)\n",
        "r2_xgboost = r2_score(y_test, y_pred)\n",
        "rmse_xgboost = np.sqrt(mean_squared_error(y_test, y_pred))\n",
        "print(\"XGBoost Regression\")\n",
        "print(f\"R-squared : {r2_xgboost}\\nRMSE\\t : {rmse_xgboost}\")"
      ]
    },
    {
      "cell_type": "code",
      "execution_count": 63,
      "id": "37e6a65a",
      "metadata": {
        "execution": {
          "iopub.execute_input": "2024-08-18T05:00:44.528276Z",
          "iopub.status.busy": "2024-08-18T05:00:44.527871Z",
          "iopub.status.idle": "2024-08-18T05:00:44.538910Z",
          "shell.execute_reply": "2024-08-18T05:00:44.537467Z"
        },
        "papermill": {
          "duration": 0.056168,
          "end_time": "2024-08-18T05:00:44.541652",
          "exception": false,
          "start_time": "2024-08-18T05:00:44.485484",
          "status": "completed"
        },
        "tags": [],
        "id": "37e6a65a"
      },
      "outputs": [],
      "source": [
        "r2 = pd.DataFrame({\n",
        "    \"Linear\" : float(\"{:.4f}\".format(r2_LR)),\n",
        "    \"SVM\": float(\"{:.4f}\".format(r2_LR)),\n",
        "    \"Random Forest\" : float(\"{:.4f}\".format(r2_forest)),\n",
        "    \"XGBoost\" : float(\"{:.4f}\".format(r2_xgboost))\n",
        "      },index=range(1))\n",
        "\n",
        "rmse = pd.DataFrame({\n",
        "    \"Linear\" : float(\"{:.4f}\".format(rmse_LR)),\n",
        "    \"SVM\": float(\"{:.4f}\".format(rmse_LR)),\n",
        "    \"Random Forest\" : float(\"{:.4f}\".format(rmse_forest)),\n",
        "    \"XGBoost\" : float(\"{:.4f}\".format(rmse_xgboost))\n",
        "      },index=range(1))"
      ]
    },
    {
      "cell_type": "code",
      "execution_count": 64,
      "id": "b42a45e3",
      "metadata": {
        "execution": {
          "iopub.execute_input": "2024-08-18T05:00:44.626336Z",
          "iopub.status.busy": "2024-08-18T05:00:44.625913Z",
          "iopub.status.idle": "2024-08-18T05:00:44.936985Z",
          "shell.execute_reply": "2024-08-18T05:00:44.935734Z"
        },
        "papermill": {
          "duration": 0.356475,
          "end_time": "2024-08-18T05:00:44.939734",
          "exception": false,
          "start_time": "2024-08-18T05:00:44.583259",
          "status": "completed"
        },
        "tags": [],
        "colab": {
          "base_uri": "https://localhost:8080/",
          "height": 391
        },
        "id": "b42a45e3",
        "outputId": "d70d3c3d-f1c1-4faf-a12a-ef1c0c60d3ba"
      },
      "outputs": [
        {
          "output_type": "display_data",
          "data": {
            "text/plain": [
              "<Figure size 500x400 with 1 Axes>"
            ],
            "image/png": "[encoded data removed]"
          },
          "metadata": {}
        }
      ],
      "source": [
        "plt.figure(figsize=(5,4))\n",
        "sns.barplot(data=r2, palette=\"pastel\")\n",
        "plt.title(\"R-squared score of Models\")\n",
        "for p in plt.gca().patches:\n",
        "    plt.annotate('{:.2f}'.format(p.get_height()), (p.get_x()+0.25, p.get_height()+0.005))"
      ]
    },
    {
      "cell_type": "code",
      "execution_count": 65,
      "id": "d18eb58c",
      "metadata": {
        "execution": {
          "iopub.execute_input": "2024-08-18T05:00:45.027091Z",
          "iopub.status.busy": "2024-08-18T05:00:45.026658Z",
          "iopub.status.idle": "2024-08-18T05:00:45.293073Z",
          "shell.execute_reply": "2024-08-18T05:00:45.291849Z"
        },
        "papermill": {
          "duration": 0.313571,
          "end_time": "2024-08-18T05:00:45.295757",
          "exception": false,
          "start_time": "2024-08-18T05:00:44.982186",
          "status": "completed"
        },
        "tags": [],
        "colab": {
          "base_uri": "https://localhost:8080/",
          "height": 391
        },
        "id": "d18eb58c",
        "outputId": "606ed4a9-8656-461c-af31-4eee461d740e"
      },
      "outputs": [
        {
          "output_type": "display_data",
          "data": {
            "text/plain": [
              "<Figure size 500x400 with 1 Axes>"
            ],
            "image/png": "[encoded data removed]"
          },
          "metadata": {}
        }
      ],
      "source": [
        "plt.figure(figsize=(5,4))\n",
        "sns.barplot(data=rmse, palette=\"pastel\")\n",
        "plt.title(\"RMSE score of Models\")\n",
        "for p in plt.gca().patches:\n",
        "    plt.annotate('{:.4f}'.format(p.get_height()), (p.get_x()+0.075, p.get_height()+0.005))"
      ]
    },
    {
      "cell_type": "code",
      "execution_count": 66,
      "id": "15e45e9c",
      "metadata": {
        "execution": {
          "iopub.execute_input": "2024-08-18T05:00:45.386355Z",
          "iopub.status.busy": "2024-08-18T05:00:45.385947Z",
          "iopub.status.idle": "2024-08-18T05:00:45.407444Z",
          "shell.execute_reply": "2024-08-18T05:00:45.406141Z"
        },
        "papermill": {
          "duration": 0.070906,
          "end_time": "2024-08-18T05:00:45.410000",
          "exception": false,
          "start_time": "2024-08-18T05:00:45.339094",
          "status": "completed"
        },
        "tags": [],
        "colab": {
          "base_uri": "https://localhost:8080/",
          "height": 363
        },
        "id": "15e45e9c",
        "outputId": "6e88d565-90df-4be1-dd3e-d4b02e8f4b88"
      },
      "outputs": [
        {
          "output_type": "execute_result",
          "data": {
            "text/plain": [
              "                    Feature  Importance\n",
              "3                 Condition    0.209591\n",
              "0                       SSD    0.173364\n",
              "2                       PPI    0.116748\n",
              "24           GPU_Intel Iris    0.064992\n",
              "23             GPU_Intel HD    0.064011\n",
              "25            GPU_Intel UHD    0.060583\n",
              "20  Processor_Intel Core i7    0.048402\n",
              "18  Processor_Intel Core i3    0.041282\n",
              "19  Processor_Intel Core i5    0.026666\n",
              "6                Brand_Dell    0.025210"
            ],
            "text/html": [
              "\n",
              "  <div id=\"df-ed241b51-9b57-47c2-88da-3fcab3e91302\" class=\"colab-df-container\">\n",
              "    <div>\n",
              "<style scoped>\n",
              "    .dataframe tbody tr th:only-of-type {\n",
              "        vertical-align: middle;\n",
              "    }\n",
              "\n",
              "    .dataframe tbody tr th {\n",
              "        vertical-align: top;\n",
              "    }\n",
              "\n",
              "    .dataframe thead th {\n",
              "        text-align: right;\n",
              "    }\n",
              "</style>\n",
              "<table border=\"1\" class=\"dataframe\">\n",
              "  <thead>\n",
              "    <tr style=\"text-align: right;\">\n",
              "      <th></th>\n",
              "      <th>Feature</th>\n",
              "      <th>Importance</th>\n",
              "    </tr>\n",
              "  </thead>\n",
              "  <tbody>\n",
              "    <tr>\n",
              "      <th>3</th>\n",
              "      <td>Condition</td>\n",
              "      <td>0.209591</td>\n",
              "    </tr>\n",
              "    <tr>\n",
              "      <th>0</th>\n",
              "      <td>SSD</td>\n",
              "      <td>0.173364</td>\n",
              "    </tr>\n",
              "    <tr>\n",
              "      <th>2</th>\n",
              "      <td>PPI</td>\n",
              "      <td>0.116748</td>\n",
              "    </tr>\n",
              "    <tr>\n",
              "      <th>24</th>\n",
              "      <td>GPU_Intel Iris</td>\n",
              "      <td>0.064992</td>\n",
              "    </tr>\n",
              "    <tr>\n",
              "      <th>23</th>\n",
              "      <td>GPU_Intel HD</td>\n",
              "      <td>0.064011</td>\n",
              "    </tr>\n",
              "    <tr>\n",
              "      <th>25</th>\n",
              "      <td>GPU_Intel UHD</td>\n",
              "      <td>0.060583</td>\n",
              "    </tr>\n",
              "    <tr>\n",
              "      <th>20</th>\n",
              "      <td>Processor_Intel Core i7</td>\n",
              "      <td>0.048402</td>\n",
              "    </tr>\n",
              "    <tr>\n",
              "      <th>18</th>\n",
              "      <td>Processor_Intel Core i3</td>\n",
              "      <td>0.041282</td>\n",
              "    </tr>\n",
              "    <tr>\n",
              "      <th>19</th>\n",
              "      <td>Processor_Intel Core i5</td>\n",
              "      <td>0.026666</td>\n",
              "    </tr>\n",
              "    <tr>\n",
              "      <th>6</th>\n",
              "      <td>Brand_Dell</td>\n",
              "      <td>0.025210</td>\n",
              "    </tr>\n",
              "  </tbody>\n",
              "</table>\n",
              "</div>\n",
              "    <div class=\"colab-df-buttons\">\n",
              "\n",
              "  <div class=\"colab-df-container\">\n",
              "    <button class=\"colab-df-convert\" onclick=\"convertToInteractive('df-ed241b51-9b57-47c2-88da-3fcab3e91302')\"\n",
              "            title=\"Convert this dataframe to an interactive table.\"\n",
              "            style=\"display:none;\">\n",
              "\n",
              "  <svg xmlns=\"http://www.w3.org/2000/svg\" height=\"24px\" viewBox=\"0 -960 960 960\">\n",
              "    <path d=\"M120-120v-720h720v720H120Zm60-500h600v-160H180v160Zm220 220h160v-160H400v160Zm0 220h160v-160H400v160ZM180-400h160v-160H180v160Zm440 0h160v-160H620v160ZM180-180h160v-160H180v160Zm440 0h160v-160H620v160Z\"/>\n",
              "  </svg>\n",
              "    </button>\n",
              "\n",
              "  <style>\n",
              "    .colab-df-container {\n",
              "      display:flex;\n",
              "      gap: 12px;\n",
              "    }\n",
              "\n",
              "    .colab-df-convert {\n",
              "      background-color: #E8F0FE;\n",
              "      border: none;\n",
              "      border-radius: 50%;\n",
              "      cursor: pointer;\n",
              "      display: none;\n",
              "      fill: #1967D2;\n",
              "      height: 32px;\n",
              "      padding: 0 0 0 0;\n",
              "      width: 32px;\n",
              "    }\n",
              "\n",
              "    .colab-df-convert:hover {\n",
              "      background-color: #E2EBFA;\n",
              "      box-shadow: 0px 1px 2px rgba(60, 64, 67, 0.3), 0px 1px 3px 1px rgba(60, 64, 67, 0.15);\n",
              "      fill: #174EA6;\n",
              "    }\n",
              "\n",
              "    .colab-df-buttons div {\n",
              "      margin-bottom: 4px;\n",
              "    }\n",
              "\n",
              "    [theme=dark] .colab-df-convert {\n",
              "      background-color: #3B4455;\n",
              "      fill: #D2E3FC;\n",
              "    }\n",
              "\n",
              "    [theme=dark] .colab-df-convert:hover {\n",
              "      background-color: #434B5C;\n",
              "      box-shadow: 0px 1px 3px 1px rgba(0, 0, 0, 0.15);\n",
              "      filter: drop-shadow(0px 1px 2px rgba(0, 0, 0, 0.3));\n",
              "      fill: #FFFFFF;\n",
              "    }\n",
              "  </style>\n",
              "\n",
              "    <script>\n",
              "      const buttonEl =\n",
              "        document.querySelector('#df-ed241b51-9b57-47c2-88da-3fcab3e91302 button.colab-df-convert');\n",
              "      buttonEl.style.display =\n",
              "        google.colab.kernel.accessAllowed ? 'block' : 'none';\n",
              "\n",
              "      async function convertToInteractive(key) {\n",
              "        const element = document.querySelector('#df-ed241b51-9b57-47c2-88da-3fcab3e91302');\n",
              "        const dataTable =\n",
              "          await google.colab.kernel.invokeFunction('convertToInteractive',\n",
              "                                                    [key], {});\n",
              "        if (!dataTable) return;\n",
              "\n",
              "        const docLinkHtml = 'Like what you see? Visit the ' +\n",
              "          '<a target=\"_blank\" href=https://colab.research.google.com/notebooks/data_table.ipynb>data table notebook</a>'\n",
              "          + ' to learn more about interactive tables.';\n",
              "        element.innerHTML = '';\n",
              "        dataTable['output_type'] = 'display_data';\n",
              "        await google.colab.output.renderOutput(dataTable, element);\n",
              "        const docLink = document.createElement('div');\n",
              "        docLink.innerHTML = docLinkHtml;\n",
              "        element.appendChild(docLink);\n",
              "      }\n",
              "    </script>\n",
              "  </div>\n",
              "\n",
              "\n",
              "<div id=\"df-b82d1c42-2845-443e-8efe-a02a30b9d7b6\">\n",
              "  <button class=\"colab-df-quickchart\" onclick=\"quickchart('df-b82d1c42-2845-443e-8efe-a02a30b9d7b6')\"\n",
              "            title=\"Suggest charts\"\n",
              "            style=\"display:none;\">\n",
              "\n",
              "<svg xmlns=\"http://www.w3.org/2000/svg\" height=\"24px\"viewBox=\"0 0 24 24\"\n",
              "     width=\"24px\">\n",
              "    <g>\n",
              "        <path d=\"M19 3H5c-1.1 0-2 .9-2 2v14c0 1.1.9 2 2 2h14c1.1 0 2-.9 2-2V5c0-1.1-.9-2-2-2zM9 17H7v-7h2v7zm4 0h-2V7h2v10zm4 0h-2v-4h2v4z\"/>\n",
              "    </g>\n",
              "</svg>\n",
              "  </button>\n",
              "\n",
              "<style>\n",
              "  .colab-df-quickchart {\n",
              "      --bg-color: #E8F0FE;\n",
              "      --fill-color: #1967D2;\n",
              "      --hover-bg-color: #E2EBFA;\n",
              "      --hover-fill-color: #174EA6;\n",
              "      --disabled-fill-color: #AAA;\n",
              "      --disabled-bg-color: #DDD;\n",
              "  }\n",
              "\n",
              "  [theme=dark] .colab-df-quickchart {\n",
              "      --bg-color: #3B4455;\n",
              "      --fill-color: #D2E3FC;\n",
              "      --hover-bg-color: #434B5C;\n",
              "      --hover-fill-color: #FFFFFF;\n",
              "      --disabled-bg-color: #3B4455;\n",
              "      --disabled-fill-color: #666;\n",
              "  }\n",
              "\n",
              "  .colab-df-quickchart {\n",
              "    background-color: var(--bg-color);\n",
              "    border: none;\n",
              "    border-radius: 50%;\n",
              "    cursor: pointer;\n",
              "    display: none;\n",
              "    fill: var(--fill-color);\n",
              "    height: 32px;\n",
              "    padding: 0;\n",
              "    width: 32px;\n",
              "  }\n",
              "\n",
              "  .colab-df-quickchart:hover {\n",
              "    background-color: var(--hover-bg-color);\n",
              "    box-shadow: 0 1px 2px rgba(60, 64, 67, 0.3), 0 1px 3px 1px rgba(60, 64, 67, 0.15);\n",
              "    fill: var(--button-hover-fill-color);\n",
              "  }\n",
              "\n",
              "  .colab-df-quickchart-complete:disabled,\n",
              "  .colab-df-quickchart-complete:disabled:hover {\n",
              "    background-color: var(--disabled-bg-color);\n",
              "    fill: var(--disabled-fill-color);\n",
              "    box-shadow: none;\n",
              "  }\n",
              "\n",
              "  .colab-df-spinner {\n",
              "    border: 2px solid var(--fill-color);\n",
              "    border-color: transparent;\n",
              "    border-bottom-color: var(--fill-color);\n",
              "    animation:\n",
              "      spin 1s steps(1) infinite;\n",
              "  }\n",
              "\n",
              "  @keyframes spin {\n",
              "    0% {\n",
              "      border-color: transparent;\n",
              "      border-bottom-color: var(--fill-color);\n",
              "      border-left-color: var(--fill-color);\n",
              "    }\n",
              "    20% {\n",
              "      border-color: transparent;\n",
              "      border-left-color: var(--fill-color);\n",
              "      border-top-color: var(--fill-color);\n",
              "    }\n",
              "    30% {\n",
              "      border-color: transparent;\n",
              "      border-left-color: var(--fill-color);\n",
              "      border-top-color: var(--fill-color);\n",
              "      border-right-color: var(--fill-color);\n",
              "    }\n",
              "    40% {\n",
              "      border-color: transparent;\n",
              "      border-right-color: var(--fill-color);\n",
              "      border-top-color: var(--fill-color);\n",
              "    }\n",
              "    60% {\n",
              "      border-color: transparent;\n",
              "      border-right-color: var(--fill-color);\n",
              "    }\n",
              "    80% {\n",
              "      border-color: transparent;\n",
              "      border-right-color: var(--fill-color);\n",
              "      border-bottom-color: var(--fill-color);\n",
              "    }\n",
              "    90% {\n",
              "      border-color: transparent;\n",
              "      border-bottom-color: var(--fill-color);\n",
              "    }\n",
              "  }\n",
              "</style>\n",
              "\n",
              "  <script>\n",
              "    async function quickchart(key) {\n",
              "      const quickchartButtonEl =\n",
              "        document.querySelector('#' + key + ' button');\n",
              "      quickchartButtonEl.disabled = true;  // To prevent multiple clicks.\n",
              "      quickchartButtonEl.classList.add('colab-df-spinner');\n",
              "      try {\n",
              "        const charts = await google.colab.kernel.invokeFunction(\n",
              "            'suggestCharts', [key], {});\n",
              "      } catch (error) {\n",
              "        console.error('Error during call to suggestCharts:', error);\n",
              "      }\n",
              "      quickchartButtonEl.classList.remove('colab-df-spinner');\n",
              "      quickchartButtonEl.classList.add('colab-df-quickchart-complete');\n",
              "    }\n",
              "    (() => {\n",
              "      let quickchartButtonEl =\n",
              "        document.querySelector('#df-b82d1c42-2845-443e-8efe-a02a30b9d7b6 button');\n",
              "      quickchartButtonEl.style.display =\n",
              "        google.colab.kernel.accessAllowed ? 'block' : 'none';\n",
              "    })();\n",
              "  </script>\n",
              "</div>\n",
              "\n",
              "    </div>\n",
              "  </div>\n"
            ],
            "application/vnd.google.colaboratory.intrinsic+json": {
              "type": "dataframe",
              "variable_name": "feature_importance_df",
              "summary": "{\n  \"name\": \"feature_importance_df\",\n  \"rows\": 32,\n  \"fields\": [\n    {\n      \"column\": \"Feature\",\n      \"properties\": {\n        \"dtype\": \"string\",\n        \"num_unique_values\": 32,\n        \"samples\": [\n          \"Processor_AMD Ryzen 3\",\n          \"Brand_HP\",\n          \"Brand_Acer\"\n        ],\n        \"semantic_type\": \"\",\n        \"description\": \"\"\n      }\n    },\n    {\n      \"column\": \"Importance\",\n      \"properties\": {\n        \"dtype\": \"number\",\n        \"std\": 0.04953626457819925,\n        \"min\": 0.0,\n        \"max\": 0.20959075739164398,\n        \"num_unique_values\": 32,\n        \"samples\": [\n          0.0009871648939785255,\n          0.011464357552610606,\n          0.003652681741617146\n        ],\n        \"semantic_type\": \"\",\n        \"description\": \"\"\n      }\n    }\n  ]\n}"
            }
          },
          "metadata": {},
          "execution_count": 66
        }
      ],
      "source": [
        "feature_names = X.columns\n",
        "importances = forest.feature_importances_\n",
        "feature_importance_df = pd.DataFrame({\n",
        "    'Feature': feature_names,\n",
        "    'Importance': importances\n",
        "})\n",
        "feature_importance_df = feature_importance_df.sort_values(by='Importance', ascending=False)\n",
        "feature_importance_df.head(10)"
      ]
    },
    {
      "cell_type": "markdown",
      "id": "f5ab70ff",
      "metadata": {
        "papermill": {
          "duration": 0.043382,
          "end_time": "2024-08-18T05:00:45.581500",
          "exception": false,
          "start_time": "2024-08-18T05:00:45.538118",
          "status": "completed"
        },
        "tags": [],
        "id": "f5ab70ff"
      },
      "source": [
        "## 6. Model Deployment"
      ]
    },
    {
      "cell_type": "code",
      "execution_count": 67,
      "id": "143a78ed",
      "metadata": {
        "execution": {
          "iopub.execute_input": "2024-08-18T05:00:45.670033Z",
          "iopub.status.busy": "2024-08-18T05:00:45.668793Z",
          "iopub.status.idle": "2024-08-18T05:00:45.681826Z",
          "shell.execute_reply": "2024-08-18T05:00:45.680633Z"
        },
        "papermill": {
          "duration": 0.05994,
          "end_time": "2024-08-18T05:00:45.684867",
          "exception": false,
          "start_time": "2024-08-18T05:00:45.624927",
          "status": "completed"
        },
        "tags": [],
        "id": "143a78ed"
      },
      "outputs": [],
      "source": [
        "categorical_features = list(set(dfp.select_dtypes(include=\"object\").columns)-set([\"Condition\"]))\n",
        "ordinal_features = [\"Condition\"]\n",
        "numeric_features = dfp.select_dtypes(include=[\"int\",\"float\"])\n",
        "\n",
        "ordinal_encoder = OrdinalEncoder(categories=[[\n",
        "    'New', 'Open box', 'Excellent - Refurbished',\n",
        "    'Very Good - Refurbished', 'Good - Refurbished'\n",
        "]])\n",
        "one_hot_encoder = OneHotEncoder(handle_unknown='ignore')\n",
        "\n",
        "preprocessor = ColumnTransformer(\n",
        "    transformers=[\n",
        "        ('onehot', one_hot_encoder, categorical_features),\n",
        "        ('ordinal', ordinal_encoder, ordinal_features)\n",
        "    ],\n",
        "    remainder='passthrough'\n",
        ")\n",
        "\n",
        "\n",
        "pipeline = Pipeline(steps=[\n",
        "    ('preprocessor', preprocessor),\n",
        "    ('regressor', RandomForestRegressor(n_estimators=96, max_depth=19,\n",
        "                                max_features=\"log2\", min_samples_leaf=2,\n",
        "                                min_samples_split=8, bootstrap=False,\n",
        "                                random_state=42))\n",
        "])"
      ]
    },
    {
      "cell_type": "code",
      "execution_count": 68,
      "id": "97cea72d",
      "metadata": {
        "execution": {
          "iopub.execute_input": "2024-08-18T05:00:45.785831Z",
          "iopub.status.busy": "2024-08-18T05:00:45.784651Z",
          "iopub.status.idle": "2024-08-18T05:00:45.798368Z",
          "shell.execute_reply": "2024-08-18T05:00:45.797002Z"
        },
        "papermill": {
          "duration": 0.073934,
          "end_time": "2024-08-18T05:00:45.801983",
          "exception": false,
          "start_time": "2024-08-18T05:00:45.728049",
          "status": "completed"
        },
        "tags": [],
        "id": "97cea72d"
      },
      "outputs": [],
      "source": [
        "X = dfp.drop(\"Price\", axis=1)\n",
        "y = dfp[\"Price\"]\n",
        "X_train, X_test, y_train, y_test = train_test_split(X, y, test_size=0.2, random_state=42)"
      ]
    },
    {
      "cell_type": "code",
      "execution_count": 69,
      "id": "9ad652d9",
      "metadata": {
        "execution": {
          "iopub.execute_input": "2024-08-18T05:00:45.896739Z",
          "iopub.status.busy": "2024-08-18T05:00:45.895818Z",
          "iopub.status.idle": "2024-08-18T05:00:46.793074Z",
          "shell.execute_reply": "2024-08-18T05:00:46.791480Z"
        },
        "papermill": {
          "duration": 0.946927,
          "end_time": "2024-08-18T05:00:46.796446",
          "exception": false,
          "start_time": "2024-08-18T05:00:45.849519",
          "status": "completed"
        },
        "tags": [],
        "colab": {
          "base_uri": "https://localhost:8080/",
          "height": 0
        },
        "id": "9ad652d9",
        "outputId": "ee60ae47-3ade-46aa-ed35-1f8d41a3c351"
      },
      "outputs": [
        {
          "output_type": "stream",
          "name": "stdout",
          "text": [
            "R-squared : 0.5141\n",
            "RMSE\t  : 156.4177\n"
          ]
        }
      ],
      "source": [
        "pipeline.fit(X_train, y_train)\n",
        "y_pred = pipeline.predict(X_test)\n",
        "print(\"R-squared : {:.4f}\".format(r2_score(y_test,y_pred)))\n",
        "print(\"RMSE\\t  : {:.4f}\".format(np.sqrt(mean_squared_error(y_test,y_pred))))"
      ]
    },
    {
      "cell_type": "code",
      "execution_count": 70,
      "id": "7fd7ecf2",
      "metadata": {
        "execution": {
          "iopub.execute_input": "2024-08-18T05:00:46.891207Z",
          "iopub.status.busy": "2024-08-18T05:00:46.890694Z",
          "iopub.status.idle": "2024-08-18T05:00:46.910821Z",
          "shell.execute_reply": "2024-08-18T05:00:46.909474Z"
        },
        "papermill": {
          "duration": 0.068351,
          "end_time": "2024-08-18T05:00:46.914034",
          "exception": false,
          "start_time": "2024-08-18T05:00:46.845683",
          "status": "completed"
        },
        "tags": [],
        "id": "7fd7ecf2"
      },
      "outputs": [],
      "source": [
        "import pickle\n",
        "with open('random_forest_model.pkl', 'wb') as file:\n",
        "    pickle.dump(pipeline, file)"
      ]
    }
  ],
  "metadata": {
    "kaggle": {
      "accelerator": "none",
      "dataSources": [
        {
          "datasetId": 5028106,
          "sourceId": 8449549,
          "sourceType": "datasetVersion"
        }
      ],
      "dockerImageVersionId": 30746,
      "isGpuEnabled": false,
      "isInternetEnabled": true,
      "language": "python",
      "sourceType": "notebook"
    },
    "kernelspec": {
      "display_name": "Python 3",
      "language": "python",
      "name": "python3"
    },
    "language_info": {
      "codemirror_mode": {
        "name": "ipython",
        "version": 3
      },
      "file_extension": ".py",
      "mimetype": "text/x-python",
      "name": "python",
      "nbconvert_exporter": "python",
      "pygments_lexer": "ipython3",
      "version": "3.10.13"
    },
    "papermill": {
      "default_parameters": {},
      "duration": 24.668006,
      "end_time": "2024-08-18T05:00:47.683751",
      "environment_variables": {},
      "exception": null,
      "input_path": "__notebook__.ipynb",
      "output_path": "__notebook__.ipynb",
      "parameters": {},
      "start_time": "2024-08-18T05:00:23.015745",
      "version": "2.5.0"
    },
    "colab": {
      "provenance": []
    }
  },
  "nbformat": 4,
  "nbformat_minor": 5
}